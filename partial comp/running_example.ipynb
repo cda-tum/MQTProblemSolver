{
 "cells": [
  {
   "cell_type": "markdown",
   "metadata": {},
   "source": [
    "# Evaluation QAOA"
   ]
  },
  {
   "cell_type": "code",
   "execution_count": null,
   "metadata": {},
   "outputs": [],
   "source": [
    "from mqt.problemsolver.partialcompiler import Partial_QAOA"
   ]
  },
  {
   "cell_type": "code",
   "execution_count": null,
   "metadata": {},
   "outputs": [],
   "source": [
    "from mqt.problemsolver.partialcompiler import evaluator\n",
    "for i in range(50,120,5):\n",
    "    print(\"num qubits:\", i)\n",
    "    for j in range(2,10,3):\n",
    "        print(\"num reps:\", j)\n",
    "        new, old = evaluator.evaluate_QAOA(num_qubits=i, repetitions=j)\n",
    "        print(i, j, new[0]/old[0], new[1]/old[1], new[2]/old[2])"
   ]
  },
  {
   "cell_type": "code",
   "execution_count": null,
   "metadata": {},
   "outputs": [],
   "source": []
  }
 ],
 "metadata": {
  "kernelspec": {
   "display_name": "Python 3 (ipykernel)",
   "language": "python",
   "name": "python3"
  },
  "language_info": {
   "codemirror_mode": {
    "name": "ipython",
    "version": 3
   },
   "file_extension": ".py",
   "mimetype": "text/x-python",
   "name": "python",
   "nbconvert_exporter": "python",
   "pygments_lexer": "ipython3"
  }
 },
 "nbformat": 4,
 "nbformat_minor": 1
}
