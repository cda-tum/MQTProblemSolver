{
 "cells": [
  {
   "cell_type": "markdown",
   "metadata": {},
   "source": [
    "# MaxCut"
   ]
  },
  {
   "cell_type": "code",
   "execution_count": null,
   "metadata": {},
   "outputs": [],
   "source": [
    "import networkx as nx\n",
    "import numpy as np\n",
    "import matplotlib.pyplot as plt\n",
    "from qiskit_optimization.applications import Maxcut"
   ]
  },
  {
   "cell_type": "code",
   "execution_count": null,
   "metadata": {},
   "outputs": [],
   "source": [
    "n=4 # Number of nodes in graph\n",
    "G=nx.Graph()\n",
    "G.add_nodes_from(np.arange(0,n,1))\n",
    "elist=[(0,1,1.0),(0,2,1.0),(2,3,1.0),(1,2,1.0)] # ,(0,2,1.0)\n",
    "# tuple is (i,j,weight) where (i,j) is the edge\n",
    "G.add_weighted_edges_from(elist)\n",
    "colors = ['r' for node in G.nodes()]\n",
    "pos = nx.spring_layout(G)"
   ]
  },
  {
   "cell_type": "code",
   "execution_count": null,
   "metadata": {},
   "outputs": [],
   "source": [
    "def draw_graph(G, colors, pos):\n",
    "    default_axes = plt.axes(frameon=True)\n",
    "    nx.draw_networkx(G, node_color=colors, node_size=600, alpha=.8, ax=default_axes, pos=pos)\n",
    "    edge_labels = nx.get_edge_attributes(G, 'weight')\n",
    "    nx.draw_networkx_edge_labels(G, pos=pos, edge_labels=edge_labels)\n",
    "\n",
    "draw_graph(G, colors, pos)"
   ]
  },
  {
   "cell_type": "code",
   "execution_count": null,
   "metadata": {},
   "outputs": [],
   "source": [
    "w = np.zeros([n,n])\n",
    "for i in range(n):\n",
    "    for j in range(n):\n",
    "        temp = G.get_edge_data(i,j,default=0)\n",
    "        if temp != 0:\n",
    "            w[i,j] = temp['weight']\n",
    "print(w)"
   ]
  },
  {
   "cell_type": "code",
   "execution_count": null,
   "metadata": {},
   "outputs": [],
   "source": [
    "max_cut = Maxcut(w)\n",
    "qp = max_cut.to_quadratic_program()\n",
    "print(qp)"
   ]
  },
  {
   "cell_type": "code",
   "execution_count": null,
   "metadata": {},
   "outputs": [],
   "source": [
    "from qiskit.algorithms.minimum_eigen_solvers import NumPyMinimumEigensolver\n",
    "from qiskit_optimization.algorithms import MinimumEigenOptimizer\n",
    "from qiskit.algorithms.minimum_eigensolvers import SamplingVQE\n",
    "from qiskit.algorithms.optimizers import SPSA\n",
    "from qiskit.circuit.library import TwoLocal\n",
    "from qiskit.primitives import Sampler\n",
    "from qiskit.algorithms.minimum_eigensolvers import QAOA\n",
    "from qiskit import transpile"
   ]
  },
  {
   "cell_type": "code",
   "execution_count": null,
   "metadata": {},
   "outputs": [],
   "source": []
  },
  {
   "cell_type": "code",
   "execution_count": null,
   "metadata": {},
   "outputs": [],
   "source": [
    "qubitOp, offset = qp.to_ising()\n",
    "exact = MinimumEigenOptimizer(NumPyMinimumEigensolver())\n",
    "result = exact.solve(qp)\n",
    "result"
   ]
  },
  {
   "cell_type": "code",
   "execution_count": null,
   "metadata": {},
   "outputs": [],
   "source": [
    "optimizer = SPSA(maxiter=300)\n",
    "ry = TwoLocal(qubitOp.num_qubits, \"ry\", \"cz\", reps=1, entanglement=\"linear\")\n",
    "vqe = SamplingVQE(sampler=Sampler(), ansatz=ry, optimizer=optimizer)\n",
    "\n",
    "# run SamplingVQE\n",
    "result = vqe.compute_minimum_eigenvalue(qubitOp)\n",
    "result"
   ]
  },
  {
   "cell_type": "code",
   "execution_count": null,
   "metadata": {},
   "outputs": [],
   "source": [
    "qaoa = QAOA(optimizer=SPSA(), sampler=Sampler())\n",
    "res = qaoa.compute_minimum_eigenvalue(qubitOp)\n",
    "print(res)"
   ]
  },
  {
   "cell_type": "code",
   "execution_count": null,
   "metadata": {},
   "outputs": [],
   "source": [
    "qc_transpiled = transpile(qaoa.ansatz, basis_gates=[\"cx\", \"sx\", \"x\", \"rz\"])\n",
    "qc_transpiled.draw(output=\"mpl\", fold=-1)"
   ]
  },
  {
   "cell_type": "markdown",
   "metadata": {},
   "source": [
    "# Add Placeholder"
   ]
  },
  {
   "cell_type": "code",
   "execution_count": null,
   "metadata": {},
   "outputs": [],
   "source": [
    "from qiskit import QuantumCircuit\n",
    "from qiskit.circuit import Parameter\n",
    "from qiskit.circuit import Gate"
   ]
  },
  {
   "cell_type": "code",
   "execution_count": null,
   "metadata": {},
   "outputs": [],
   "source": [
    "p1 = Parameter('a')\n",
    "p2 = Parameter('b')"
   ]
  },
  {
   "cell_type": "code",
   "execution_count": null,
   "metadata": {},
   "outputs": [],
   "source": [
    "unknown_edges = Gate(name='unknown_edges', num_qubits=3, params=[])"
   ]
  },
  {
   "cell_type": "code",
   "execution_count": null,
   "metadata": {},
   "outputs": [],
   "source": [
    "decomp_qc = QuantumCircuit(3)\n",
    "decomp_qc.id([0,1,2])\n",
    "\n",
    "unknown_edges.add_decomposition(decomp_qc)"
   ]
  },
  {
   "cell_type": "code",
   "execution_count": null,
   "metadata": {},
   "outputs": [],
   "source": [
    "from qiskit.circuit import Instruction\n",
    "from qiskit.circuit import CircuitInstruction\n",
    "from typing import Union\n",
    "class Placeholder(Instruction):\n",
    "    def __init__(self, num_qubits, label):\n",
    "        self.name = \"placeholder\"\n",
    "        super().__init__(self.name, num_qubits, 0, [], label = label)\n",
    "\n",
    "    def inverse(self):\n",
    "        return Placeholder(self.name, self.num_qubits)\n",
    "\n",
    "# This function accepts a QuantumCircuit in addition to single instructions\n",
    "# Note: you can modify it to accept a dictionary of label-instruction pairs.\n",
    "def replace(self, placeholder_label, instruction: Union[Instruction, QuantumCircuit]):\n",
    "    if isinstance(instruction, QuantumCircuit):\n",
    "        instruction = instruction.to_instruction()\n",
    "\n",
    "    self._data = [CircuitInstruction(instruction, _inst[1], _inst[2]) if _inst[0].name == 'placeholder' and _inst[0].label == placeholder_label else _inst for _inst in self._data]\n",
    "\n",
    "QuantumCircuit.replace = replace"
   ]
  },
  {
   "cell_type": "code",
   "execution_count": null,
   "metadata": {},
   "outputs": [],
   "source": [
    "def get_initial_qc_with_placeholder():\n",
    "    qc = QuantumCircuit(4)\n",
    "    qc.h([0,1,2,3])\n",
    "    qc.barrier()\n",
    "    qc.rzz(p1, 0,1)\n",
    "    qc.rzz(p1, 0,2)\n",
    "\n",
    "    #qc.append(unknown_edges, [1,2,3])\n",
    "    qc.append(Placeholder(3, 'edges'), [1,2,3])\n",
    "\n",
    "    qc.barrier()\n",
    "    qc.rx(2*p2, [0,1,2,3])\n",
    "    return qc "
   ]
  },
  {
   "cell_type": "markdown",
   "metadata": {},
   "source": [
    "## Quantum Circuit Nat Gates Creation"
   ]
  },
  {
   "cell_type": "code",
   "execution_count": null,
   "metadata": {},
   "outputs": [],
   "source": [
    "def create_init_qc(unknown=False):\n",
    "    qc = QuantumCircuit(4)\n",
    "    qc.h([0,1,2,3])\n",
    "    qc.barrier()\n",
    "    qc.rzz(p1, 0,1)\n",
    "    qc.rzz(p1, 0,2)\n",
    "    qc = transpile(qc, basis_gates=[\"cx\", \"sx\", \"x\", \"rz\"])\n",
    "\n",
    "    qc_mixer=QuantumCircuit(4)\n",
    "    qc_mixer.rx(2*p2, [0,1,2,3])\n",
    "    qc_mixer = transpile(qc_mixer, basis_gates=[\"cx\", \"sx\", \"x\", \"rz\"])\n",
    "    \n",
    "    if unknown:\n",
    "        qc.append(Placeholder(3, 'edges'), [1,2,3])\n",
    "    qc.barrier()\n",
    "    qc.compose(qc_mixer, [0,1,2,3], inplace=True)\n",
    "    return qc"
   ]
  },
  {
   "cell_type": "code",
   "execution_count": null,
   "metadata": {},
   "outputs": [],
   "source": [
    "qc_nat_known = create_init_qc(False)\n",
    "qc_nat_known.draw(output=\"mpl\")"
   ]
  },
  {
   "cell_type": "code",
   "execution_count": null,
   "metadata": {},
   "outputs": [],
   "source": [
    "qc_nat_unknown = create_init_qc(True)\n",
    "qc_nat_unknown.draw(output=\"mpl\")"
   ]
  },
  {
   "cell_type": "markdown",
   "metadata": {},
   "source": [
    "## Determine good mapping layout for qc without unknown part"
   ]
  },
  {
   "cell_type": "code",
   "execution_count": null,
   "metadata": {},
   "outputs": [],
   "source": [
    "from qiskit.providers.fake_provider import FakeManila\n",
    "device = FakeManila()\n",
    "coupling_map=device.configuration().coupling_map\n",
    "qubit_offset = qc.num_qubits"
   ]
  },
  {
   "cell_type": "code",
   "execution_count": null,
   "metadata": {},
   "outputs": [],
   "source": [
    "offline_mapped_qc = transpile(qc_nat_known, coupling_map=coupling_map, basis_gates=[\"cx\", \"sx\", \"x\", \"rz\"], optimization_level=3)\n",
    "offline_mapped_qc.draw(output=\"mpl\")"
   ]
  },
  {
   "cell_type": "code",
   "execution_count": null,
   "metadata": {},
   "outputs": [],
   "source": [
    "layout = offline_mapped_qc._layout.initial_layout\n",
    "mapping = []\n",
    "for elem in layout.get_virtual_bits():\n",
    "    if elem.register.name == \"ancilla\":\n",
    "        pass#mapping[layout.get_virtual_bits()[elem]] = elem.index + qubit_offset\n",
    "    else:\n",
    "        mapping.append(layout.get_virtual_bits()[elem])\n",
    "\n",
    "mapping"
   ]
  },
  {
   "cell_type": "markdown",
   "metadata": {},
   "source": [
    "# Add new gates at online time and compile to pre-defined layout"
   ]
  },
  {
   "cell_type": "code",
   "execution_count": null,
   "metadata": {},
   "outputs": [],
   "source": [
    "from time import time\n",
    "\n",
    "exec_times_partial= []\n",
    "\n",
    "for _ in range(1000):\n",
    "    qc_nat_unknown = create_init_qc(True)\n",
    "    start = time()\n",
    "    new_edges = QuantumCircuit(3)\n",
    "    new_edges.rzz(p1, 0,2)\n",
    "    new_edges.rzz(p2, 1,2)\n",
    "    qc_nat_unknown.replace('edges', new_edges)\n",
    "\n",
    "    mapped_online = transpile(qc_nat_unknown, coupling_map=coupling_map, basis_gates=[\"cx\", \"sx\", \"x\", \"rz\", \"edges\"], initial_layout=mapping, layout_method=\"trivial\", optimization_level=3)\n",
    "\n",
    "    duration = time()-start\n",
    "    exec_times_partial.append(duration)\n",
    "np.mean(exec_times_partial)\n"
   ]
  },
  {
   "cell_type": "markdown",
   "metadata": {},
   "source": [
    "# Runtime comparison"
   ]
  },
  {
   "cell_type": "code",
   "execution_count": null,
   "metadata": {},
   "outputs": [],
   "source": [
    "qc = create_init_qc(True)\n",
    "qc.draw()"
   ]
  },
  {
   "cell_type": "code",
   "execution_count": null,
   "metadata": {},
   "outputs": [],
   "source": [
    "exec_times_full= []\n",
    "for _ in range(1000):\n",
    "    qc = get_initial_qc_with_placeholder()\n",
    "    new_edges = QuantumCircuit(3)\n",
    "    new_edges.rzz(p1, 0,2)\n",
    "    new_edges.rzz(p2, 1,2)\n",
    "\n",
    "    qc.replace('edges', new_edges)\n",
    "    start=time()\n",
    "    qc = transpile(qc, coupling_map=coupling_map, basis_gates=[\"cx\", \"sx\", \"x\", \"rz\", \"edges\"], optimization_level=3)\n",
    "\n",
    "    duration = time()-start\n",
    "    exec_times_full.append(duration)\n",
    "np.mean(exec_times_full)\n"
   ]
  },
  {
   "cell_type": "code",
   "execution_count": null,
   "metadata": {},
   "outputs": [],
   "source": [
    "qc.draw(output=\"mpl\")"
   ]
  },
  {
   "cell_type": "code",
   "execution_count": null,
   "metadata": {},
   "outputs": [],
   "source": []
  }
 ],
 "metadata": {
  "kernelspec": {
   "display_name": "Python 3 (ipykernel)",
   "language": "python",
   "name": "python3"
  },
  "language_info": {
   "codemirror_mode": {
    "name": "ipython",
    "version": 3
   },
   "file_extension": ".py",
   "mimetype": "text/x-python",
   "name": "python",
   "nbconvert_exporter": "python",
   "pygments_lexer": "ipython3"
  }
 },
 "nbformat": 4,
 "nbformat_minor": 1
}
