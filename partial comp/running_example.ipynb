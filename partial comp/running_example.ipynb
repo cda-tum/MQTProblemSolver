{
 "cells": [
  {
   "cell_type": "markdown",
   "metadata": {},
   "source": [
    "# Evaluation QAOA"
   ]
  },
  {
   "cell_type": "code",
   "execution_count": null,
   "metadata": {},
   "outputs": [],
   "source": [
    "from mqt.problemsolver.partialcompiler import Partial_QAOA"
   ]
  },
  {
   "cell_type": "code",
   "execution_count": null,
   "metadata": {},
   "outputs": [],
   "source": [
    "from mqt.problemsolver.partialcompiler import evaluator\n",
    "evaluator.evaluate_QAOA(num_qubits=7, repetitions=5)"
   ]
  },
  {
   "cell_type": "code",
   "execution_count": null,
   "metadata": {},
   "outputs": [],
   "source": [
    "p = Partial_QAOA.Partial_QAOA(15,2)\n",
    "(\n",
    "qc_prep_nat_gates,\n",
    "qcs_problem_nat_gates,\n",
    "qcs_mixer_nat_gates, \n",
    ") = p.get_partially_compiled_circuit_without_online_edges()\n",
    "\n",
    "mapping = p.mapping\n",
    "print(\"old mapping:\", mapping)"
   ]
  },
  {
   "cell_type": "code",
   "execution_count": null,
   "metadata": {},
   "outputs": [],
   "source": [
    "qcs_problem_nat_gates[0].draw(fold=-1, output=\"mpl\")"
   ]
  },
  {
   "cell_type": "code",
   "execution_count": null,
   "metadata": {},
   "outputs": [],
   "source": [
    "tmp = qcs_problem_nat_gates[0]._layout.final_layout\n",
    "if tmp is not None:\n",
    "    lut = tmp.get_physical_bits()\n",
    "    for elem in mapping:\n",
    "        if elem != lut[elem].index:\n",
    "            print(elem, \"->\", lut[elem].index)"
   ]
  },
  {
   "cell_type": "code",
   "execution_count": null,
   "metadata": {},
   "outputs": [],
   "source": [
    "from typing import Literal, Union, overload\n",
    "\n",
    "import numpy as np\n",
    "from qiskit import QuantumCircuit, transpile\n",
    "from qiskit.circuit import Parameter\n",
    "from qiskit.providers.fake_provider import FakeManila, FakeMontreal, FakeWashington"
   ]
  },
  {
   "cell_type": "code",
   "execution_count": null,
   "metadata": {},
   "outputs": [],
   "source": [
    "offline_mapped_qc = transpile(\n",
    "    qc,\n",
    "    coupling_map=FakeMontreal().configuration().coupling_map,\n",
    "    basis_gates=FakeMontreal().configuration().basis_gates,\n",
    "    optimization_level=3,\n",
    ")"
   ]
  },
  {
   "cell_type": "code",
   "execution_count": null,
   "metadata": {},
   "outputs": [],
   "source": [
    "offline_mapped_qc._layout.final_layout"
   ]
  },
  {
   "cell_type": "code",
   "execution_count": null,
   "metadata": {},
   "outputs": [],
   "source": []
  },
  {
   "cell_type": "code",
   "execution_count": null,
   "metadata": {},
   "outputs": [],
   "source": [
    "qcs_problem_nat_gates[1]._layout"
   ]
  },
  {
   "cell_type": "code",
   "execution_count": null,
   "metadata": {},
   "outputs": [],
   "source": [
    "qcs_problem_nat_gates[1].draw()"
   ]
  },
  {
   "cell_type": "code",
   "execution_count": null,
   "metadata": {},
   "outputs": [],
   "source": [
    "i = qcs_problem_nat_gates[1]._layout.initial_layout\n",
    "i"
   ]
  },
  {
   "cell_type": "code",
   "execution_count": null,
   "metadata": {},
   "outputs": [],
   "source": [
    "i.get_virtual_bits()"
   ]
  },
  {
   "cell_type": "code",
   "execution_count": null,
   "metadata": {},
   "outputs": [],
   "source": [
    "f.get_virtual_bits()"
   ]
  },
  {
   "cell_type": "code",
   "execution_count": null,
   "metadata": {},
   "outputs": [],
   "source": [
    "for j, key in enumerate(f):\n",
    "    print(j)\n",
    "    if j == qcs_problem_nat_gates[1].num_qubits-1:\n",
    "        break"
   ]
  },
  {
   "cell_type": "code",
   "execution_count": null,
   "metadata": {},
   "outputs": [],
   "source": [
    "qc_prep_nat_gates.draw()"
   ]
  },
  {
   "cell_type": "code",
   "execution_count": null,
   "metadata": {},
   "outputs": [],
   "source": [
    "from qiskit import QuantumCircuit, transpile"
   ]
  },
  {
   "cell_type": "code",
   "execution_count": null,
   "metadata": {},
   "outputs": [],
   "source": [
    "qc = QuantumCircuit(4)\n",
    "qc.x([1,2,0])\n",
    "qc.cx(0,1)\n",
    "#qc.cx(1,2)\n",
    "#qc.cx(0,2)\n",
    "#qc.cx(0,3)\n",
    "qc.draw()"
   ]
  },
  {
   "cell_type": "code",
   "execution_count": null,
   "metadata": {},
   "outputs": [],
   "source": [
    "from qiskit.providers.fake_provider import FakeManila"
   ]
  },
  {
   "cell_type": "code",
   "execution_count": null,
   "metadata": {},
   "outputs": [],
   "source": [
    "qc_transpiled = transpile(qc, backend=FakeManila(), optimization_level=0)\n",
    "qc_transpiled.draw()"
   ]
  },
  {
   "cell_type": "code",
   "execution_count": null,
   "metadata": {},
   "outputs": [],
   "source": [
    "qc_transpiled._layout"
   ]
  },
  {
   "cell_type": "code",
   "execution_count": null,
   "metadata": {},
   "outputs": [],
   "source": []
  },
  {
   "cell_type": "markdown",
   "metadata": {},
   "source": [
    "# Backup\n"
   ]
  },
  {
   "cell_type": "code",
   "execution_count": null,
   "metadata": {},
   "outputs": [],
   "source": [
    "import networkx as nx\n",
    "import numpy as np\n",
    "import matplotlib.pyplot as plt\n",
    "from qiskit_optimization.applications import Maxcut"
   ]
  },
  {
   "cell_type": "code",
   "execution_count": null,
   "metadata": {},
   "outputs": [],
   "source": [
    "n=4 # Number of nodes in graph\n",
    "G=nx.Graph()\n",
    "G.add_nodes_from(np.arange(0,n,1))\n",
    "elist=[(0,1,1),(0,2,1.0),(2,3,1.0),(1,2,1.0)] # ,(0,2,1.0)\n",
    "# tuple is (i,j,weight) where (i,j) is the edge\n",
    "G.add_weighted_edges_from(elist)\n",
    "colors = ['r' for node in G.nodes()]\n",
    "pos = nx.spring_layout(G)"
   ]
  },
  {
   "cell_type": "code",
   "execution_count": null,
   "metadata": {},
   "outputs": [],
   "source": [
    "def draw_graph(G, colors, pos):\n",
    "    default_axes = plt.axes(frameon=True)\n",
    "    nx.draw_networkx(G, node_color=colors, node_size=600, alpha=.8, ax=default_axes, pos=pos)\n",
    "    edge_labels = nx.get_edge_attributes(G, 'weight')\n",
    "    nx.draw_networkx_edge_labels(G, pos=pos, edge_labels=edge_labels)\n",
    "\n",
    "draw_graph(G, colors, pos)"
   ]
  },
  {
   "cell_type": "code",
   "execution_count": null,
   "metadata": {},
   "outputs": [],
   "source": [
    "w = np.zeros([n,n])\n",
    "for i in range(n):\n",
    "    for j in range(n):\n",
    "        temp = G.get_edge_data(i,j,default=0)\n",
    "        if temp != 0:\n",
    "            w[i,j] = temp['weight']\n",
    "print(w)"
   ]
  },
  {
   "cell_type": "code",
   "execution_count": null,
   "metadata": {},
   "outputs": [],
   "source": [
    "max_cut = Maxcut(w)\n",
    "qp = max_cut.to_quadratic_program()\n",
    "print(qp)"
   ]
  },
  {
   "cell_type": "code",
   "execution_count": null,
   "metadata": {},
   "outputs": [],
   "source": [
    "from qiskit.algorithms.minimum_eigen_solvers import NumPyMinimumEigensolver\n",
    "from qiskit_optimization.algorithms import MinimumEigenOptimizer\n",
    "from qiskit.algorithms.minimum_eigensolvers import SamplingVQE\n",
    "from qiskit.algorithms.optimizers import SPSA\n",
    "from qiskit.circuit.library import TwoLocal\n",
    "from qiskit.primitives import Sampler\n",
    "from qiskit.algorithms.minimum_eigensolvers import QAOA\n",
    "from qiskit import transpile"
   ]
  },
  {
   "cell_type": "markdown",
   "metadata": {},
   "source": [
    "# Different Solver"
   ]
  },
  {
   "cell_type": "code",
   "execution_count": null,
   "metadata": {},
   "outputs": [],
   "source": [
    "qubitOp, offset = qp.to_ising()\n",
    "exact = MinimumEigenOptimizer(NumPyMinimumEigensolver())\n",
    "result = exact.solve(qp)\n",
    "result"
   ]
  },
  {
   "cell_type": "code",
   "execution_count": null,
   "metadata": {},
   "outputs": [],
   "source": [
    "optimizer = SPSA(maxiter=300)\n",
    "ry = TwoLocal(qubitOp.num_qubits, \"ry\", \"cz\", reps=1, entanglement=\"linear\")\n",
    "vqe = SamplingVQE(sampler=Sampler(), ansatz=ry, optimizer=optimizer)\n",
    "\n",
    "# run SamplingVQE\n",
    "result = vqe.compute_minimum_eigenvalue(qubitOp)\n",
    "result"
   ]
  },
  {
   "cell_type": "code",
   "execution_count": null,
   "metadata": {},
   "outputs": [],
   "source": [
    "qaoa = QAOA(optimizer=SPSA(), sampler=Sampler())\n",
    "res = qaoa.compute_minimum_eigenvalue(qubitOp)\n",
    "print(res)"
   ]
  }
 ],
 "metadata": {
  "kernelspec": {
   "display_name": "Python 3 (ipykernel)",
   "language": "python",
   "name": "python3"
  },
  "language_info": {
   "codemirror_mode": {
    "name": "ipython",
    "version": 3
   },
   "file_extension": ".py",
   "mimetype": "text/x-python",
   "name": "python",
   "nbconvert_exporter": "python",
   "pygments_lexer": "ipython3"
  }
 },
 "nbformat": 4,
 "nbformat_minor": 1
}
