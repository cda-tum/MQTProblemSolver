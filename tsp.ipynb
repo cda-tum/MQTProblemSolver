{
 "cells": [
  {
   "cell_type": "markdown",
   "id": "97e4695e",
   "metadata": {},
   "source": [
    "# Solving TSP Problems with Quantum Computing"
   ]
  },
  {
   "cell_type": "code",
   "execution_count": 1,
   "id": "7677e881",
   "metadata": {},
   "outputs": [],
   "source": [
    "from qiskit import QuantumCircuit, Aer, QuantumRegister, ClassicalRegister, execute\n",
    "from qiskit.visualization import plot_histogram, array_to_latex\n",
    "from qiskit.circuit.library import QFT\n",
    "import numpy as np\n",
    "from python_tsp.exact import solve_tsp_dynamic_programming\n",
    "import networkx as nx\n",
    "import matplotlib.pyplot as plt"
   ]
  },
  {
   "cell_type": "code",
   "execution_count": 2,
   "id": "cf5d36cf",
   "metadata": {},
   "outputs": [
    {
     "data": {
      "image/png": "[encoded data removed]",
      "text/plain": [
       "<Figure size 432x288 with 1 Axes>"
      ]
     },
     "metadata": {},
     "output_type": "display_data"
    }
   ],
   "source": [
    "G = nx.DiGraph(directed=True)\n",
    "G.add_node(1)\n",
    "G.add_node(2)\n",
    "G.add_node(3)\n",
    "G.add_node(4)\n",
    "\n",
    "G.add_edge(1, 2)\n",
    "G.add_edge(1, 3)\n",
    "G.add_edge(1, 4)\n",
    "\n",
    "G.add_edge(2, 1)\n",
    "G.add_edge(2, 3)\n",
    "G.add_edge(2, 4)\n",
    "\n",
    "G.add_edge(3, 1)\n",
    "G.add_edge(3, 2)\n",
    "G.add_edge(3, 4)\n",
    "\n",
    "G.add_edge(4, 1)\n",
    "G.add_edge(4, 2)\n",
    "G.add_edge(4, 3)\n",
    "\n",
    "pos = {1: [0, 1],\n",
    "      2: [0, 0],\n",
    "      3: [1, 1],\n",
    "      4: [1, 0]}\n",
    "\n",
    "\n",
    "edge_labels = {(1, 2): '1<->2',\n",
    "              (1, 3): '1<->3',\n",
    "              (1, 4): '1<->4',\n",
    "              (2, 3): '2<->3',\n",
    "              (2, 4): '2<->4',\n",
    "              (3, 4): '3<->4',\n",
    "              }\n",
    "\n",
    "nx.draw(G, with_labels=True, node_color='skyblue', pos=pos)\n",
    "\n",
    "nx.draw_networkx_edge_labels(G, pos, edge_labels=edge_labels, label_pos=0.4)\n",
    " \n",
    "plt.show()"
   ]
  },
  {
   "cell_type": "markdown",
   "id": "ce5478c9",
   "metadata": {},
   "source": [
    "# Problem Instances Definition"
   ]
  },
  {
   "cell_type": "code",
   "execution_count": 3,
   "id": "1ac46674",
   "metadata": {},
   "outputs": [],
   "source": [
    "dist_1_2 = 1\n",
    "dist_1_3 = 8\n",
    "dist_1_4 = 3\n",
    "dist_2_3 = 3\n",
    "dist_2_4 = 2\n",
    "dist_3_4 = 1\n",
    "\n",
    "distances_sum = sum([dist_1_2, dist_1_3, dist_1_4, dist_2_3, dist_2_4, dist_3_4])"
   ]
  },
  {
   "cell_type": "code",
   "execution_count": 4,
   "id": "217877bf",
   "metadata": {},
   "outputs": [
    {
     "data": {
      "image/png": "[encoded data removed]",
      "text/plain": [
       "<Figure size 432x288 with 1 Axes>"
      ]
     },
     "metadata": {},
     "output_type": "display_data"
    }
   ],
   "source": [
    "edge_labels = {(1, 2): dist_1_2,\n",
    "              (1, 3): dist_1_3,\n",
    "              (1, 4): dist_1_4,\n",
    "              (2, 3): dist_2_3,\n",
    "              (2, 4): dist_2_4,\n",
    "              (3, 4): dist_3_4\n",
    "              }\n",
    "\n",
    "nx.draw(G, with_labels=True, node_color='skyblue', edge_cmap=plt.cm.Blues, pos=pos)\n",
    "\n",
    "nx.draw_networkx_edge_labels(G, pos, edge_labels=edge_labels, label_pos=0.4)\n",
    " \n",
    "plt.show()"
   ]
  },
  {
   "cell_type": "markdown",
   "id": "f99be240",
   "metadata": {},
   "source": [
    "## Utility Functions"
   ]
  },
  {
   "cell_type": "code",
   "execution_count": 5,
   "id": "10bd52b5",
   "metadata": {},
   "outputs": [],
   "source": [
    "def controlled_unitary(qc, qubits: list, phases: list): # x,y,z = Specific Qubit; a,b,c,d = Phases\n",
    "    qc.cp(phases[2]-phases[0], qubits[0], qubits[1]) # controlled-U1(c-a)\n",
    "    qc.p(phases[0], qubits[0]) # U1(a)\n",
    "    qc.cp(phases[1]-phases[0], qubits[0], qubits[2]) # controlled-U1(b-a)\n",
    "    \n",
    "    # controlled controlled U1(d-c+a-b)\n",
    "    qc.cp((phases[3]-phases[2]+phases[0]-phases[1])/2, qubits[1], qubits[2])\n",
    "    qc.cx(qubits[0], qubits[1])\n",
    "    qc.cp(-(phases[3]-phases[2]+phases[0]-phases[1])/2, qubits[1], qubits[2])\n",
    "    qc.cx(qubits[0], qubits[1])\n",
    "    qc.cp((phases[3]-phases[2]+phases[0]-phases[1])/2, qubits[0], qubits[2])\n",
    "    \n",
    "def U(times, qc, unit, eigen, phases: list): # a,b,c = phases for U1; d,e,f = phases for U2; g,h,i = phases for U3; j,k,l = phases for U4; m_list=[m, n, o, p, q, r, s, t, u, a, b, c, d, e, f, g, h, i, j, k, l]\n",
    "    controlled_unitary(qc, [unit[0]]+eigen[0:2], [0]+phases[0:3])\n",
    "    controlled_unitary(qc, [unit[0]]+eigen[2:4], [phases[3]]+[0]+phases[4:6])\n",
    "    controlled_unitary(qc, [unit[0]]+eigen[4:6], phases[6:8]+[0]+[phases[8]])\n",
    "    controlled_unitary(qc, [unit[0]]+eigen[6:8], phases[9:12]+[0])\n",
    "    \n",
    "def final_U(times, eigen, phases: list):\n",
    "    unit = QuantumRegister(1, 'unit')\n",
    "    qc = QuantumCircuit(unit, eigen)\n",
    "    for _ in range(2**times):\n",
    "        U(times, qc, unit, eigen, phases)\n",
    "    return qc.to_gate(label='U'+'_'+(str(2**times)))\n",
    "\n",
    "\n",
    "# Function to place appropriate corresponding gate according to eigenstates\n",
    "def eigenstates(qc, eigen, index):\n",
    "    for i in range(0, len(eigen)):\n",
    "        if eigen_values[index][i] == '1':\n",
    "            qc.x(eigen[i])\n",
    "        if eigen_values[index][i] == '0':\n",
    "            pass\n",
    "    qc.barrier()\n",
    "    return qc\n",
    "\n",
    "def int_to_phase(distance):\n",
    "    phase = distance/distances_sum * 2 * np.pi\n",
    "    return phase\n",
    "\n",
    "def phase_to_int(phase):\n",
    "    return phase/(2*np.pi) * distances_sum \n",
    "\n",
    "def eigenvalue_to_route(eigenvalue:str):\n",
    "    a = (int(eigenvalue[0:2],2)+1)\n",
    "    b = (int(eigenvalue[2:4],2)+1)\n",
    "    c = (int(eigenvalue[4:6],2)+1)\n",
    "    d = (int(eigenvalue[6:8],2)+1)\n",
    "    return [a,b,c,d]\n",
    "\n",
    "def extract_selected_graph(solution):\n",
    "    \n",
    "    G = nx.Graph()\n",
    "    for i in range(len(solution)):\n",
    "        if i == len(solution) - 1:\n",
    "            G.add_edge(solution[i], solution[0], color='r',weight=2)\n",
    "        else:\n",
    "            G.add_edge(solution[i], solution[i+1], color='r',weight=2)\n",
    "    \n",
    "    return G"
   ]
  },
  {
   "cell_type": "markdown",
   "id": "f57ec6d8",
   "metadata": {},
   "source": [
    "## Problem Encoding, Execution, and Decoding"
   ]
  },
  {
   "cell_type": "code",
   "execution_count": 6,
   "id": "60f3ea43",
   "metadata": {},
   "outputs": [
    {
     "name": "stderr",
     "output_type": "stream",
     "text": [
      "/Users/nils/miniforge3/envs/tf3/lib/python3.9/site-packages/numpy/linalg/linalg.py:2158: RuntimeWarning: divide by zero encountered in det\n",
      "  r = _umath_linalg.det(a, signature=signature)\n",
      "/Users/nils/miniforge3/envs/tf3/lib/python3.9/site-packages/numpy/linalg/linalg.py:2158: RuntimeWarning: invalid value encountered in det\n",
      "  r = _umath_linalg.det(a, signature=signature)\n"
     ]
    },
    {
     "name": "stdout",
     "output_type": "stream",
     "text": [
      "Eigenstate:  11000110\n",
      "Route:  [4, 1, 2, 3]\n",
      "Phase:  0.4375\n",
      "Costs:  1.2533451768486759\n",
      "Eigenstate:  10001101\n",
      "Route:  [3, 1, 4, 2]\n",
      "Phase:  0.0625\n",
      "Costs:  0.17904931097838225\n",
      "Eigenstate:  10000111\n",
      "Route:  [3, 1, 2, 4]\n",
      "Phase:  0.6875\n",
      "Costs:  1.9695424207622048\n",
      "### Solution:  [3, 1, 4, 2]\n"
     ]
    }
   ],
   "source": [
    "# Assign phase to each edge\n",
    "a = int_to_phase(dist_1_2)\n",
    "d = a\n",
    "b = int_to_phase(dist_1_3)\n",
    "g = b\n",
    "c = int_to_phase(dist_1_4)\n",
    "j = c\n",
    "e = int_to_phase(dist_2_3)\n",
    "h = e\n",
    "f = int_to_phase(dist_2_4)\n",
    "k = f\n",
    "i = int_to_phase(dist_3_4)\n",
    "l = i\n",
    "\n",
    "# Storing the eigenvalues in a list\n",
    "eigen_values = [\"11000110\", \"10001101\", \"10000111\"]\n",
    "\n",
    "all_perms=[]\n",
    "all_costs=[]\n",
    "for index_eigenstate in (0,1,2):\n",
    "    num_qubits_qft = 4\n",
    "    # Initialization\n",
    "    unit = QuantumRegister(num_qubits_qft, 'unit')\n",
    "    eigen = QuantumRegister(8, 'eigen')\n",
    "    unit_classical = ClassicalRegister(num_qubits_qft, 'unit_classical')\n",
    "    qc = QuantumCircuit(unit, eigen, unit_classical)\n",
    "\n",
    "    eigenstates(qc, eigen, index_eigenstate)\n",
    "\n",
    "    qc.h(unit[:])\n",
    "    qc.barrier()\n",
    "\n",
    "    # Controlled Unitary  \n",
    "    phases = [a, b, c, d, e, f, g, h, i, j, k, l]\n",
    "    for i in range(0, num_qubits_qft):\n",
    "        qc.append(final_U(i, eigen, phases), [unit[num_qubits_qft-1-i]] + eigen[:])\n",
    "    \n",
    "\n",
    "    # Inverse QFT \n",
    "    qc.barrier()\n",
    "    qft = QFT(num_qubits=len(unit), inverse=True, insert_barriers=True, do_swaps=False, name='Inverse QFT')\n",
    "    qc.append(qft, qc.qubits[:len(unit)])\n",
    "    qc.barrier()\n",
    "    \n",
    "\n",
    "    # Measure\n",
    "    qc.measure(unit, unit_classical)\n",
    "\n",
    "    # Simulate and calculate phase\n",
    "    backend = Aer.get_backend('qasm_simulator')\n",
    "    job = execute(qc, backend, shots=10000)\n",
    "    count = job.result().get_counts()\n",
    "    #print(count)\n",
    "    #plot_histogram(count)\n",
    "    most_frequent_decimal = int(count.most_frequent(),2)\n",
    "    phase = most_frequent_decimal/(2**num_qubits_qft)\n",
    "    route = eigenvalue_to_route(eigen_values[index_eigenstate])\n",
    "    costs = phase_to_int(phase)\n",
    "    print(\"Eigenstate: \", eigen_values[index_eigenstate])\n",
    "    print(\"Route: \", route)\n",
    "    print(\"Phase: \", phase)\n",
    "    print(\"Costs: \", costs)\n",
    "    all_perms.append(route)\n",
    "    all_costs.append(costs)\n",
    "#qc.draw(output='mpl', fold=-1)\n",
    "sol_perm = all_perms[np.argmin(all_costs)]\n",
    "print(\"### Solution: \", sol_perm)"
   ]
  },
  {
   "cell_type": "markdown",
   "id": "a825ff76",
   "metadata": {},
   "source": [
    "## Visualizat and Compare Solutions"
   ]
  },
  {
   "cell_type": "markdown",
   "id": "8d122acb",
   "metadata": {},
   "source": [
    "### Quantum Solution"
   ]
  },
  {
   "cell_type": "code",
   "execution_count": 7,
   "id": "aca5f575",
   "metadata": {},
   "outputs": [
    {
     "data": {
      "image/png": "[encoded data removed]",
      "text/plain": [
       "<Figure size 432x288 with 1 Axes>"
      ]
     },
     "metadata": {},
     "output_type": "display_data"
    }
   ],
   "source": [
    "edge_labels = {(1, 2): dist_1_2,\n",
    "              (1, 3): dist_1_3,\n",
    "              (1, 4): dist_1_4,\n",
    "              (2, 3): dist_2_3,\n",
    "              (2, 4): dist_2_4,\n",
    "              (3, 4): dist_3_4\n",
    "              }\n",
    "selected_graph = extract_selected_graph(sol_perm)\n",
    "\n",
    "edges = selected_graph.edges()\n",
    "colors = [selected_graph[u][v]['color'] for u,v in edges]\n",
    "weights = [selected_graph[u][v]['weight'] for u,v in edges]\n",
    "\n",
    "\n",
    "nx.draw(G, with_labels=True, node_color='skyblue', edge_cmap=plt.cm.Blues, pos=pos)\n",
    "nx.draw_networkx_edge_labels(G, pos, edge_labels=edge_labels, label_pos=0.4)\n",
    "nx.draw(selected_graph, pos, edge_color=colors, width=weights)\n",
    " \n",
    "plt.show()"
   ]
  },
  {
   "cell_type": "markdown",
   "id": "280c2b51",
   "metadata": {},
   "source": [
    "### Classical Solution"
   ]
  },
  {
   "cell_type": "code",
   "execution_count": 8,
   "id": "ad9ac38b",
   "metadata": {},
   "outputs": [
    {
     "name": "stdout",
     "output_type": "stream",
     "text": [
      "[1 2 3 4] 8\n"
     ]
    },
    {
     "data": {
      "image/png": "[encoded data removed]",
      "text/plain": [
       "<Figure size 432x288 with 1 Axes>"
      ]
     },
     "metadata": {},
     "output_type": "display_data"
    }
   ],
   "source": [
    "distance_matrix = np.array([\n",
    "    [0,  dist_1_2, dist_1_3, dist_1_4],\n",
    "    [dist_1_2,  0, dist_2_3,  dist_2_4],\n",
    "    [dist_1_3,  dist_2_3, 0,  dist_3_4],\n",
    "    [dist_1_4, dist_2_4, dist_3_4,  0]\n",
    "])\n",
    "permutation, distance = solve_tsp_dynamic_programming(distance_matrix)\n",
    "print(np.array(permutation)+1, distance)\n",
    "\n",
    "edge_labels = {(1, 2): dist_1_2,\n",
    "              (1, 3): dist_1_3,\n",
    "              (1, 4): dist_1_4,\n",
    "              (2, 3): dist_2_3,\n",
    "              (2, 4): dist_2_4,\n",
    "              (3, 4): dist_3_4\n",
    "              }\n",
    "selected_graph = extract_selected_graph(np.array(permutation)+1)\n",
    "\n",
    "edges = selected_graph.edges()\n",
    "colors = [selected_graph[u][v]['color'] for u,v in edges]\n",
    "weights = [selected_graph[u][v]['weight'] for u,v in edges]\n",
    "\n",
    "\n",
    "nx.draw(G, with_labels=True, node_color='skyblue', edge_cmap=plt.cm.Blues, pos=pos)\n",
    "nx.draw_networkx_edge_labels(G, pos, edge_labels=edge_labels, label_pos=0.4)\n",
    "nx.draw(selected_graph, pos, edge_color=colors, width=weights)\n",
    " \n",
    "plt.show()"
   ]
  },
  {
   "cell_type": "code",
   "execution_count": null,
   "id": "35272e49",
   "metadata": {},
   "outputs": [],
   "source": []
  }
 ],
 "metadata": {
  "kernelspec": {
   "display_name": "Python 3 (ipykernel)",
   "language": "python",
   "name": "python3"
  },
  "language_info": {
   "codemirror_mode": {
    "name": "ipython",
    "version": 3
   },
   "file_extension": ".py",
   "mimetype": "text/x-python",
   "name": "python",
   "nbconvert_exporter": "python",
   "pygments_lexer": "ipython3",
   "version": "3.9.12"
  }
 },
 "nbformat": 4,
 "nbformat_minor": 5
}
