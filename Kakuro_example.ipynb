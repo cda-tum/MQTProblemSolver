{
 "cells": [
  {
   "cell_type": "code",
   "execution_count": 1,
   "id": "a7fa5203",
   "metadata": {},
   "outputs": [],
   "source": [
    "from src.mqt.problemsolver.kakuro import Kakuro"
   ]
  },
  {
   "cell_type": "code",
   "execution_count": 2,
   "id": "f146db3f",
   "metadata": {},
   "outputs": [],
   "source": [
    "kakuro = Kakuro()"
   ]
  },
  {
   "cell_type": "code",
   "execution_count": 3,
   "id": "92544f47",
   "metadata": {},
   "outputs": [
    {
     "name": "stdout",
     "output_type": "stream",
     "text": [
      "     |  s0  |  s1  |\n",
      "------------------\n",
      "  s2  |  a  |  b  |\n",
      "------------------\n",
      "  s3  |  c  |  d  |\n",
      "------------------\n",
      "\n"
     ]
    }
   ],
   "source": [
    "kakuro.print()"
   ]
  },
  {
   "cell_type": "code",
   "execution_count": 4,
   "id": "1a518ef9",
   "metadata": {},
   "outputs": [],
   "source": [
    "available_quantum_algorithms = kakuro.get_available_quantum_algorithms()"
   ]
  },
  {
   "cell_type": "code",
   "execution_count": 8,
   "id": "4ab0a958",
   "metadata": {},
   "outputs": [
    {
     "name": "stdout",
     "output_type": "stream",
     "text": [
      "Algorithm:  Grover\n",
      "     |  1  |  3  |\n",
      "------------------\n",
      "  3  |  0  |  3  |\n",
      "------------------\n",
      "  1  |  1  |  0  |\n",
      "------------------\n",
      "\n",
      "(0, 3, 1, 0)\n"
     ]
    }
   ],
   "source": [
    "for algo in available_quantum_algorithms:\n",
    "    print(\"Algorithm: \", algo)\n",
    "    res = kakuro.solve(1, 3, 3, 1, quantum_algorithm=\"Grover\")\n",
    "    print(res)"
   ]
  },
  {
   "cell_type": "code",
   "execution_count": null,
   "id": "63237a51",
   "metadata": {},
   "outputs": [],
   "source": []
  }
 ],
 "metadata": {
  "kernelspec": {
   "display_name": "Python 3 (ipykernel)",
   "language": "python",
   "name": "python3"
  },
  "language_info": {
   "codemirror_mode": {
    "name": "ipython",
    "version": 3
   },
   "file_extension": ".py",
   "mimetype": "text/x-python",
   "name": "python",
   "nbconvert_exporter": "python",
   "pygments_lexer": "ipython3",
   "version": "3.9.12"
  }
 },
 "nbformat": 4,
 "nbformat_minor": 5
}
