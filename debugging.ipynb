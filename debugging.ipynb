{
 "cells": [
  {
   "cell_type": "markdown",
   "id": "dc18630b",
   "metadata": {},
   "source": [
    "# Kakuro"
   ]
  },
  {
   "cell_type": "code",
   "execution_count": 1,
   "id": "d06ca1bc",
   "metadata": {},
   "outputs": [],
   "source": [
    "from src.mqt.problemsolver.kakuro import Kakuro"
   ]
  },
  {
   "cell_type": "code",
   "execution_count": 5,
   "id": "a9377164",
   "metadata": {},
   "outputs": [
    {
     "name": "stdout",
     "output_type": "stream",
     "text": [
      "Complete Oracle (CX):  290\n",
      "Complete Oracle (U):  312\n",
      "m:  5\n",
      "Solution found\n",
      "     |  5  |  3  |\n",
      "------------------\n",
      "  3  |  2  |  1  |\n",
      "------------------\n",
      "  5  |  3  |  2  |\n",
      "------------------\n",
      "\n"
     ]
    }
   ],
   "source": [
    "kakuro = Kakuro(5, 3, 3, 5)\n",
    "kakuro.solve()"
   ]
  },
  {
   "cell_type": "markdown",
   "id": "973760cd",
   "metadata": {},
   "source": [
    "# TSP"
   ]
  },
  {
   "cell_type": "code",
   "execution_count": 3,
   "id": "03d5e1d5",
   "metadata": {},
   "outputs": [],
   "source": [
    "from src.mqt.problemsolver.tsp import TSP"
   ]
  },
  {
   "cell_type": "code",
   "execution_count": 4,
   "id": "7d99c012",
   "metadata": {},
   "outputs": [
    {
     "ename": "TypeError",
     "evalue": "print_problem() missing 1 required positional argument: 'self'",
     "output_type": "error",
     "traceback": [
      "\u001b[0;31m---------------------------------------------------------------------------\u001b[0m",
      "\u001b[0;31mTypeError\u001b[0m                                 Traceback (most recent call last)",
      "Input \u001b[0;32mIn [4]\u001b[0m, in \u001b[0;36m<cell line: 1>\u001b[0;34m()\u001b[0m\n\u001b[0;32m----> 1\u001b[0m \u001b[43mTSP\u001b[49m\u001b[38;5;241;43m.\u001b[39;49m\u001b[43mprint_problem\u001b[49m\u001b[43m(\u001b[49m\u001b[43m)\u001b[49m\n",
      "\u001b[0;31mTypeError\u001b[0m: print_problem() missing 1 required positional argument: 'self'"
     ]
    }
   ],
   "source": [
    "TSP.print_problem()"
   ]
  },
  {
   "cell_type": "code",
   "execution_count": null,
   "id": "948803ef",
   "metadata": {},
   "outputs": [],
   "source": [
    "tsp = TSP()\n",
    "tsp.solve(1, 2, 3, 3, 3, 3, num_qubits_qft=8)"
   ]
  },
  {
   "cell_type": "code",
   "execution_count": null,
   "id": "465d4e5c",
   "metadata": {},
   "outputs": [],
   "source": [
    "tsp.show_classical_result()"
   ]
  },
  {
   "cell_type": "code",
   "execution_count": null,
   "id": "caebd9d9",
   "metadata": {},
   "outputs": [],
   "source": []
  }
 ],
 "metadata": {
  "kernelspec": {
   "display_name": "Python 3 (ipykernel)",
   "language": "python",
   "name": "python3"
  },
  "language_info": {
   "codemirror_mode": {
    "name": "ipython",
    "version": 3
   },
   "file_extension": ".py",
   "mimetype": "text/x-python",
   "name": "python",
   "nbconvert_exporter": "python",
   "pygments_lexer": "ipython3",
   "version": "3.9.12"
  }
 },
 "nbformat": 4,
 "nbformat_minor": 5
}
