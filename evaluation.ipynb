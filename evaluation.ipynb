{
 "cells": [
  {
   "cell_type": "code",
   "execution_count": null,
   "id": "1ce842bb",
   "metadata": {},
   "outputs": [],
   "source": [
    "import pandas as pd\n",
    "import numpy as np\n",
    "import matplotlib.pyplot as plt"
   ]
  },
  {
   "cell_type": "code",
   "execution_count": null,
   "id": "6e39d00d",
   "metadata": {},
   "outputs": [],
   "source": [
    "df = pd.read_csv('res.csv', sep=',')\n",
    "df['num_qubits'] = df['num_qubits'].astype(int)\n",
    "df.replace(to_replace=[\"None\"], value=0, inplace=True)\n",
    "df.set_index('num_qubits', inplace=True)\n",
    "df"
   ]
  },
  {
   "cell_type": "code",
   "execution_count": null,
   "id": "e789c5d0",
   "metadata": {},
   "outputs": [],
   "source": [
    "df['time_new_scheme_with_opt'] = df['time_new_scheme_with_opt'].astype(float)\n",
    "df['time_baseline'] = df['time_baseline'].astype(float)\n",
    "df['time_new_scheme_without_opt'] = df['time_new_scheme_without_opt'].astype(float)\n",
    "df['cx_count_with_opt'] = df['cx_count_with_opt'].astype(int)\n",
    "df['cx_count_without_opt'] = df['cx_count_without_opt'].astype(int)\n",
    "df['cx_count_baseline'] = df['cx_count_baseline'].astype(int)\n",
    "\n",
    "df[\"time_ratio_with_opt\"] = df[\"time_new_scheme_with_opt\"]/df[\"time_baseline\"]\n",
    "df[\"time_ratio_without_opt\"] = df[\"time_new_scheme_without_opt\"]/df[\"time_baseline\"]\n",
    "df[\"cx_ratio_with_opt\"] = df['cx_count_with_opt'].divide(df['cx_count_baseline'])\n",
    "df[\"cx_ratio_without_opt\"] = df['cx_count_without_opt'].divide(df['cx_count_baseline'])\n",
    "df"
   ]
  },
  {
   "cell_type": "code",
   "execution_count": null,
   "id": "ae15e0b7",
   "metadata": {},
   "outputs": [],
   "source": [
    "df.groupby(['considered_following_qubits', 'sample_probability'])['cx_ratio_with_opt'].plot(legend=True);"
   ]
  },
  {
   "cell_type": "code",
   "execution_count": null,
   "id": "f30bc153",
   "metadata": {},
   "outputs": [],
   "source": [
    "df.groupby(['considered_following_qubits', 'sample_probability'])['time_ratio_with_opt'].plot(legend=True);"
   ]
  },
  {
   "cell_type": "code",
   "execution_count": null,
   "id": "0284847c",
   "metadata": {},
   "outputs": [],
   "source": [
    "x = df[df.considered_following_qubits==1000]\n",
    "x = x[x.index%5==0][[\"sample_probability\",\"time_baseline\",\"time_new_scheme_with_opt\",\"time_ratio_with_opt\", \"cx_count_baseline\", \"cx_count_with_opt\",\"cx_ratio_with_opt\"]]\n",
    "x[\"time_baseline\"] = x[\"time_baseline\"].round(2)\n",
    "x[\"time_new_scheme_with_opt\"] = x[\"time_new_scheme_with_opt\"].round(2)\n",
    "x[\"cx_ratio_with_opt\"] = x[\"cx_ratio_with_opt\"].round(2)\n",
    "x[\"time_ratio_with_opt\"] = x[\"time_ratio_with_opt\"].round(2)\n",
    "x"
   ]
  },
  {
   "cell_type": "code",
   "execution_count": null,
   "id": "e24eed9d",
   "metadata": {},
   "outputs": [],
   "source": [
    "x[\"Benchmark\"] = \"Qubits=\" + x.index.astype(str) + \", p=\" + x.sample_probability.astype(str)"
   ]
  },
  {
   "cell_type": "code",
   "execution_count": null,
   "id": "d0da03b8",
   "metadata": {},
   "outputs": [],
   "source": [
    "x = x.sort_values([\"sample_probability\", \"num_qubits\"])\n",
    "x.set_index('Benchmark', inplace=True)\n",
    "x = x.drop('sample_probability', axis=1)\n",
    "x"
   ]
  },
  {
   "cell_type": "code",
   "execution_count": null,
   "id": "9543db03",
   "metadata": {},
   "outputs": [],
   "source": [
    "x = x.rename(columns={\"time_ratio_with_opt\": \"Time Ratio\", \"cx_count_baseline\": \"CX Count Baseline\", \"cx_count_with_opt\": \"CX Count New Scheme\", \"cx_ratio_with_opt\": \"CX Count Ratio\", \"time_new_scheme_with_opt\":\"Time New Scheme\", \"time_baseline\":\"Time Baseline\"})"
   ]
  },
  {
   "cell_type": "code",
   "execution_count": null,
   "id": "bc7b5966",
   "metadata": {},
   "outputs": [],
   "source": [
    "print(x.to_latex())"
   ]
  },
  {
   "cell_type": "code",
   "execution_count": null,
   "id": "925d1a2e",
   "metadata": {},
   "outputs": [],
   "source": []
  },
  {
   "cell_type": "code",
   "execution_count": null,
   "id": "d438c6c9",
   "metadata": {},
   "outputs": [],
   "source": []
  }
 ],
 "metadata": {
  "kernelspec": {
   "display_name": "Python 3 (ipykernel)",
   "language": "python",
   "name": "python3"
  },
  "language_info": {
   "codemirror_mode": {
    "name": "ipython",
    "version": 3
   },
   "file_extension": ".py",
   "mimetype": "text/x-python",
   "name": "python",
   "nbconvert_exporter": "python",
   "pygments_lexer": "ipython3"
  }
 },
 "nbformat": 4,
 "nbformat_minor": 5
}
