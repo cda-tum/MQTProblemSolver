{
 "cells": [
  {
   "cell_type": "code",
   "execution_count": null,
   "id": "1ce842bb",
   "metadata": {},
   "outputs": [],
   "source": [
    "import pandas as pd\n",
    "import numpy as np"
   ]
  },
  {
   "cell_type": "code",
   "execution_count": null,
   "id": "e789c5d0",
   "metadata": {},
   "outputs": [],
   "source": [
    "df = pd.read_csv('res.csv', sep=',').astype(np.float64)\n",
    "df"
   ]
  },
  {
   "cell_type": "code",
   "execution_count": null,
   "id": "c0194f0f",
   "metadata": {},
   "outputs": [],
   "source": [
    "df_new = df[df.sample_probability==0.3]\n",
    "df_new"
   ]
  },
  {
   "cell_type": "code",
   "execution_count": null,
   "id": "027f95b2",
   "metadata": {},
   "outputs": [],
   "source": [
    "df_new.plot(x='num_qubits',y=['time_ratio_without_swap_opt', 'time_ratio_with_swap_opt'], logy=True)\n",
    "df_new.plot(x='num_qubits',y=['cx_count_ratio_without_swap_opt', 'cx_count_ratio_with_swap_opt'])"
   ]
  },
  {
   "cell_type": "code",
   "execution_count": null,
   "id": "b6c0954f",
   "metadata": {},
   "outputs": [],
   "source": [
    "df_new.plot(x='num_qubits',y=['expected_fidelity_baseline', 'expected_fidelity_new_scheme_with_swap_opt', 'expected_fidelity_new_scheme_without_swap_opt'], logy=True)"
   ]
  },
  {
   "cell_type": "code",
   "execution_count": null,
   "id": "9fd9b20a",
   "metadata": {},
   "outputs": [],
   "source": []
  }
 ],
 "metadata": {
  "kernelspec": {
   "display_name": "Python 3 (ipykernel)",
   "language": "python",
   "name": "python3"
  },
  "language_info": {
   "codemirror_mode": {
    "name": "ipython",
    "version": 3
   },
   "file_extension": ".py",
   "mimetype": "text/x-python",
   "name": "python",
   "nbconvert_exporter": "python",
   "pygments_lexer": "ipython3"
  }
 },
 "nbformat": 4,
 "nbformat_minor": 5
}