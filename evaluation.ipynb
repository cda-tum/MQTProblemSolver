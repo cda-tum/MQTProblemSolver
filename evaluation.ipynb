{
 "cells": [
  {
   "cell_type": "code",
   "execution_count": null,
   "id": "1ce842bb",
   "metadata": {},
   "outputs": [],
   "source": [
    "import pandas as pd\n",
    "import numpy as np\n",
    "import matplotlib.pyplot as plt"
   ]
  },
  {
   "cell_type": "code",
   "execution_count": null,
   "id": "e789c5d0",
   "metadata": {},
   "outputs": [],
   "source": [
    "df = pd.read_csv('res.csv', sep=',').astype(np.float64)\n",
    "df.set_index('num_qubits', inplace=True)\n",
    "df[\"fidelity_ratio_with_swap_opt\"] = df[\"expected_fidelity_new_scheme_with_swap_opt\"]/df[\"expected_fidelity_baseline\"]\n",
    "df[\"fidelity_ratio_without_swap_opt\"] = df[\"expected_fidelity_new_scheme_without_swap_opt\"]/df[\"expected_fidelity_baseline\"]\n",
    "df"
   ]
  },
  {
   "cell_type": "code",
   "execution_count": null,
   "id": "ae15e0b7",
   "metadata": {},
   "outputs": [],
   "source": [
    "df.groupby(['considered_following_qubits', 'sample_probability'])['cx_count_ratio_with_swap_opt'].plot(legend=True);"
   ]
  },
  {
   "cell_type": "code",
   "execution_count": null,
   "id": "f30bc153",
   "metadata": {},
   "outputs": [],
   "source": [
    "df.groupby(['considered_following_qubits', 'sample_probability'])['time_ratio_with_swap_opt'].plot(legend=True);"
   ]
  },
  {
   "cell_type": "code",
   "execution_count": null,
   "id": "027f95b2",
   "metadata": {},
   "outputs": [],
   "source": [
    "df.groupby(['considered_following_qubits', 'sample_probability'])['fidelity_ratio_with_swap_opt'].plot(legend=True);"
   ]
  },
  {
   "cell_type": "code",
   "execution_count": null,
   "id": "fc763cb4",
   "metadata": {},
   "outputs": [],
   "source": []
  }
 ],
 "metadata": {
  "kernelspec": {
   "display_name": "Python 3 (ipykernel)",
   "language": "python",
   "name": "python3"
  },
  "language_info": {
   "codemirror_mode": {
    "name": "ipython",
    "version": 3
   },
   "file_extension": ".py",
   "mimetype": "text/x-python",
   "name": "python",
   "nbconvert_exporter": "python",
   "pygments_lexer": "ipython3"
  }
 },
 "nbformat": 4,
 "nbformat_minor": 5
}