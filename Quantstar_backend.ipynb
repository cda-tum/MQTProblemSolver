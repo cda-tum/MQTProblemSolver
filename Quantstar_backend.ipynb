{
 "cells": [
  {
   "cell_type": "markdown",
   "metadata": {},
   "source": [
    "# Quantstar - Revolutionizing Satellite Operations"
   ]
  },
  {
   "cell_type": "markdown",
   "metadata": {},
   "source": [
    "## Imports"
   ]
  },
  {
   "cell_type": "code",
   "execution_count": null,
   "metadata": {},
   "outputs": [],
   "source": [
    "from mqt import ddsim\n",
    "import numpy as np\n",
    "\n",
    "from mqt.problemsolver import utils\n",
    "from mqt.problemsolver.utils import  QAOA, W_QAOA\n",
    "\n",
    "from qiskit import Aer, execute\n",
    "from qiskit_optimization.converters.quadratic_program_to_qubo import QuadraticProgramToQubo\n",
    "from qiskit_optimization.translators import from_docplex_mp\n",
    "from qiskit_optimization.converters.quadratic_program_to_qubo import (\n",
    "    QuadraticProgramToQubo,\n",
    ")\n",
    "from qiskit.algorithms.optimizers import L_BFGS_B, ADAM, SPSA\n",
    "\n",
    "import matplotlib.pyplot as plt\n",
    "\n",
    "import warnings\n",
    "import time"
   ]
  },
  {
   "cell_type": "markdown",
   "metadata": {},
   "source": [
    "## Create arbitrary Satellite Problem Instance"
   ]
  },
  {
   "cell_type": "code",
   "execution_count": null,
   "metadata": {},
   "outputs": [],
   "source": [
    "num_requests = 5\n",
    "ac_reqs = utils.init_random_acquisition_requests(num_requests)\n",
    "utils.plot_acqisition_requests(ac_reqs)"
   ]
  },
  {
   "cell_type": "markdown",
   "metadata": {},
   "source": [
    "## Create Docplex Model and Convert it to QUBO Formulation"
   ]
  },
  {
   "cell_type": "code",
   "execution_count": null,
   "metadata": {},
   "outputs": [],
   "source": [
    "penalty = None\n",
    "mdl = utils.create_satellite_doxplex(ac_reqs)\n",
    "converter, qubo = utils.convert_docplex_to_qubo(mdl, penalty=penalty)\n",
    "print(qubo.prettyprint())\n",
    "print(qubo.to_ising())\n",
    "converter, qubo = utils.convert_docplex_to_qubo(mdl)\n",
    "print(qubo.to_ising())\n",
    "for elem in qubo.to_ising():\n",
    "    print(elem, type(elem))"
   ]
  },
  {
   "cell_type": "markdown",
   "metadata": {},
   "source": [
    "## QAOA Solution Implementation"
   ]
  },
  {
   "cell_type": "code",
   "execution_count": null,
   "metadata": {},
   "outputs": [],
   "source": [
    "def solve_using_qaoa(qubo) -> bool:\n",
    "    qaoa = QAOA(QAOA_params={\"reps\":3, \"optimizer\": SPSA(maxiter=100)})\n",
    "    qc_qaoa, res_qaoa = qaoa.get_solution(qubo)\n",
    "\n",
    "    num_shots = 10000\n",
    "    backend = ddsim.DDSIMProvider().get_backend(\"qasm_simulator\")\n",
    "    job = execute(qc_qaoa, backend, shots=num_shots)\n",
    "    qaoa_counts = job.result().get_counts(qc_qaoa)\n",
    "\n",
    "    probs={}\n",
    "    for key in qaoa_counts:\n",
    "        bin_val = bin(int(key, 2))[2:].zfill(len(qubo.variables))\n",
    "        state = converter.interpret(np.array(list(bin_val), dtype=int))\n",
    "        probs[bin_val] = qaoa_counts[key]/num_shots\n",
    "\n",
    "    most_likely_eigenstate_qaoa = utils.sample_most_likely(probs)\n",
    "    most_likely_eigenstate_qaoa = np.array([int(s) for s in most_likely_eigenstate_qaoa], dtype=float)\n",
    "    if utils.check_solution(ac_reqs, most_likely_eigenstate_qaoa):\n",
    "        solution = most_likely_eigenstate_qaoa\n",
    "        value = utils.calc_sol_value(ac_reqs, most_likely_eigenstate_qaoa)\n",
    "        return solution, value\n",
    "    else:\n",
    "        return False"
   ]
  },
  {
   "cell_type": "code",
   "execution_count": null,
   "metadata": {},
   "outputs": [],
   "source": [
    "ac_reqs = utils.init_random_acquisition_requests(5)\n",
    "mdl = utils.create_satellite_doxplex(ac_reqs)\n",
    "converter, qubo = utils.convert_docplex_to_qubo(mdl)\n",
    "qaoa = QAOA(QAOA_params={\"reps\":1, \"optimizer\": SPSA(maxiter=1)})\n",
    "qc_qaoa, res_qaoa = qaoa.get_solution(qubo)\n",
    "print(qubo.to_ising())\n",
    "print(qubo)\n",
    "print(np.array(qubo.to_ising()[0].primitive.coeffs, dtype=float))\n",
    "print(qubo.to_ising()[1])\n",
    "print(qaoa.ansatz.decompose(reps=2))"
   ]
  },
  {
   "cell_type": "markdown",
   "metadata": {},
   "source": [
    "### Execution"
   ]
  },
  {
   "cell_type": "code",
   "execution_count": null,
   "metadata": {},
   "outputs": [],
   "source": [
    "num_runs = 5\n",
    "max_problem_size_qaoa = 10\n",
    "res_all_qaoa_times = []\n",
    "res_all_qaoa = []\n",
    "for i in range (2, max_problem_size_qaoa):\n",
    "    ac_reqs = utils.init_random_acquisition_requests(i)\n",
    "    mdl = utils.create_satellite_doxplex(ac_reqs)\n",
    "    converter, qubo = utils.convert_docplex_to_qubo(mdl)\n",
    "    print(i)\n",
    "    res_tmp = []\n",
    "    res_tmp_time = []\n",
    "    success = 0\n",
    "    for j in range(num_runs):\n",
    "        start_time = time.time()\n",
    "        if solve_using_qaoa(qubo):\n",
    "            success += 1\n",
    "        res_tmp_time.append(time.time()-start_time)\n",
    "    res_all_qaoa.append(success/num_runs)\n",
    "    res_all_qaoa_times.append(sum(res_tmp_time)/num_runs)"
   ]
  },
  {
   "cell_type": "markdown",
   "metadata": {},
   "source": [
    "## W-QAOA Solution"
   ]
  },
  {
   "cell_type": "code",
   "execution_count": null,
   "metadata": {},
   "outputs": [],
   "source": [
    "def solve_using_w_qaoa(qubo) -> bool:\n",
    "    wqaoa = W_QAOA()\n",
    "    qc_wqaoa, res_wqaoa = wqaoa.get_solution(qubo)\n",
    "    return res_wqaoa"
   ]
  },
  {
   "cell_type": "markdown",
   "metadata": {},
   "source": [
    "### Execution"
   ]
  },
  {
   "cell_type": "code",
   "execution_count": null,
   "metadata": {},
   "outputs": [],
   "source": [
    "num_runs = 5\n",
    "max_problem_size_wqaoa = 10\n",
    "res_all_wqaoa_times = []\n",
    "res_all_wqaoa = []\n",
    "for i in range (2, max_problem_size_wqaoa):\n",
    "    print(i)\n",
    "    ac_reqs = utils.init_random_acquisition_requests(i)\n",
    "    mdl = utils.create_satellite_doxplex(ac_reqs)\n",
    "    converter, qubo = utils.convert_docplex_to_qubo(mdl)\n",
    "    res_tmp = []\n",
    "    res_tmp_time = []\n",
    "    success = 0\n",
    "    for j in range(num_runs):\n",
    "        start_time = time.time()\n",
    "        res_w_qaoa = solve_using_w_qaoa(qubo)\n",
    "        if res_w_qaoa.status.value==0:\n",
    "            success += 1\n",
    "        res_tmp_time.append(time.time()-start_time)\n",
    "    res_all_wqaoa.append(success/num_runs)\n",
    "    res_all_wqaoa_times.append(sum(res_tmp_time)/num_runs)"
   ]
  },
  {
   "cell_type": "markdown",
   "metadata": {},
   "source": [
    "## Generate Plots"
   ]
  },
  {
   "cell_type": "code",
   "execution_count": null,
   "metadata": {},
   "outputs": [],
   "source": [
    "plt.plot(range(2, max_problem_size_qaoa), res_all_qaoa, label=\"QAOA\")\n",
    "plt.plot(range(2, max_problem_size_wqaoa), res_all_wqaoa, label=\"W-QAOA\")\n",
    "plt.title(\"Average Success Probability per Problem Size\")\n",
    "plt.xlabel(\"Problem Size\")\n",
    "plt.ylabel(\"Success Probability\")\n",
    "plt.legend()\n",
    "plt.show()\n",
    "\n",
    "plt.plot(range(2, max_problem_size_qaoa), res_all_qaoa_times, label=\"QAOA\")\n",
    "plt.plot(range(2, max_problem_size_wqaoa), res_all_wqaoa_times, label=\"W-QAOA\")\n",
    "plt.title(\"Average Runtime per Problem Size\")\n",
    "plt.xlabel(\"Problem Size\")\n",
    "plt.ylabel(\"Runtime in s\")\n",
    "plt.legend()\n",
    "plt.show()"
   ]
  },
  {
   "cell_type": "code",
   "execution_count": null,
   "metadata": {},
   "outputs": [],
   "source": []
  },
  {
   "cell_type": "code",
   "execution_count": null,
   "metadata": {},
   "outputs": [],
   "source": []
  }
 ],
 "metadata": {
  "kernelspec": {
   "display_name": "Python 3 (ipykernel)",
   "language": "python",
   "name": "python3"
  },
  "language_info": {
   "codemirror_mode": {
    "name": "ipython",
    "version": 3
   },
   "file_extension": ".py",
   "mimetype": "text/x-python",
   "name": "python",
   "nbconvert_exporter": "python",
   "pygments_lexer": "ipython3"
  }
 },
 "nbformat": 4,
 "nbformat_minor": 1
}
