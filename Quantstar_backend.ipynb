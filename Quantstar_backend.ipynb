{
 "cells": [
  {
   "cell_type": "markdown",
   "metadata": {},
   "source": [
    "# Quantstar - Revolutionizing Satellite Operations"
   ]
  },
  {
   "cell_type": "markdown",
   "metadata": {},
   "source": [
    "## Imports"
   ]
  },
  {
   "cell_type": "code",
   "execution_count": null,
   "metadata": {},
   "outputs": [],
   "source": [
    "from mqt import ddsim\n",
    "import numpy as np\n",
    "\n",
    "from mqt.problemsolver.satellitesolver import utils\n",
    "from mqt.problemsolver.satellitesolver.utils import  QAOA, W_QAOA\n",
    "\n",
    "from qiskit import Aer, execute\n",
    "from qiskit_optimization.converters.quadratic_program_to_qubo import QuadraticProgramToQubo\n",
    "from qiskit_optimization.translators import from_docplex_mp\n",
    "from qiskit_optimization.converters.quadratic_program_to_qubo import (\n",
    "    QuadraticProgramToQubo,\n",
    ")\n",
    "from qiskit.algorithms.optimizers import L_BFGS_B, ADAM, SPSA\n",
    "\n",
    "import matplotlib.pyplot as plt\n",
    "\n",
    "import warnings\n",
    "import time"
   ]
  },
  {
   "cell_type": "markdown",
   "metadata": {},
   "source": [
    "## Create arbitrary Satellite Problem Instance"
   ]
  },
  {
   "cell_type": "code",
   "execution_count": null,
   "metadata": {},
   "outputs": [],
   "source": [
    "num_requests = 5\n",
    "ac_reqs = utils.init_random_acquisition_requests(num_requests)\n",
    "utils.plot_acqisition_requests(ac_reqs)"
   ]
  },
  {
   "cell_type": "markdown",
   "metadata": {},
   "source": [
    "## Create Docplex Model and Convert it to QUBO Formulation"
   ]
  },
  {
   "cell_type": "code",
   "execution_count": null,
   "metadata": {},
   "outputs": [],
   "source": [
    "penalty = None\n",
    "mdl = utils.create_satellite_doxplex(ac_reqs)\n",
    "converter, qubo = utils.convert_docplex_to_qubo(mdl, penalty=penalty)\n",
    "print(qubo.prettyprint())\n",
    "print(qubo.to_ising())\n",
    "converter, qubo = utils.convert_docplex_to_qubo(mdl)\n",
    "print(qubo.to_ising())\n",
    "for elem in qubo.to_ising():\n",
    "    print(elem, type(elem))"
   ]
  },
  {
   "cell_type": "markdown",
   "metadata": {},
   "source": [
    "## QAOA Solution Implementation"
   ]
  },
  {
   "cell_type": "code",
   "execution_count": null,
   "metadata": {},
   "outputs": [],
   "source": [
    "def solve_using_qaoa(qubo) -> bool:\n",
    "    qaoa = QAOA(QAOA_params={\"reps\":3, \"optimizer\": SPSA(maxiter=100)})\n",
    "    qc_qaoa, res_qaoa = qaoa.get_solution(qubo)\n",
    "\n",
    "    num_shots = 10000\n",
    "    backend = ddsim.DDSIMProvider().get_backend(\"qasm_simulator\")\n",
    "    job = execute(qc_qaoa, backend, shots=num_shots)\n",
    "    qaoa_counts = job.result().get_counts(qc_qaoa)\n",
    "\n",
    "    probs={}\n",
    "    for key in qaoa_counts:\n",
    "        bin_val = bin(int(key, 2))[2:].zfill(len(qubo.variables))\n",
    "        state = converter.interpret(np.array(list(bin_val), dtype=int))\n",
    "        probs[bin_val] = qaoa_counts[key]/num_shots\n",
    "\n",
    "    most_likely_eigenstate_qaoa = utils.sample_most_likely(probs)\n",
    "    most_likely_eigenstate_qaoa = np.array([int(s) for s in most_likely_eigenstate_qaoa], dtype=float)\n",
    "    if utils.check_solution(ac_reqs, most_likely_eigenstate_qaoa):\n",
    "        solution = most_likely_eigenstate_qaoa\n",
    "        value = utils.calc_sol_value(ac_reqs, most_likely_eigenstate_qaoa)\n",
    "        return solution, value\n",
    "    else:\n",
    "        return False"
   ]
  },
  {
   "cell_type": "code",
   "execution_count": null,
   "metadata": {},
   "outputs": [],
   "source": [
    "ac_reqs = utils.init_random_acquisition_requests(5)\n",
    "mdl = utils.create_satellite_doxplex(ac_reqs)\n",
    "converter, qubo = utils.convert_docplex_to_qubo(mdl)\n",
    "qaoa = QAOA(QAOA_params={\"reps\":1, \"optimizer\": SPSA(maxiter=1)})\n",
    "qc_qaoa, res_qaoa = qaoa.get_solution(qubo)\n",
    "print(qubo.to_ising())\n",
    "print(qubo)\n",
    "print(np.array(qubo.to_ising()[0].primitive.coeffs, dtype=float))\n",
    "print(qubo.to_ising()[1])\n",
    "print(qaoa.ansatz.decompose(reps=2))"
   ]
  },
  {
   "cell_type": "markdown",
   "metadata": {},
   "source": [
    "## W-QAOA Solution"
   ]
  },
  {
   "cell_type": "code",
   "execution_count": null,
   "metadata": {},
   "outputs": [],
   "source": [
    "def solve_using_w_qaoa(qubo) -> bool:\n",
    "    wqaoa = W_QAOA()\n",
    "    qc_wqaoa, res_wqaoa = wqaoa.get_solution(qubo)\n",
    "    return res_wqaoa"
   ]
  },
  {
   "cell_type": "markdown",
   "metadata": {},
   "source": [
    "### Execution"
   ]
  },
  {
   "cell_type": "code",
   "execution_count": null,
   "metadata": {},
   "outputs": [],
   "source": [
    "num_runs = 5\n",
    "max_problem_size = 20\n",
    "stepsize = 2\n",
    "res_all_qaoa_times = []\n",
    "res_all_qaoa = []\n",
    "res_all_wqaoa_times = []\n",
    "res_all_wqaoa = []\n",
    "for i in range (2, max_problem_size, stepsize):\n",
    "    print(i)\n",
    "    ac_reqs = utils.init_random_acquisition_requests(i)\n",
    "    mdl = utils.create_satellite_doxplex(ac_reqs)\n",
    "    converter, qubo = utils.convert_docplex_to_qubo(mdl)\n",
    "    \n",
    "    print(\"Start QAOA Solver\")\n",
    "    res_tmp_time = []\n",
    "    success = 0\n",
    "    for j in range(num_runs):\n",
    "        start_time = time.time()\n",
    "        if solve_using_qaoa(qubo):\n",
    "            success += 1\n",
    "        res_tmp_time.append(time.time()-start_time)\n",
    "    res_all_qaoa.append(success/num_runs)\n",
    "    res_all_qaoa_times.append(sum(res_tmp_time)/num_runs)\n",
    "    \n",
    "    print(\"Start W-QAOA Solver\")\n",
    "    res_tmp_time = []\n",
    "    success = 0\n",
    "    for j in range(num_runs):\n",
    "        start_time = time.time()\n",
    "        res_w_qaoa = solve_using_w_qaoa(qubo)\n",
    "        if res_w_qaoa.status.value==0:\n",
    "            success += 1\n",
    "        res_tmp_time.append(time.time()-start_time)\n",
    "    res_all_wqaoa.append(success/num_runs)\n",
    "    res_all_wqaoa_times.append(sum(res_tmp_time)/num_runs)"
   ]
  },
  {
   "cell_type": "markdown",
   "metadata": {},
   "source": [
    "## Generate Plots"
   ]
  },
  {
   "cell_type": "code",
   "execution_count": null,
   "metadata": {},
   "outputs": [],
   "source": [
    "size = 12\n",
    "plt.plot(range(2, max_problem_size, stepsize), res_all_qaoa, label=\"QAOA\", color=\"green\")\n",
    "plt.plot(range(2, max_problem_size, stepsize), res_all_wqaoa, label=\"W-QAOA\", color=\"blue\")\n",
    "plt.title(\"Average Success Probability per Problem Size\")\n",
    "plt.xlabel(\"Problem Size\", size=size)\n",
    "plt.ylabel(\"Success Probability\", size=size)\n",
    "plt.xticks(size=size)\n",
    "plt.yticks(size=size)\n",
    "plt.legend()\n",
    "plt.savefig('sat_solver_quality.pdf')\n",
    "plt.show()\n",
    "\n",
    "plt.plot(range(2, max_problem_size, stepsize), res_all_qaoa_times, label=\"QAOA\", color=\"green\")\n",
    "plt.plot(range(2, max_problem_size, stepsize), res_all_wqaoa_times, label=\"W-QAOA\", color=\"blue\")\n",
    "plt.title(\"Average Runtime per Problem Size\")\n",
    "plt.xlabel(\"Problem Size\", size=size)\n",
    "plt.ylabel(\"Runtime in s\", size=size)\n",
    "plt.xticks(size=size)\n",
    "plt.yticks(size=size)\n",
    "plt.legend()\n",
    "plt.savefig('sat_solver_time.pdf')\n",
    "plt.show()"
   ]
  },
  {
   "cell_type": "markdown",
   "metadata": {},
   "source": [
    "# Utilize Qiskit Runtime"
   ]
  },
  {
   "cell_type": "code",
   "execution_count": null,
   "metadata": {},
   "outputs": [],
   "source": [
    "# Code Structure is taken from https://qiskit.org/ecosystem/optimization/tutorials/12_qaoa_runtime.html\n",
    "from qiskit import IBMQ\n",
    "from mqt.problemsolver import utils\n",
    "import numpy as np\n",
    "\n",
    "from qiskit.tools import job_monitor\n",
    "from qiskit.algorithms.optimizers import SPSA\n",
    "\n",
    "IBMQ.load_account()\n",
    "\n",
    "provider = IBMQ.get_provider(hub=\"ibm-q\", group=\"open\", project=\"main\")\n",
    "program_id = \"qaoa\"\n",
    "qaoa_program = provider.runtime.program(program_id)\n",
    "print(f\"Program name: {qaoa_program.name}, Program id: {qaoa_program.program_id}\")\n",
    "print(qaoa_program.parameters())\n",
    "\n",
    "\n",
    "\n",
    "# SPSA helps deal with noisy environments.\n",
    "optimizer = SPSA(maxiter=100)\n",
    "\n",
    "# We will run a depth two QAOA.\n",
    "reps = 2\n",
    "\n",
    "# The initial point for the optimization, chosen at random.\n",
    "initial_point = np.random.random(2 * reps)\n",
    "\n",
    "# The backend that will run the programm.\n",
    "options = {\"backend_name\": \"ibmq_jakarta\"}\n",
    "\n",
    "ac_reqs = utils.init_random_acquisition_requests(5)\n",
    "mdl = utils.create_satellite_doxplex(ac_reqs)\n",
    "converter, qubo = utils.convert_docplex_to_qubo(mdl)\n",
    "op = qubo.to_ising()[0]\n",
    "\n",
    "\n",
    "# The inputs of the program as described above.\n",
    "runtime_inputs = {\n",
    "    \"operator\": op,\n",
    "    \"reps\": reps,\n",
    "    \"optimizer\": optimizer,\n",
    "    \"initial_point\": initial_point,\n",
    "    \"shots\": 2**13,\n",
    "    # Set to True when running on real backends to reduce circuit\n",
    "    # depth by leveraging swap strategies. If False the\n",
    "    # given optimization_level (default is 1) will be used.\n",
    "    \"use_swap_strategies\": False,\n",
    "    # Set to True when optimizing sparse problems.\n",
    "    \"use_initial_mapping\": False,\n",
    "    # Set to true when using echoed-cross-resonance hardware.\n",
    "    \"use_pulse_efficient\": False,\n",
    "}\n",
    "\n",
    "job = provider.runtime.run(\n",
    "    program_id=program_id,\n",
    "    options=options,\n",
    "    inputs=runtime_inputs,\n",
    ")\n",
    "\n",
    "#job_monitor(job)\n",
    "\n",
    "print(f\"Job id: {job.job_id()}\")\n",
    "print(f\"Job status: {job.status()}\")"
   ]
  },
  {
   "cell_type": "code",
   "execution_count": null,
   "metadata": {},
   "outputs": [],
   "source": [
    "from qiskit import IBMQ\n",
    "IBMQ.load_account()\n",
    "provider = IBMQ.get_provider(hub=\"ibm-q\", group=\"open\", project=\"main\")\n",
    "job = provider.runtime.job('cgv92brbafkgj77eupc0')"
   ]
  },
  {
   "cell_type": "code",
   "execution_count": null,
   "metadata": {},
   "outputs": [],
   "source": [
    "job.status()"
   ]
  },
  {
   "cell_type": "code",
   "execution_count": null,
   "metadata": {},
   "outputs": [],
   "source": [
    "result = job.result()"
   ]
  },
  {
   "cell_type": "code",
   "execution_count": null,
   "metadata": {},
   "outputs": [],
   "source": [
    "result.get(\"eigenstate\")"
   ]
  },
  {
   "cell_type": "code",
   "execution_count": null,
   "metadata": {},
   "outputs": [],
   "source": [
    "most_likely_eigenstate_qaoa = utils.sample_most_likely(result.get(\"eigenstate\"))\n",
    "most_likely_eigenstate_qaoa"
   ]
  },
  {
   "cell_type": "code",
   "execution_count": null,
   "metadata": {},
   "outputs": [],
   "source": [
    "print(utils.check_solution(ac_reqs, most_likely_eigenstate_qaoa))"
   ]
  },
  {
   "cell_type": "code",
   "execution_count": null,
   "metadata": {},
   "outputs": [],
   "source": []
  },
  {
   "cell_type": "code",
   "execution_count": null,
   "metadata": {},
   "outputs": [],
   "source": []
  }
 ],
 "metadata": {
  "kernelspec": {
   "display_name": "Python 3 (ipykernel)",
   "language": "python",
   "name": "python3"
  },
  "language_info": {
   "codemirror_mode": {
    "name": "ipython",
    "version": 3
   },
   "file_extension": ".py",
   "mimetype": "text/x-python",
   "name": "python",
   "nbconvert_exporter": "python",
   "pygments_lexer": "ipython3"
  }
 },
 "nbformat": 4,
 "nbformat_minor": 1
}
