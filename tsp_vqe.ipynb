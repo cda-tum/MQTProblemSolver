{
 "cells": [
  {
   "cell_type": "code",
   "execution_count": 34,
   "id": "8bdb0a57",
   "metadata": {},
   "outputs": [],
   "source": [
    "from qiskit import Aer\n",
    "from qiskit.circuit.library import TwoLocal\n",
    "from qiskit.algorithms import VQE, QAOA\n",
    "from qiskit.algorithms.optimizers import SPSA, SLSQP\n",
    "from qiskit.utils import algorithm_globals, QuantumInstance\n",
    "from qiskit_optimization.algorithms import MinimumEigenOptimizer\n",
    "from qiskit_optimization.converters import QuadraticProgramToQubo\n",
    "from qiskit_optimization.applications import Tsp\n",
    "import networkx as nx"
   ]
  },
  {
   "cell_type": "code",
   "execution_count": 26,
   "id": "772ca995",
   "metadata": {},
   "outputs": [],
   "source": [
    "G = nx.Graph()\n",
    "G.add_edge(0, 1, weight=1)\n",
    "G.add_edge(0, 2, weight=2)\n",
    "G.add_edge(0, 3, weight=3)\n",
    "G.add_edge(1, 2, weight=4)\n",
    "G.add_edge(1, 3, weight=5)\n",
    "G.add_edge(2, 3, weight=6)"
   ]
  },
  {
   "cell_type": "code",
   "execution_count": 27,
   "id": "7ad8c3f2",
   "metadata": {
    "scrolled": true
   },
   "outputs": [
    {
     "name": "stdout",
     "output_type": "stream",
     "text": [
      "Distances:    (0, 1)\t1\n",
      "  (0, 2)\t2\n",
      "  (0, 3)\t3\n",
      "  (1, 0)\t1\n",
      "  (1, 2)\t4\n",
      "  (1, 3)\t5\n",
      "  (2, 0)\t2\n",
      "  (2, 1)\t4\n",
      "  (2, 3)\t6\n",
      "  (3, 0)\t3\n",
      "  (3, 1)\t5\n",
      "  (3, 2)\t6\n"
     ]
    },
    {
     "name": "stderr",
     "output_type": "stream",
     "text": [
      "/var/folders/f4/n3_mnvbd6q50h0gtzy84vyn40000gn/T/ipykernel_17223/3849291369.py:6: FutureWarning: adjacency_matrix will return a scipy.sparse array instead of a matrix in Networkx 3.0.\n",
      "  print(\"Distances: \", nx.adjacency_matrix(G))\n"
     ]
    }
   ],
   "source": [
    "tsp = Tsp(G)\n",
    "qp = tsp.to_quadratic_program()\n",
    "qp2qubo = QuadraticProgramToQubo()\n",
    "qubo = qp2qubo.convert(qp)\n",
    "qubit_op, offset = qubo.to_ising()\n",
    "print(\"Distances: \", nx.adjacency_matrix(G))"
   ]
  },
  {
   "cell_type": "code",
   "execution_count": null,
   "id": "623c23d2",
   "metadata": {},
   "outputs": [],
   "source": [
    "seed = 10\n",
    "from mqt import ddsim\n",
    "backend = ddsim.DDSIMProvider().get_backend('qasm_simulator')\n",
    "#backend = Aer.get_backend(\"aer_simulator\")\n",
    "\n",
    "quantum_instance = QuantumInstance(\n",
    "    backend, seed_simulator=seed, shots=1024\n",
    ")\n",
    "\n",
    "ansatz = TwoLocal(qubit_op.num_qubits, \"ry\", \"cz\", reps=7, entanglement=\"linear\")\n",
    "#vqe = VQE(ansatz, optimizer=SPSA(maxiter=100), quantum_instance=quantum_instance)\n",
    "#vqe_result = vqe.compute_minimum_eigenvalue(qubit_op)\n",
    "qaoa = QAOA(reps=2, optimizer=SLSQP(maxiter=25), quantum_instance=quantum_instance)\n",
    "qaoa_result = qaoa.compute_minimum_eigenvalue(qubit_op)\n",
    "\n",
    "\n"
   ]
  },
  {
   "cell_type": "code",
   "execution_count": null,
   "id": "5ded986f",
   "metadata": {},
   "outputs": [],
   "source": [
    "x = tsp.sample_most_likely(qaoa_result.eigenstate)\n",
    "print(\"feasible:\", qubo.is_feasible(x))\n",
    "z = tsp.interpret(x)\n",
    "print(\"solution:\", z)\n",
    "print(x)"
   ]
  },
  {
   "cell_type": "code",
   "execution_count": null,
   "id": "a13eb441",
   "metadata": {},
   "outputs": [],
   "source": []
  }
 ],
 "metadata": {
  "kernelspec": {
   "display_name": "Python 3 (ipykernel)",
   "language": "python",
   "name": "python3"
  },
  "language_info": {
   "codemirror_mode": {
    "name": "ipython",
    "version": 3
   },
   "file_extension": ".py",
   "mimetype": "text/x-python",
   "name": "python",
   "nbconvert_exporter": "python",
   "pygments_lexer": "ipython3",
   "version": "3.9.12"
  }
 },
 "nbformat": 4,
 "nbformat_minor": 5
}
