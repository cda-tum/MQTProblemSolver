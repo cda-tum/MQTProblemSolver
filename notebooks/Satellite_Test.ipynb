{
 "cells": [
  {
   "cell_type": "markdown",
   "id": "7cddd630",
   "metadata": {},
   "source": [
    "# Evaluation"
   ]
  },
  {
   "cell_type": "code",
   "execution_count": null,
   "id": "60541429",
   "metadata": {},
   "outputs": [],
   "source": [
    "from mqt.problemsolver.partialcompiler.qaoa import QAOA\n",
    "import numpy as np\n",
    "from time import time\n",
    "from mqt.qcec import verify"
   ]
  },
  {
   "cell_type": "code",
   "execution_count": null,
   "id": "961b45cf",
   "metadata": {},
   "outputs": [],
   "source": [
    "s = QAOA(num_qubits=4, repetitions=3, sample_probability=0.3, considered_following_qubits=3, satellite_use_case=True)\n",
    "qc_compiled_with_all_gates = s.qc_compiled.copy()\n",
    "compiled_qc = s.remove_unnecessary_gates(\n",
    "    qc=qc_compiled_with_all_gates,\n",
    "    optimize_swaps=True\n",
    ")"
   ]
  },
  {
   "cell_type": "code",
   "execution_count": null,
   "id": "08f9b198",
   "metadata": {},
   "outputs": [],
   "source": [
    "qc_compiled_with_all_gates.draw()"
   ]
  },
  {
   "cell_type": "code",
   "execution_count": null,
   "id": "d97a9ae2",
   "metadata": {},
   "outputs": [],
   "source": [
    "s = QAOA(num_qubits=4, repetitions=3, sample_probability=0.3, considered_following_qubits=3, satellite_use_case=True)\n",
    "qc_compiled_with_all_gates = s.qc_compiled.copy()\n",
    "\n",
    "print(\"Start New\")\n",
    "start = time()\n",
    "compiled_qc = s.remove_unnecessary_gates_and_set_parameter_factors(\n",
    "    qc=qc_compiled_with_all_gates,\n",
    "    optimize_swaps=True\n",
    ")\n",
    "time_new_scheme = time() - start\n",
    "\n",
    "print(\"Start Baseline\")\n",
    "start = time()\n",
    "qc_baseline_compiled = s.compile_qc(baseline=True, opt_level=3)\n",
    "time_baseline = time() - start\n",
    "\n",
    "time_ratio = time_new_scheme / time_baseline\n",
    "if qc_baseline_compiled.count_ops().get(\"cx\"):\n",
    "    cx_count_ratio = compiled_qc.count_ops()[\"cx\"] / qc_baseline_compiled.count_ops()[\"cx\"]\n",
    "else:\n",
    "    cx_count_ratio = 0\n",
    "# print(\"QCEC:\", verify(q.qc_baseline, qc_baseline_compiled))\n",
    "print (np.round(time_ratio,5), np.round(cx_count_ratio,3))"
   ]
  },
  {
   "cell_type": "code",
   "execution_count": null,
   "id": "c37d9da9",
   "metadata": {},
   "outputs": [],
   "source": [
    "s.compile_qc(baseline=True, opt_level=3)"
   ]
  },
  {
   "cell_type": "code",
   "execution_count": null,
   "id": "460d04a8",
   "metadata": {},
   "outputs": [],
   "source": [
    "print(\"QCEC:\", verify(compiled_qc, qc_baseline_compiled))"
   ]
  },
  {
   "cell_type": "code",
   "execution_count": null,
   "id": "514af6e4",
   "metadata": {},
   "outputs": [],
   "source": [
    "compiled_qc.draw()"
   ]
  },
  {
   "cell_type": "code",
   "execution_count": null,
   "id": "6a544c87",
   "metadata": {},
   "outputs": [],
   "source": [
    "s.qc_baseline.draw()"
   ]
  },
  {
   "cell_type": "code",
   "execution_count": null,
   "id": "685da849",
   "metadata": {},
   "outputs": [],
   "source": [
    "compiled_qc.draw()"
   ]
  },
  {
   "cell_type": "code",
   "execution_count": null,
   "id": "03d773f4",
   "metadata": {},
   "outputs": [],
   "source": []
  }
 ],
 "metadata": {
  "kernelspec": {
   "display_name": "Python 3 (ipykernel)",
   "language": "python",
   "name": "python3"
  },
  "language_info": {
   "codemirror_mode": {
    "name": "ipython",
    "version": 3
   },
   "file_extension": ".py",
   "mimetype": "text/x-python",
   "name": "python",
   "nbconvert_exporter": "python",
   "pygments_lexer": "ipython3"
  }
 },
 "nbformat": 4,
 "nbformat_minor": 5
}
