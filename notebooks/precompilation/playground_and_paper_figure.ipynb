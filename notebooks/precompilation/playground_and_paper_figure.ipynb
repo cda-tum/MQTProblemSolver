{
 "cells": [
  {
   "cell_type": "markdown",
   "id": "7cddd630",
   "metadata": {},
   "source": [
    "# Playground MaxCut"
   ]
  },
  {
   "cell_type": "code",
   "execution_count": null,
   "id": "60541429",
   "metadata": {},
   "outputs": [],
   "source": [
    "from mqt.problemsolver.partialcompiler.qaoa import QAOA\n",
    "import numpy as np\n",
    "from time import time\n",
    "from mqt.qcec import verify"
   ]
  },
  {
   "cell_type": "code",
   "execution_count": null,
   "id": "59a2dc81",
   "metadata": {},
   "outputs": [],
   "source": [
    "q = QAOA(num_qubits=9, repetitions=3, sample_probability=0.3, considered_following_qubits=1)\n",
    "qc_compiled_with_all_gates = q.qc_compiled.copy()\n",
    "\n",
    "print(\"Start New\")\n",
    "start = time()\n",
    "compiled_qc = q.remove_unnecessary_gates(\n",
    "    qc=qc_compiled_with_all_gates,\n",
    "    optimize_swaps=True\n",
    ")\n",
    "time_new_scheme = time() - start\n",
    "\n",
    "print(\"Start Baseline\")\n",
    "start = time()\n",
    "qc_baseline_compiled = q.compile_qc(baseline=True, opt_level=1)\n",
    "time_baseline = time() - start\n",
    "\n",
    "time_ratio = time_new_scheme / time_baseline\n",
    "if qc_baseline_compiled.count_ops().get(\"cx\"):\n",
    "    cx_count_ratio = compiled_qc.count_ops()[\"cx\"] / qc_baseline_compiled.count_ops()[\"cx\"]\n",
    "else:\n",
    "    cx_count_ratio = 0\n",
    "# print(\"QCEC:\", verify(q.qc_baseline, qc_baseline_compiled))\n",
    "print (np.round(time_ratio,5), np.round(cx_count_ratio,3))"
   ]
  },
  {
   "cell_type": "code",
   "execution_count": null,
   "id": "5d641cf1",
   "metadata": {},
   "outputs": [],
   "source": [
    "print(verify(compiled_qc, qc_baseline_compiled))"
   ]
  },
  {
   "cell_type": "markdown",
   "id": "685dada6",
   "metadata": {},
   "source": [
    "# Playground Satellite Use-Case"
   ]
  },
  {
   "cell_type": "code",
   "execution_count": null,
   "id": "367d6caa",
   "metadata": {},
   "outputs": [],
   "source": [
    "s = QAOA(num_qubits=3, repetitions=3, sample_probability=0.3, considered_following_qubits=3, satellite_use_case=True)\n",
    "qc_compiled_with_all_gates = s.qc_compiled.copy()\n",
    "\n",
    "print(\"Start New\")\n",
    "start = time()\n",
    "compiled_qc = s.remove_unnecessary_gates(\n",
    "    qc=qc_compiled_with_all_gates,\n",
    "    optimize_swaps=True\n",
    ")\n",
    "time_new_scheme = time() - start\n",
    "\n",
    "print(\"Start Baseline\")\n",
    "start = time()\n",
    "qc_baseline_compiled = s.compile_qc(baseline=True, opt_level=3)\n",
    "time_baseline = time() - start\n",
    "\n",
    "time_ratio = time_new_scheme / time_baseline\n",
    "if qc_baseline_compiled.count_ops().get(\"cx\"):\n",
    "    cx_count_ratio = compiled_qc.count_ops()[\"cx\"] / qc_baseline_compiled.count_ops()[\"cx\"]\n",
    "else:\n",
    "    cx_count_ratio = 0\n",
    "# print(\"QCEC:\", verify(q.qc_baseline, qc_baseline_compiled))\n",
    "print (np.round(time_ratio,5), np.round(cx_count_ratio,3))"
   ]
  },
  {
   "cell_type": "code",
   "execution_count": null,
   "id": "281627e6",
   "metadata": {},
   "outputs": [],
   "source": [
    "print(\"QCEC:\", verify(compiled_qc, qc_baseline_compiled))"
   ]
  },
  {
   "cell_type": "code",
   "execution_count": null,
   "id": "8ddb3e8d",
   "metadata": {},
   "outputs": [],
   "source": [
    "qc_baseline_compiled.draw()"
   ]
  },
  {
   "cell_type": "code",
   "execution_count": null,
   "id": "e75dafc2",
   "metadata": {},
   "outputs": [],
   "source": [
    "compiled_qc.draw()"
   ]
  },
  {
   "cell_type": "markdown",
   "id": "577fef9c",
   "metadata": {},
   "source": [
    "# Paper Example"
   ]
  },
  {
   "cell_type": "code",
   "execution_count": null,
   "id": "9de66936",
   "metadata": {},
   "outputs": [],
   "source": [
    "from qiskit import transpile, QuantumCircuit\n",
    "from qiskit.providers.fake_provider import FakeQuito, FakeManila\n",
    "from qiskit.circuit import Parameter\n",
    "cmap = FakeQuito().configuration().coupling_map\n",
    "cmap\n",
    "p = Parameter(\"p\")"
   ]
  },
  {
   "cell_type": "code",
   "execution_count": null,
   "id": "e00a9aa7",
   "metadata": {},
   "outputs": [],
   "source": [
    "qc = QuantumCircuit(4)\n",
    "qc.rzz(p, 0,1)\n",
    "qc.rzz(p, 0,2)\n",
    "qc.rzz(p, 0,3)\n",
    "qc.rzz(p, 1,2)\n",
    "qc.rzz(p, 1,3)\n",
    "qc.rzz(p, 2,3)\n",
    "qc.draw()"
   ]
  },
  {
   "cell_type": "code",
   "execution_count": null,
   "id": "f29f5496",
   "metadata": {},
   "outputs": [],
   "source": [
    "qc = transpile(qc, coupling_map=cmap, optimization_level=3)\n",
    "print(qc.draw())\n",
    "print(qc.count_ops()[\"swap\"])"
   ]
  },
  {
   "cell_type": "code",
   "execution_count": null,
   "id": "73b1acd3",
   "metadata": {},
   "outputs": [],
   "source": [
    "qc = QuantumCircuit(4)\n",
    "qc.rzz(p, 0,1)\n",
    "qc.rzz(p, 0,2)\n",
    "#qc.rzz(p, 0,3)\n",
    "qc.rzz(p, 1,2)\n",
    "#qc.rzz(p, 1,3)\n",
    "qc.rzz(p, 2,3)\n",
    "qc.draw()\n",
    "qc = transpile(qc, coupling_map=cmap, optimization_level=3)\n",
    "print(qc.draw())\n",
    "print(qc.count_ops()[\"swap\"])"
   ]
  },
  {
   "cell_type": "code",
   "execution_count": null,
   "id": "727d9aa7",
   "metadata": {},
   "outputs": [],
   "source": []
  }
 ],
 "metadata": {
  "kernelspec": {
   "display_name": "Python 3 (ipykernel)",
   "language": "python",
   "name": "python3"
  },
  "language_info": {
   "codemirror_mode": {
    "name": "ipython",
    "version": 3
   },
   "file_extension": ".py",
   "mimetype": "text/x-python",
   "name": "python",
   "nbconvert_exporter": "python",
   "pygments_lexer": "ipython3"
  }
 },
 "nbformat": 4,
 "nbformat_minor": 5
}
