{
 "cells": [
  {
   "cell_type": "markdown",
   "id": "577fef9c",
   "metadata": {},
   "source": [
    "# Paper Example"
   ]
  },
  {
   "cell_type": "code",
   "execution_count": 1,
   "id": "9de66936",
   "metadata": {},
   "outputs": [],
   "source": [
    "from qiskit import transpile, QuantumCircuit\n",
    "from qiskit.providers.fake_provider import FakeQuito, FakeManila\n",
    "from qiskit.circuit import Parameter\n",
    "cmap = FakeQuito().configuration().coupling_map\n",
    "cmap\n",
    "p = Parameter(\"p\")"
   ]
  },
  {
   "cell_type": "code",
   "execution_count": 2,
   "id": "e00a9aa7",
   "metadata": {},
   "outputs": [
    {
     "data": {
      "text/html": [
       "<pre style=\"word-wrap: normal;white-space: pre;background: #fff0;line-height: 1.1;font-family: &quot;Courier New&quot;,Courier,monospace\">                                                     \n",
       "q_0: ─■───────■───────■──────────────────────────────\n",
       "      │ZZ(p)  │       │                              \n",
       "q_1: ─■───────┼───────┼───────■───────■──────────────\n",
       "              │ZZ(p)  │       │ZZ(p)  │              \n",
       "q_2: ─────────■───────┼───────■───────┼───────■──────\n",
       "                      │ZZ(p)          │ZZ(p)  │ZZ(p) \n",
       "q_3: ─────────────────■───────────────■───────■──────\n",
       "                                                     </pre>"
      ],
      "text/plain": [
       "                                                     \n",
       "q_0: ─■───────■───────■──────────────────────────────\n",
       "      │ZZ(p)  │       │                              \n",
       "q_1: ─■───────┼───────┼───────■───────■──────────────\n",
       "              │ZZ(p)  │       │ZZ(p)  │              \n",
       "q_2: ─────────■───────┼───────■───────┼───────■──────\n",
       "                      │ZZ(p)          │ZZ(p)  │ZZ(p) \n",
       "q_3: ─────────────────■───────────────■───────■──────\n",
       "                                                     "
      ]
     },
     "execution_count": 2,
     "metadata": {},
     "output_type": "execute_result"
    }
   ],
   "source": [
    "qc = QuantumCircuit(4)\n",
    "qc.rzz(p, 0,1)\n",
    "qc.rzz(p, 0,2)\n",
    "qc.rzz(p, 0,3)\n",
    "qc.rzz(p, 1,2)\n",
    "qc.rzz(p, 1,3)\n",
    "qc.rzz(p, 2,3)\n",
    "qc.draw()"
   ]
  },
  {
   "cell_type": "code",
   "execution_count": 3,
   "id": "f29f5496",
   "metadata": {},
   "outputs": [
    {
     "name": "stdout",
     "output_type": "stream",
     "text": [
      "                                                                     \n",
      "      q_1 -> 0 ─■───────────────────────X────────────────────────────\n",
      "                │ZZ(p)                  │                            \n",
      "      q_0 -> 1 ─■───────■───────■───────X──■───────■───────X──■──────\n",
      "                        │       │ZZ(p)     │       │ZZ(p)  │  │      \n",
      "      q_3 -> 2 ─────────┼───────■──────────┼───────■───────X──┼──────\n",
      "                        │ZZ(p)             │ZZ(p)             │ZZ(p) \n",
      "      q_2 -> 3 ─────────■──────────────────■──────────────────■──────\n",
      "                                                                     \n",
      "ancilla_0 -> 4 ──────────────────────────────────────────────────────\n",
      "                                                                     \n",
      "2\n"
     ]
    },
    {
     "name": "stderr",
     "output_type": "stream",
     "text": [
      "/Users/nils/miniforge3/envs/Precompilation/lib/python3.10/site-packages/numpy/linalg/linalg.py:2154: RuntimeWarning: divide by zero encountered in det\n",
      "  r = _umath_linalg.det(a, signature=signature)\n",
      "/Users/nils/miniforge3/envs/Precompilation/lib/python3.10/site-packages/numpy/linalg/linalg.py:2154: RuntimeWarning: invalid value encountered in det\n",
      "  r = _umath_linalg.det(a, signature=signature)\n"
     ]
    }
   ],
   "source": [
    "qc = transpile(qc, coupling_map=cmap, optimization_level=3)\n",
    "print(qc.draw())\n",
    "print(qc.count_ops()[\"swap\"])"
   ]
  },
  {
   "cell_type": "code",
   "execution_count": 4,
   "id": "73b1acd3",
   "metadata": {},
   "outputs": [
    {
     "name": "stdout",
     "output_type": "stream",
     "text": [
      "                                                  \n",
      "      q_1 -> 0 ─■───────────────X─────────────────\n",
      "                │ZZ(p)          │                 \n",
      "      q_0 -> 1 ─■───────■───────X──■──────────────\n",
      "                        │          │              \n",
      "ancilla_0 -> 2 ─────────┼──────────┼──────────────\n",
      "                        │ZZ(p)     │ZZ(p)         \n",
      "      q_2 -> 3 ─────────■──────────■───────■──────\n",
      "                                           │ZZ(p) \n",
      "      q_3 -> 4 ────────────────────────────■──────\n",
      "                                                  \n",
      "1\n"
     ]
    }
   ],
   "source": [
    "qc = QuantumCircuit(4)\n",
    "qc.rzz(p, 0,1)\n",
    "qc.rzz(p, 0,2)\n",
    "#qc.rzz(p, 0,3)\n",
    "qc.rzz(p, 1,2)\n",
    "#qc.rzz(p, 1,3)\n",
    "qc.rzz(p, 2,3)\n",
    "qc.draw()\n",
    "qc = transpile(qc, coupling_map=cmap, optimization_level=3)\n",
    "print(qc.draw())\n",
    "print(qc.count_ops()[\"swap\"])"
   ]
  },
  {
   "cell_type": "code",
   "execution_count": null,
   "id": "727d9aa7",
   "metadata": {},
   "outputs": [],
   "source": []
  }
 ],
 "metadata": {
  "kernelspec": {
   "display_name": "Python 3 (ipykernel)",
   "language": "python",
   "name": "python3"
  },
  "language_info": {
   "codemirror_mode": {
    "name": "ipython",
    "version": 3
   },
   "file_extension": ".py",
   "mimetype": "text/x-python",
   "name": "python",
   "nbconvert_exporter": "python",
   "pygments_lexer": "ipython3",
   "version": "3.10.10"
  }
 },
 "nbformat": 4,
 "nbformat_minor": 5
}
