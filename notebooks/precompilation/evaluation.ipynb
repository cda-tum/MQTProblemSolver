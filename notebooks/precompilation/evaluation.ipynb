{
 "cells": [
  {
   "cell_type": "code",
   "execution_count": null,
   "id": "1ce842bb",
   "metadata": {},
   "outputs": [],
   "source": [
    "import pandas as pd\n",
    "import numpy as np\n",
    "%matplotlib inline\n",
    "import matplotlib.pyplot as plt\n",
    "\n",
    "size = 14\n",
    "legendsize = 12"
   ]
  },
  {
   "cell_type": "code",
   "execution_count": null,
   "id": "d155a2d1",
   "metadata": {},
   "outputs": [],
   "source": [
    "import math\n",
    "def orderOfMagnitude(number):\n",
    "    return math.floor(math.log(number, 10))"
   ]
  },
  {
   "cell_type": "markdown",
   "id": "3ad24eb1",
   "metadata": {},
   "source": [
    "# MaxCut"
   ]
  },
  {
   "cell_type": "code",
   "execution_count": null,
   "id": "6e39d00d",
   "metadata": {},
   "outputs": [],
   "source": [
    "df = pd.read_csv('../../res_qaoa.csv', sep=',')\n",
    "df['num_qubits'] = df['num_qubits'].astype(int)\n",
    "df"
   ]
  },
  {
   "cell_type": "code",
   "execution_count": null,
   "id": "c59a720d",
   "metadata": {},
   "outputs": [],
   "source": [
    "def label_encoding (row):\n",
    "    if row['considered_following_qubits'] == 1 :\n",
    "        return 'Only Direct Neighbor'\n",
    "    elif row['considered_following_qubits'] == 1000 :\n",
    "        return \"All Neighbors\"\n",
    "df[\"Encoding Prediction\"] = df.apply(lambda row: label_encoding(row), axis=1)"
   ]
  },
  {
   "cell_type": "markdown",
   "id": "cc0ff4da",
   "metadata": {},
   "source": [
    "## Graph"
   ]
  },
  {
   "cell_type": "code",
   "execution_count": null,
   "id": "d438c6c9",
   "metadata": {},
   "outputs": [],
   "source": [
    "for considered_following_qubits in [\"Only Direct Neighbor\", \"All Neighbors\"]:\n",
    "    for sample_probability in [0.3,0.7]:\n",
    "        df_subset = df[(df.sample_probability==sample_probability) & (df[\"Encoding Prediction\"]==considered_following_qubits)]\n",
    "        \n",
    "        ax1 = df_subset.plot(x='num_qubits', y='cx_count_proposed', color='orange', style=\"x-\", label=\"Proposed Scheme\")   \n",
    "        ax1.tick_params(which='both', labelsize=size)\n",
    "        df_subset.plot(x='num_qubits', y='cx_count_baseline_O0', color='red', style=\"o-\", ax=ax1, label=\"Qiskit's O0\")\n",
    "        df_subset.plot(x='num_qubits', y='cx_count_baseline_O1', color='purple', ax=ax1, style=\".-\", label=\"Qiskit's O1\") \n",
    "        df_subset.plot(x='num_qubits', y='cx_count_baseline_O2', color='blue', ax=ax1, style=\"+-\", label=\"Qiskit's O2\") \n",
    "        df_subset.plot(x='num_qubits', y='cx_count_baseline_O3', color='green', ax=ax1, style=\"^-\", label=\"Qiskit's O3\") \n",
    "        \n",
    "        plt.xlabel(\"Qubits\", size=size)\n",
    "        plt.ylabel(\"CX Count\", size=size)\n",
    "        plt.yscale(\"log\")\n",
    "        plt.legend(fontsize=legendsize)\n",
    "        plt.savefig('cx_'+str(considered_following_qubits) + '_'+ str(sample_probability)+'.pdf')\n",
    "        plt.show()\n",
    "        \n",
    "        ax2 = df_subset.plot(x='num_qubits', y='time_proposed', color='orange', style=\"x-\", label=\"Proposed Scheme\")   \n",
    "        ax2.tick_params(which='both', labelsize=size)\n",
    "        df_subset.plot(x='num_qubits', y='time_baseline_O0', color='red', ax=ax2, style=\"o-\", label=\"Qiskit's O0\")\n",
    "        df_subset.plot(x='num_qubits', y='time_baseline_O1', color='purple', ax=ax2, style=\".-\", label=\"Qiskit's O1\") \n",
    "        df_subset.plot(x='num_qubits', y='time_baseline_O2', color='blue', ax=ax2, style=\"+-\", label=\"Qiskit's O2\") \n",
    "        df_subset.plot(x='num_qubits', y='time_baseline_O3', color='green', ax=ax2, style=\"^-\", label=\"Qiskit's O3\") \n",
    "        \n",
    "        plt.xlabel(\"Qubits\", size=size)\n",
    "        plt.ylabel(\"Time\", size=size)\n",
    "        plt.yscale(\"log\")\n",
    "        plt.legend(fontsize=legendsize)\n",
    "        plt.savefig('time_'+str(considered_following_qubits) + '_'+ str(sample_probability)+'.pdf')\n",
    "        plt.show()"
   ]
  },
  {
   "cell_type": "markdown",
   "id": "b9520d0e",
   "metadata": {},
   "source": [
    "## Averages"
   ]
  },
  {
   "cell_type": "code",
   "execution_count": null,
   "id": "7f8d8944",
   "metadata": {},
   "outputs": [],
   "source": [
    "df[\"time_ratio_O3\"] = df[\"time_proposed\"]/df[\"time_baseline_O3\"]\n",
    "df[\"order_magnitudes_diff\"] = df[\"time_ratio_O3\"].apply(orderOfMagnitude)\n",
    "df[\"order_magnitudes_diff\"].describe()"
   ]
  },
  {
   "cell_type": "code",
   "execution_count": null,
   "id": "da967ba1",
   "metadata": {},
   "outputs": [],
   "source": [
    "df[\"cx_ratio_O3\"] = df['cx_count_baseline_O3']/df['cx_count_proposed']\n",
    "1-df.cx_ratio_O3.describe()[\"mean\"]"
   ]
  },
  {
   "cell_type": "markdown",
   "id": "392d94bc",
   "metadata": {},
   "source": [
    "# Satellite"
   ]
  },
  {
   "cell_type": "code",
   "execution_count": null,
   "id": "cb53e7d5",
   "metadata": {},
   "outputs": [],
   "source": [
    "df = pd.read_csv('../../res_satellite.csv', sep=',')\n",
    "df['num_qubits'] = df['num_qubits'].astype(int)\n",
    "df"
   ]
  },
  {
   "cell_type": "markdown",
   "id": "9f743f84",
   "metadata": {},
   "source": [
    "## Graphs"
   ]
  },
  {
   "cell_type": "code",
   "execution_count": null,
   "id": "8a50d9df",
   "metadata": {},
   "outputs": [],
   "source": [
    "df_subset = df[(df.sample_probability==0.4) & (df.considered_following_qubits==1)]\n",
    "\n",
    "ax1 = df_subset.plot(x='num_qubits', y='cx_count_proposed', color='orange', style=\"x-\", label=\"Proposed Scheme\")   \n",
    "ax1.tick_params(which='both', labelsize=size)\n",
    "df_subset.plot(x='num_qubits', y='cx_count_baseline_O0', color='red', ax=ax1,style=\"o-\", label=\"Qiskit's O0\")\n",
    "df_subset.plot(x='num_qubits', y='cx_count_baseline_O1', color='purple', ax=ax1,  style=\".-\", label=\"Qiskit's O1\") \n",
    "df_subset.plot(x='num_qubits', y='cx_count_baseline_O2', color='blue', ax=ax1,style=\"+-\", label=\"Qiskit's O2\") \n",
    "df_subset.plot(x='num_qubits', y='cx_count_baseline_O3', color='green', ax=ax1, style=\"^-\", label=\"Qiskit's O3\") \n",
    "\n",
    "plt.ylim(10e0*1.5, 10e2)\n",
    "plt.xlabel(\"Qubits\", size=size)\n",
    "plt.ylabel(\"CX Count\", size=size)\n",
    "plt.yscale(\"log\")\n",
    "plt.legend(fontsize=legendsize)\n",
    "plt.savefig('sat_cx_'+ str(sample_probability)+'.pdf')\n",
    "plt.show()\n",
    "\n",
    "ax2 = df_subset.plot(x='num_qubits', y='time_proposed', color='orange', style=\"x-\", label=\"Proposed Scheme\")   \n",
    "ax2.tick_params(which='both', labelsize=size)\n",
    "df_subset.plot(x='num_qubits', y='time_baseline_O0', color='red', ax=ax2,style=\"o-\", label=\"Qiskit's O0\")\n",
    "df_subset.plot(x='num_qubits', y='time_baseline_O1', color='purple', ax=ax2, style=\".-\",  label=\"Qiskit's O1\") \n",
    "df_subset.plot(x='num_qubits', y='time_baseline_O2', color='blue', ax=ax2,style=\"+-\", label=\"Qiskit's O2\") \n",
    "df_subset.plot(x='num_qubits', y='time_baseline_O3', color='green', ax=ax2, style=\"^-\", label=\"Qiskit's O3\") \n",
    "\n",
    "plt.xlabel(\"Qubits\", size=size)\n",
    "plt.ylabel(\"Time\", size=size)\n",
    "\n",
    "plt.yscale(\"log\")\n",
    "plt.legend(fontsize=legendsize, loc=\"center right\")\n",
    "plt.savefig('sat_time_' + str(sample_probability)+'.pdf')\n",
    "plt.show()"
   ]
  },
  {
   "cell_type": "markdown",
   "id": "83457123",
   "metadata": {},
   "source": [
    "## Averages"
   ]
  },
  {
   "cell_type": "code",
   "execution_count": null,
   "id": "b269ff67",
   "metadata": {},
   "outputs": [],
   "source": [
    "df[\"time_ratio_O3\"] = df[\"time_baseline_O3\"]/df[\"time_proposed\"]\n",
    "df[\"order_magnitudes_diff\"] = df[\"time_ratio_O3\"].apply(orderOfMagnitude)\n",
    "df[\"order_magnitudes_diff\"].describe()"
   ]
  },
  {
   "cell_type": "code",
   "execution_count": null,
   "id": "cc181700",
   "metadata": {},
   "outputs": [],
   "source": [
    "df[\"cx_ratio_O3\"] = df[\"cx_count_baseline_O3\"]/df[\"cx_count_proposed\"]\n",
    "1-df.cx_ratio_O3.describe()[\"mean\"]"
   ]
  }
 ],
 "metadata": {
  "kernelspec": {
   "display_name": "Python 3 (ipykernel)",
   "language": "python",
   "name": "python3"
  },
  "language_info": {
   "codemirror_mode": {
    "name": "ipython",
    "version": 3
   },
   "file_extension": ".py",
   "mimetype": "text/x-python",
   "name": "python",
   "nbconvert_exporter": "python",
   "pygments_lexer": "ipython3"
  }
 },
 "nbformat": 4,
 "nbformat_minor": 5
}
