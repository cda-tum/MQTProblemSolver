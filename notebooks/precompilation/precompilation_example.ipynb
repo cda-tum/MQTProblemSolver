{
 "cells": [
  {
   "cell_type": "markdown",
   "id": "7cddd630",
   "metadata": {},
   "source": [
    "# Imports and Problem Setup"
   ]
  },
  {
   "cell_type": "code",
   "execution_count": 1,
   "id": "60541429",
   "metadata": {},
   "outputs": [],
   "source": [
    "from mqt.problemsolver.partialcompiler.qaoa import QAOA\n",
    "import numpy as np\n",
    "from time import time\n",
    "from mqt.qcec import verify"
   ]
  },
  {
   "cell_type": "code",
   "execution_count": 2,
   "id": "ccc4c84f",
   "metadata": {},
   "outputs": [
    {
     "name": "stderr",
     "output_type": "stream",
     "text": [
      "/Users/nils/miniforge3/envs/Precompilation/lib/python3.10/site-packages/numpy/linalg/linalg.py:2154: RuntimeWarning: divide by zero encountered in det\n",
      "  r = _umath_linalg.det(a, signature=signature)\n",
      "/Users/nils/miniforge3/envs/Precompilation/lib/python3.10/site-packages/numpy/linalg/linalg.py:2154: RuntimeWarning: invalid value encountered in det\n",
      "  r = _umath_linalg.det(a, signature=signature)\n"
     ]
    }
   ],
   "source": [
    "q = QAOA(num_qubits=9, repetitions=3, sample_probability=0.3, considered_following_qubits=1, satellite_use_case=False)"
   ]
  },
  {
   "cell_type": "markdown",
   "id": "de32064a",
   "metadata": {},
   "source": [
    "# Usage of Precompilation Approach"
   ]
  },
  {
   "cell_type": "code",
   "execution_count": 3,
   "id": "59a2dc81",
   "metadata": {},
   "outputs": [
    {
     "name": "stdout",
     "output_type": "stream",
     "text": [
      "Compilation Time at Runtime: 0.0015020370483398438\n"
     ]
    }
   ],
   "source": [
    "qc_compiled_with_all_gates = q.qc_compiled.copy()\n",
    "\n",
    "start = time()\n",
    "compiled_qc = q.remove_unnecessary_gates(\n",
    "    qc=qc_compiled_with_all_gates,\n",
    "    optimize_swaps=True\n",
    ")\n",
    "time_new_approach = time() - start\n",
    "print(\"Compilation Time at Runtime:\", time_new_approach)"
   ]
  },
  {
   "cell_type": "markdown",
   "id": "6137b1f6",
   "metadata": {},
   "source": [
    "# Baseline for Comparison"
   ]
  },
  {
   "cell_type": "code",
   "execution_count": 4,
   "id": "8d75c758",
   "metadata": {},
   "outputs": [
    {
     "name": "stderr",
     "output_type": "stream",
     "text": [
      "/Users/nils/miniforge3/envs/Precompilation/lib/python3.10/site-packages/numpy/linalg/linalg.py:2154: RuntimeWarning: divide by zero encountered in det\n",
      "  r = _umath_linalg.det(a, signature=signature)\n",
      "/Users/nils/miniforge3/envs/Precompilation/lib/python3.10/site-packages/numpy/linalg/linalg.py:2154: RuntimeWarning: invalid value encountered in det\n",
      "  r = _umath_linalg.det(a, signature=signature)\n"
     ]
    },
    {
     "name": "stdout",
     "output_type": "stream",
     "text": [
      "Compilation Time at Runtime: 0.7710330486297607\n"
     ]
    }
   ],
   "source": [
    "start = time()\n",
    "qc_baseline_compiled = q.compile_qc(baseline=True, opt_level=3)\n",
    "time_baseline = time() - start\n",
    "print(\"Compilation Time at Runtime:\", time_baseline)"
   ]
  },
  {
   "cell_type": "code",
   "execution_count": 7,
   "id": "8966512d",
   "metadata": {},
   "outputs": [
    {
     "name": "stdout",
     "output_type": "stream",
     "text": [
      "Time Ratio: 0.00195\n",
      "Compiled Circuit Quality Ratio: 1.06667\n"
     ]
    }
   ],
   "source": [
    "time_ratio = time_new_approach / time_baseline\n",
    "if qc_baseline_compiled.count_ops().get(\"cx\"):\n",
    "    cx_count_ratio = compiled_qc.count_ops()[\"cx\"] / qc_baseline_compiled.count_ops()[\"cx\"]\n",
    "else:\n",
    "    cx_count_ratio = 0\n",
    "print(\"Time Ratio:\", np.round(time_ratio,5))\n",
    "print(\"Compiled Circuit Quality Ratio:\", np.round(cx_count_ratio,5))"
   ]
  },
  {
   "cell_type": "markdown",
   "id": "f353be60",
   "metadata": {},
   "source": [
    "# Spot Check Using MQT.QCEC"
   ]
  },
  {
   "cell_type": "code",
   "execution_count": 6,
   "id": "b625b1e9",
   "metadata": {},
   "outputs": [
    {
     "name": "stdout",
     "output_type": "stream",
     "text": [
      "{\n",
      "  \"check_time\": 0.002219084,\n",
      "  \"equivalence\": \"equivalent_up_to_global_phase\",\n",
      "  \"parameterized\": {\n",
      "    \"performed_instantiations\": 0\n",
      "  },\n",
      "  \"preprocessing_time\": 8.1875e-05\n",
      "}\n"
     ]
    }
   ],
   "source": [
    "print(verify(compiled_qc, qc_baseline_compiled))"
   ]
  }
 ],
 "metadata": {
  "kernelspec": {
   "display_name": "Python 3 (ipykernel)",
   "language": "python",
   "name": "python3"
  },
  "language_info": {
   "codemirror_mode": {
    "name": "ipython",
    "version": 3
   },
   "file_extension": ".py",
   "mimetype": "text/x-python",
   "name": "python",
   "nbconvert_exporter": "python",
   "pygments_lexer": "ipython3",
   "version": "3.10.10"
  }
 },
 "nbformat": 4,
 "nbformat_minor": 5
}
