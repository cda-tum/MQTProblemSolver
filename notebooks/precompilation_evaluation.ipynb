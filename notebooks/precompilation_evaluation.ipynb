{
 "cells": [
  {
   "cell_type": "code",
   "execution_count": null,
   "id": "1ce842bb",
   "metadata": {},
   "outputs": [],
   "source": [
    "import pandas as pd\n",
    "import numpy as np\n",
    "%matplotlib inline\n",
    "import matplotlib.pyplot as plt\n",
    "\n",
    "size = 14\n",
    "legendsize = 12"
   ]
  },
  {
   "cell_type": "markdown",
   "id": "3ad24eb1",
   "metadata": {},
   "source": [
    "# QAOA"
   ]
  },
  {
   "cell_type": "code",
   "execution_count": null,
   "id": "6e39d00d",
   "metadata": {},
   "outputs": [],
   "source": [
    "df = pd.read_csv('../res_qaoa.csv', sep=',')\n",
    "df['num_qubits'] = df['num_qubits'].astype(int)\n",
    "df['num_qubits2'] = df['num_qubits'].astype(int)\n",
    "df.replace(to_replace=[\"None\"], value=0, inplace=True)\n",
    "df.set_index('num_qubits', inplace=True)\n",
    "df"
   ]
  },
  {
   "cell_type": "code",
   "execution_count": null,
   "id": "da967ba1",
   "metadata": {},
   "outputs": [],
   "source": [
    "def label_encoding (row):\n",
    "    if row['considered_following_qubits'] == 1 :\n",
    "        return 'Only Direct Neighbor'\n",
    "    elif row['considered_following_qubits'] == 1000 :\n",
    "        return \"All Neighbors\"\n",
    "df[\"Encoding Prediction\"] = df.apply(lambda row: label_encoding(row), axis=1)\n",
    "df"
   ]
  },
  {
   "cell_type": "code",
   "execution_count": null,
   "id": "e789c5d0",
   "metadata": {},
   "outputs": [],
   "source": [
    "df['time_proposed'] = df['time_proposed'].astype(float)\n",
    "df['time_baseline_O0'] = df['time_baseline_O0'].astype(float)\n",
    "df['time_baseline_O1'] = df['time_baseline_O1'].astype(float)\n",
    "df['time_baseline_O2'] = df['time_baseline_O2'].astype(float)\n",
    "df['time_baseline_O3'] = df['time_baseline_O3'].astype(float)\n",
    "df['cx_count_proposed'] = df['cx_count_proposed'].astype(int)\n",
    "df['cx_count_O0'] = df['cx_count_baseline_O0'].astype(int)\n",
    "df['cx_count_O1'] = df['cx_count_baseline_O1'].astype(int)\n",
    "df['cx_count_O2'] = df['cx_count_baseline_O2'].astype(int)\n",
    "df['cx_count_O3'] = df['cx_count_baseline_O3'].astype(int)\n",
    "\n",
    "df[\"time_ratio_O0\"] = df[\"time_proposed\"]/df[\"time_baseline_O0\"]\n",
    "df[\"time_ratio_O1\"] = df[\"time_proposed\"]/df[\"time_baseline_O1\"]\n",
    "df[\"time_ratio_O2\"] = df[\"time_proposed\"]/df[\"time_baseline_O2\"]\n",
    "df[\"time_ratio_O3\"] = df[\"time_proposed\"]/df[\"time_baseline_O3\"]\n",
    "df[\"cx_ratio_O0\"] = df['cx_count_proposed'].divide(df['cx_count_O0'])\n",
    "df[\"cx_ratio_O3\"] = df['cx_count_proposed'].divide(df['cx_count_O3'])\n",
    "df"
   ]
  },
  {
   "cell_type": "code",
   "execution_count": null,
   "id": "d1bd1a2f",
   "metadata": {},
   "outputs": [],
   "source": [
    "df[df.index<100].cx_ratio_O3.describe()"
   ]
  },
  {
   "cell_type": "code",
   "execution_count": null,
   "id": "0284847c",
   "metadata": {},
   "outputs": [],
   "source": [
    "x = df#[df.considered_following_qubits==1]\n",
    "x = x[x.index%1==0][[\n",
    "    \"Encoding Prediction\",\n",
    "    \"sample_probability\",\n",
    "    \"time_proposed\",\n",
    "    \"time_baseline_O0\",\n",
    "    \"time_baseline_O1\",\n",
    "    \"time_baseline_O2\",\n",
    "    \"time_baseline_O3\",\n",
    "    \"time_ratio_O0\", \n",
    "    \"time_ratio_O3\", \n",
    "    \"cx_count_proposed\",\n",
    "    \"cx_ratio_O0\",\n",
    "    \"cx_ratio_O3\",\n",
    "]\n",
    "]\n",
    "\n",
    "x[\"time_baseline_O0\"] = x[\"time_baseline_O0\"].round(4)\n",
    "x[\"time_baseline_O3\"] = x[\"time_baseline_O3\"].round(4)\n",
    "x[\"time_proposed\"] = x[\"time_proposed\"].round(4)\n",
    "x[\"cx_ratio_O0\"] = x[\"cx_ratio_O0\"].round(2)\n",
    "x[\"cx_ratio_O3\"] = x[\"cx_ratio_O3\"].round(2)\n",
    "x"
   ]
  },
  {
   "cell_type": "code",
   "execution_count": null,
   "id": "e24eed9d",
   "metadata": {},
   "outputs": [],
   "source": [
    "x[\"Benchmark\"] = \"Qubits=\" + x.index.astype(str) + \", p=\" + x.sample_probability.astype(str)"
   ]
  },
  {
   "cell_type": "code",
   "execution_count": null,
   "id": "d0da03b8",
   "metadata": {},
   "outputs": [],
   "source": [
    "x = x.sort_values([\"Encoding Prediction\",\"sample_probability\", \"num_qubits\"])\n",
    "x.set_index('Benchmark', inplace=True)\n",
    "x = x.drop('sample_probability', axis=1)\n",
    "x"
   ]
  },
  {
   "cell_type": "code",
   "execution_count": null,
   "id": "ed6599a3",
   "metadata": {},
   "outputs": [],
   "source": [
    "x.time_ratio_O0.describe()"
   ]
  },
  {
   "cell_type": "code",
   "execution_count": null,
   "id": "0b8b62fb",
   "metadata": {},
   "outputs": [],
   "source": [
    "x.time_ratio_O3.describe()"
   ]
  },
  {
   "cell_type": "code",
   "execution_count": null,
   "id": "27e81c20",
   "metadata": {},
   "outputs": [],
   "source": [
    "x.cx_ratio_O0.describe()"
   ]
  },
  {
   "cell_type": "code",
   "execution_count": null,
   "id": "d48f4f0b",
   "metadata": {},
   "outputs": [],
   "source": [
    "x.cx_ratio_O3.describe()"
   ]
  },
  {
   "cell_type": "code",
   "execution_count": null,
   "id": "9543db03",
   "metadata": {},
   "outputs": [],
   "source": [
    "x = x.rename(columns={\"time_ratio_with_opt_O0\": \"Time Ratio O0\", \n",
    "                      \"time_ratio_with_opt_O3\": \"Time Ratio O3\", \n",
    "                      \"cx_count_baseline_O0\": \"CX Count Baseline O0\",\n",
    "                      \"cx_count_baseline_O3\": \"CX Count Baseline O3\", \n",
    "                      \"cx_count_with_opt\": \"CX Count New Scheme\", \n",
    "                      \"cx_ratio_with_opt_O0\": \"CX Count Ratio O0\", \n",
    "                      \"cx_ratio_with_opt_O3\": \"CX Count Ratio O3\", \n",
    "                      \"time_new_scheme_with_opt\":\"Time New Scheme\", \n",
    "                      \"time_baseline_O0\":\"Time Baseline O0\",\n",
    "                      \"time_baseline_O3\":\"Time Baseline O3\"\n",
    "                     }\n",
    "            )\n",
    "print(x.to_latex())"
   ]
  },
  {
   "cell_type": "markdown",
   "id": "cc0ff4da",
   "metadata": {},
   "source": [
    "# Graph Trial"
   ]
  },
  {
   "cell_type": "code",
   "execution_count": null,
   "id": "d438c6c9",
   "metadata": {},
   "outputs": [],
   "source": [
    "for considered_following_qubits in [\"Only Direct Neighbor\", \"All Neighbors\"]:\n",
    "    for sample_probability in [0.3,0.7]:\n",
    "        df_new = df[(df.sample_probability==sample_probability) & (df[\"Encoding Prediction\"]==considered_following_qubits)]\n",
    "        \n",
    "        ax1 = df_new.plot(x='num_qubits2', y='cx_count_proposed', color='orange', label=\"Proposed Scheme\")   \n",
    "        ax1.tick_params(which='both', labelsize=size)\n",
    "        ax2 = df_new.plot( x='num_qubits2', y='cx_count_O0', color='red', ax=ax1, label=\"Qiskit's O0\")\n",
    "        ax3 = df_new.plot( x='num_qubits2', y='cx_count_O1', color='purple', ax=ax1, label=\"Qiskit's O1\") \n",
    "        ax4 = df_new.plot( x='num_qubits2', y='cx_count_O2', color='blue', ax=ax1, label=\"Qiskit's O2\") \n",
    "        ax5 = df_new.plot( x='num_qubits2', y='cx_count_O3', color='green', ax=ax1, label=\"Qiskit's O3\") \n",
    "        \n",
    "        plt.xlabel(\"Qubits\", size=size)\n",
    "        plt.ylabel(\"CX Count\", size=size)\n",
    "        #plt.xscale(\"log\")\n",
    "        plt.yscale(\"log\")\n",
    "        plt.legend(fontsize=legendsize)\n",
    "        plt.savefig('cx_'+str(considered_following_qubits) + '_'+ str(sample_probability)+'.pdf')\n",
    "        plt.show()\n",
    "        \n",
    "        ax6 = df_new.plot( x='num_qubits2', y='time_proposed', color='orange', label=\"Proposed Scheme\")   \n",
    "        ax6.tick_params(which='both', labelsize=size)\n",
    "        ax7 = df_new.plot(x='num_qubits2', y='time_baseline_O0', color='red', ax=ax6, label=\"Qiskit's O0\")\n",
    "        ax8 = df_new.plot(x='num_qubits2', y='time_baseline_O1', color='purple', ax=ax6, label=\"Qiskit's O1\") \n",
    "        ax9 = df_new.plot( x='num_qubits2', y='time_baseline_O2', color='blue', ax=ax6, label=\"Qiskit's O2\") \n",
    "        ax10 = df_new.plot( x='num_qubits2', y='time_baseline_O3', color='green', ax=ax6, label=\"Qiskit's O3\") \n",
    "        \n",
    "        plt.xlabel(\"Qubits\", size=size)\n",
    "        plt.ylabel(\"Time\", size=size)\n",
    "        #plt.xscale(\"log\")\n",
    "        plt.yscale(\"log\")\n",
    "        plt.legend(fontsize=legendsize)\n",
    "        plt.savefig('time_'+str(considered_following_qubits) + '_'+ str(sample_probability)+'.pdf')\n",
    "        plt.show()"
   ]
  },
  {
   "cell_type": "markdown",
   "id": "8011c65e",
   "metadata": {},
   "source": [
    "# Average Value Calculation"
   ]
  },
  {
   "cell_type": "code",
   "execution_count": null,
   "id": "7f8d8944",
   "metadata": {},
   "outputs": [],
   "source": [
    "import math\n",
    "def orderOfMagnitude(number):\n",
    "    return math.floor(math.log(number, 10))\n",
    "\n",
    "df[\"order_magnitudes_diff\"] = df[\"time_proposed\"].apply(orderOfMagnitude)-df[\"time_baseline_O3\"].apply(orderOfMagnitude)\n",
    "df[\"order_magnitudes_diff\"].describe()"
   ]
  },
  {
   "cell_type": "code",
   "execution_count": null,
   "id": "99e60e18",
   "metadata": {},
   "outputs": [],
   "source": [
    "df[\"cx_ratio_O3\"].describe()"
   ]
  },
  {
   "cell_type": "markdown",
   "id": "392d94bc",
   "metadata": {},
   "source": [
    "# Satellite"
   ]
  },
  {
   "cell_type": "code",
   "execution_count": null,
   "id": "cb53e7d5",
   "metadata": {},
   "outputs": [],
   "source": [
    "df = pd.read_csv('../res_satellite.csv', sep=',')\n",
    "df['num_qubits'] = df['num_qubits'].astype(int)\n",
    "df['num_qubits2'] = df['num_qubits'].astype(int)\n",
    "df.replace(to_replace=[\"None\"], value=0, inplace=True)\n",
    "df.set_index('num_qubits', inplace=True)\n",
    "df"
   ]
  },
  {
   "cell_type": "code",
   "execution_count": null,
   "id": "89955c87",
   "metadata": {},
   "outputs": [],
   "source": [
    "df['time_proposed'] = df['time_proposed'].astype(float)\n",
    "df['time_baseline_O0'] = df['time_baseline_O0'].astype(float)\n",
    "df['time_baseline_O1'] = df['time_baseline_O1'].astype(float)\n",
    "df['time_baseline_O2'] = df['time_baseline_O2'].astype(float)\n",
    "df['time_baseline_O3'] = df['time_baseline_O3'].astype(float)\n",
    "df['cx_count_proposed'] = df['cx_count_proposed'].astype(int)\n",
    "df['cx_count_O0'] = df['cx_count_baseline_O0'].astype(int)\n",
    "df['cx_count_O1'] = df['cx_count_baseline_O1'].astype(int)\n",
    "df['cx_count_O2'] = df['cx_count_baseline_O2'].astype(int)\n",
    "df['cx_count_O3'] = df['cx_count_baseline_O3'].astype(int)\n",
    "df"
   ]
  },
  {
   "cell_type": "code",
   "execution_count": null,
   "id": "9c44c96b",
   "metadata": {},
   "outputs": [],
   "source": [
    "df[\"Benchmark\"] = \"Qubits=\" + df.index.astype(str) + \", p=\" + df.sample_probability.astype(str)\n",
    "df = df.sort_values([\"sample_probability\", \"num_qubits\"])\n",
    "df.set_index('Benchmark', inplace=True)\n",
    "df"
   ]
  },
  {
   "cell_type": "code",
   "execution_count": null,
   "id": "cc181700",
   "metadata": {},
   "outputs": [],
   "source": [
    "df[\"cx_ratio_o3\"] = df[\"cx_count_proposed\"]/df[\"cx_count_O3\"]\n",
    "df[\"cx_ratio_o3\"].describe()"
   ]
  },
  {
   "cell_type": "code",
   "execution_count": null,
   "id": "8a50d9df",
   "metadata": {},
   "outputs": [],
   "source": [
    "for considered_following_qubits in [1]:\n",
    "\n",
    "    for sample_probability in [0.4]:\n",
    "        print(considered_following_qubits, sample_probability)\n",
    "        df_new = df[(df.sample_probability==sample_probability) & (df.considered_following_qubits==considered_following_qubits)]\n",
    "\n",
    "        ax1 = df_new.plot(x='num_qubits2', y='cx_count_proposed', color='orange', label=\"Proposed Scheme\")   \n",
    "        ax1.tick_params(which='both', labelsize=size)\n",
    "        ax3 = df_new.plot( x='num_qubits2', y='cx_count_O0', color='red', ax=ax1, label=\"Qiskit's O0\")\n",
    "        ax4 = df_new.plot( x='num_qubits2', y='cx_count_O1', color='purple', ax=ax1, label=\"Qiskit's O1\") \n",
    "        ax5 = df_new.plot( x='num_qubits2', y='cx_count_O2', color='blue', ax=ax1, label=\"Qiskit's O2\") \n",
    "        ax6 = df_new.plot( x='num_qubits2', y='cx_count_O3', color='green', ax=ax1, label=\"Qiskit's O3\") \n",
    "\n",
    "\n",
    "        plt.xlabel(\"Qubits\", size=size)\n",
    "        plt.ylabel(\"CX Count\", size=size)\n",
    "        #plt.xscale(\"log\")\n",
    "        plt.yscale(\"log\")\n",
    "        plt.legend(fontsize=legendsize)\n",
    "        plt.savefig('sat_cx_'+ str(sample_probability)+'.pdf')\n",
    "        plt.show()\n",
    "\n",
    "        ax5 = df_new.plot( x='num_qubits2', y='time_proposed', color='orange', label=\"Proposed Scheme\")   \n",
    "        ax5.tick_params(which='both', labelsize=size)\n",
    "        ax7 = df_new.plot(x='num_qubits2', y='time_baseline_O0', color='red', ax=ax5, label=\"Qiskit's O0\")\n",
    "        ax8 = df_new.plot(x='num_qubits2', y='time_baseline_O1', color='purple', ax=ax5, label=\"Qiskit's O1\") \n",
    "        ax9 = df_new.plot( x='num_qubits2', y='time_baseline_O2', color='blue', ax=ax5, label=\"Qiskit's O2\") \n",
    "        ax10 = df_new.plot( x='num_qubits2', y='time_baseline_O3', color='green', ax=ax5, label=\"Qiskit's O3\") \n",
    "\n",
    "        plt.xlabel(\"Qubits\", size=size)\n",
    "        plt.ylabel(\"Time\", size=size)\n",
    "        #plt.xscale(\"log\")\n",
    "        plt.yscale(\"log\")\n",
    "        plt.legend(fontsize=legendsize, loc=\"center right\")\n",
    "        plt.savefig('sat_time_' + str(sample_probability)+'.pdf')\n",
    "        plt.show()\n"
   ]
  },
  {
   "cell_type": "code",
   "execution_count": null,
   "id": "b269ff67",
   "metadata": {},
   "outputs": [],
   "source": [
    "df[\"order_magnitudes_diff\"] = df[\"time_proposed\"].apply(orderOfMagnitude)-df[\"time_baseline_O3\"].apply(orderOfMagnitude)\n",
    "df[\"order_magnitudes_diff\"].describe()"
   ]
  },
  {
   "cell_type": "code",
   "execution_count": null,
   "id": "5aedacf1",
   "metadata": {},
   "outputs": [],
   "source": []
  }
 ],
 "metadata": {
  "kernelspec": {
   "display_name": "Python 3 (ipykernel)",
   "language": "python",
   "name": "python3"
  },
  "language_info": {
   "codemirror_mode": {
    "name": "ipython",
    "version": 3
   },
   "file_extension": ".py",
   "mimetype": "text/x-python",
   "name": "python",
   "nbconvert_exporter": "python",
   "pygments_lexer": "ipython3"
  }
 },
 "nbformat": 4,
 "nbformat_minor": 5
}
