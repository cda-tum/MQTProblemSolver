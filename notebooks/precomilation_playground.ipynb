{
 "cells": [
  {
   "cell_type": "markdown",
   "id": "7cddd630",
   "metadata": {},
   "source": [
    "# Evaluation"
   ]
  },
  {
   "cell_type": "code",
   "execution_count": 1,
   "id": "60541429",
   "metadata": {
    "scrolled": true
   },
   "outputs": [],
   "source": [
    "from mqt.problemsolver.partialcompiler.qaoa import QAOA\n",
    "from mqt.problemsolver.partialcompiler.evaluator import evaluate_QAOA\n",
    "import numpy as np\n",
    "from time import time\n",
    "from mqt.qcec import verify"
   ]
  },
  {
   "cell_type": "code",
   "execution_count": 2,
   "id": "59a2dc81",
   "metadata": {},
   "outputs": [
    {
     "name": "stdout",
     "output_type": "stream",
     "text": [
      "Start New\n",
      "Start Baseline\n",
      "0.08066 1.0\n"
     ]
    },
    {
     "name": "stderr",
     "output_type": "stream",
     "text": [
      "/Users/nils/miniforge3/envs/Precompilation/lib/python3.10/site-packages/numpy/linalg/linalg.py:2154: RuntimeWarning: divide by zero encountered in det\n",
      "  r = _umath_linalg.det(a, signature=signature)\n",
      "/Users/nils/miniforge3/envs/Precompilation/lib/python3.10/site-packages/numpy/linalg/linalg.py:2154: RuntimeWarning: invalid value encountered in det\n",
      "  r = _umath_linalg.det(a, signature=signature)\n"
     ]
    }
   ],
   "source": [
    "q = QAOA(num_qubits=4, repetitions=3, sample_probability=0.3, considered_following_qubits=1)\n",
    "qc_compiled_with_all_gates = q.qc_compiled.copy()\n",
    "\n",
    "print(\"Start New\")\n",
    "start = time()\n",
    "compiled_qc = q.remove_unnecessary_gates(\n",
    "    qc=qc_compiled_with_all_gates,\n",
    "    optimize_swaps=True\n",
    ")\n",
    "time_new_scheme = time() - start\n",
    "\n",
    "print(\"Start Baseline\")\n",
    "start = time()\n",
    "qc_baseline_compiled = q.compile_qc(baseline=True, opt_level=1)\n",
    "time_baseline = time() - start\n",
    "\n",
    "time_ratio = time_new_scheme / time_baseline\n",
    "if qc_baseline_compiled.count_ops().get(\"cx\"):\n",
    "    cx_count_ratio = compiled_qc.count_ops()[\"cx\"] / qc_baseline_compiled.count_ops()[\"cx\"]\n",
    "else:\n",
    "    cx_count_ratio = 0\n",
    "# print(\"QCEC:\", verify(q.qc_baseline, qc_baseline_compiled))\n",
    "print (np.round(time_ratio,5), np.round(cx_count_ratio,3))"
   ]
  },
  {
   "cell_type": "code",
   "execution_count": 3,
   "id": "5d641cf1",
   "metadata": {},
   "outputs": [
    {
     "name": "stdout",
     "output_type": "stream",
     "text": [
      "{\n",
      "  \"check_time\": 0.000834833,\n",
      "  \"equivalence\": \"equivalent_up_to_global_phase\",\n",
      "  \"parameterized\": {\n",
      "    \"performed_instantiations\": 0\n",
      "  },\n",
      "  \"preprocessing_time\": 0.000173792\n",
      "}\n"
     ]
    }
   ],
   "source": [
    "print(verify(compiled_qc, qc_baseline_compiled))"
   ]
  },
  {
   "cell_type": "code",
   "execution_count": 4,
   "id": "3dc6fe8b",
   "metadata": {},
   "outputs": [
    {
     "data": {
      "text/html": [
       "<pre style=\"word-wrap: normal;white-space: pre;background: #fff0;line-height: 1.1;font-family: &quot;Courier New&quot;,Courier,monospace\">global phase: π\n",
       "               ┌─────────┐┌────┐┌─────────┐┌───┐┌─────────┐┌───┐┌─────────┐»\n",
       "      q_1 -> 0 ┤ Rz(π/2) ├┤ √X ├┤ Rz(π/2) ├┤ X ├┤ Rz(a_0) ├┤ X ├┤ Rz(π/2) ├»\n",
       "               ├─────────┤├────┤├─────────┤└─┬─┘└─────────┘└─┬─┘├─────────┤»\n",
       "      q_0 -> 1 ┤ Rz(π/2) ├┤ √X ├┤ Rz(π/2) ├──■───────────────■──┤ Rz(π/2) ├»\n",
       "               └─────────┘└────┘└─────────┘                     └─────────┘»\n",
       "ancilla_0 -> 2 ────────────────────────────────────────────────────────────»\n",
       "               ┌─────────┐┌────┐┌─────────┐                     ┌─────────┐»\n",
       "      q_2 -> 3 ┤ Rz(π/2) ├┤ √X ├┤ Rz(π/2) ├──■───────────────■──┤ Rz(π/2) ├»\n",
       "               ├─────────┤├────┤├─────────┤┌─┴─┐┌─────────┐┌─┴─┐├─────────┤»\n",
       "      q_3 -> 4 ┤ Rz(π/2) ├┤ √X ├┤ Rz(π/2) ├┤ X ├┤ Rz(a_2) ├┤ X ├┤ Rz(π/2) ├»\n",
       "               └─────────┘└────┘└─────────┘└───┘└─────────┘└───┘└─────────┘»\n",
       "       meas: 4/════════════════════════════════════════════════════════════»\n",
       "                                                                           »\n",
       "«               ┌────┐┌───────────────┐┌────┐┌──────────┐┌───┐┌─────────┐┌───┐»\n",
       "«      q_1 -> 0 ┤ √X ├┤ Rz(2*b_0 + π) ├┤ √X ├┤ Rz(5π/2) ├┤ X ├┤ Rz(a_3) ├┤ X ├»\n",
       "«               ├────┤├───────────────┤├────┤├──────────┤└─┬─┘└─────────┘└─┬─┘»\n",
       "«      q_0 -> 1 ┤ √X ├┤ Rz(2*b_0 + π) ├┤ √X ├┤ Rz(5π/2) ├──■───────────────■──»\n",
       "«               └────┘└───────────────┘└────┘└──────────┘                     »\n",
       "«ancilla_0 -> 2 ──────────────────────────────────────────────────────────────»\n",
       "«               ┌────┐┌───────────────┐┌────┐┌──────────┐                     »\n",
       "«      q_2 -> 3 ┤ √X ├┤ Rz(2*b_0 + π) ├┤ √X ├┤ Rz(5π/2) ├──■───────────────■──»\n",
       "«               ├────┤├───────────────┤├────┤├──────────┤┌─┴─┐┌─────────┐┌─┴─┐»\n",
       "«      q_3 -> 4 ┤ √X ├┤ Rz(2*b_0 + π) ├┤ √X ├┤ Rz(5π/2) ├┤ X ├┤ Rz(a_5) ├┤ X ├»\n",
       "«               └────┘└───────────────┘└────┘└──────────┘└───┘└─────────┘└───┘»\n",
       "«       meas: 4/══════════════════════════════════════════════════════════════»\n",
       "«                                                                             »\n",
       "«               ┌─────────┐┌────┐┌───────────────┐┌────┐┌──────────┐┌───┐»\n",
       "«      q_1 -> 0 ┤ Rz(π/2) ├┤ √X ├┤ Rz(2*b_1 + π) ├┤ √X ├┤ Rz(5π/2) ├┤ X ├»\n",
       "«               ├─────────┤├────┤├───────────────┤├────┤├──────────┤└─┬─┘»\n",
       "«      q_0 -> 1 ┤ Rz(π/2) ├┤ √X ├┤ Rz(2*b_1 + π) ├┤ √X ├┤ Rz(5π/2) ├──■──»\n",
       "«               └─────────┘└────┘└───────────────┘└────┘└──────────┘     »\n",
       "«ancilla_0 -> 2 ─────────────────────────────────────────────────────────»\n",
       "«               ┌─────────┐┌────┐┌───────────────┐┌────┐┌──────────┐     »\n",
       "«      q_2 -> 3 ┤ Rz(π/2) ├┤ √X ├┤ Rz(2*b_1 + π) ├┤ √X ├┤ Rz(5π/2) ├──■──»\n",
       "«               ├─────────┤├────┤├───────────────┤├────┤├──────────┤┌─┴─┐»\n",
       "«      q_3 -> 4 ┤ Rz(π/2) ├┤ √X ├┤ Rz(2*b_1 + π) ├┤ √X ├┤ Rz(5π/2) ├┤ X ├»\n",
       "«               └─────────┘└────┘└───────────────┘└────┘└──────────┘└───┘»\n",
       "«       meas: 4/═════════════════════════════════════════════════════════»\n",
       "«                                                                        »\n",
       "«               ┌─────────┐┌───┐┌─────────┐┌────┐┌───────────────┐┌────┐»\n",
       "«      q_1 -> 0 ┤ Rz(a_6) ├┤ X ├┤ Rz(π/2) ├┤ √X ├┤ Rz(2*b_2 + π) ├┤ √X ├»\n",
       "«               └─────────┘└─┬─┘├─────────┤├────┤├───────────────┤├────┤»\n",
       "«      q_0 -> 1 ─────────────■──┤ Rz(π/2) ├┤ √X ├┤ Rz(2*b_2 + π) ├┤ √X ├»\n",
       "«                               └─────────┘└────┘└───────────────┘└────┘»\n",
       "«ancilla_0 -> 2 ────────────────────────────────────────────────────────»\n",
       "«                               ┌─────────┐┌────┐┌───────────────┐┌────┐»\n",
       "«      q_2 -> 3 ─────────────■──┤ Rz(π/2) ├┤ √X ├┤ Rz(2*b_2 + π) ├┤ √X ├»\n",
       "«               ┌─────────┐┌─┴─┐├─────────┤├────┤├───────────────┤├────┤»\n",
       "«      q_3 -> 4 ┤ Rz(a_8) ├┤ X ├┤ Rz(π/2) ├┤ √X ├┤ Rz(2*b_2 + π) ├┤ √X ├»\n",
       "«               └─────────┘└───┘└─────────┘└────┘└───────────────┘└────┘»\n",
       "«       meas: 4/════════════════════════════════════════════════════════»\n",
       "«                                                                       »\n",
       "«               ┌──────────┐ ░    ┌─┐      \n",
       "«      q_1 -> 0 ┤ Rz(5π/2) ├─░────┤M├──────\n",
       "«               ├──────────┤ ░ ┌─┐└╥┘      \n",
       "«      q_0 -> 1 ┤ Rz(5π/2) ├─░─┤M├─╫───────\n",
       "«               └──────────┘ ░ └╥┘ ║       \n",
       "«ancilla_0 -> 2 ────────────────╫──╫───────\n",
       "«               ┌──────────┐ ░  ║  ║ ┌─┐   \n",
       "«      q_2 -> 3 ┤ Rz(5π/2) ├─░──╫──╫─┤M├───\n",
       "«               ├──────────┤ ░  ║  ║ └╥┘┌─┐\n",
       "«      q_3 -> 4 ┤ Rz(5π/2) ├─░──╫──╫──╫─┤M├\n",
       "«               └──────────┘ ░  ║  ║  ║ └╥┘\n",
       "«       meas: 4/════════════════╩══╩══╩══╩═\n",
       "«                               0  1  2  3 </pre>"
      ],
      "text/plain": [
       "global phase: π\n",
       "               ┌─────────┐┌────┐┌─────────┐┌───┐┌─────────┐┌───┐┌─────────┐»\n",
       "      q_1 -> 0 ┤ Rz(π/2) ├┤ √X ├┤ Rz(π/2) ├┤ X ├┤ Rz(a_0) ├┤ X ├┤ Rz(π/2) ├»\n",
       "               ├─────────┤├────┤├─────────┤└─┬─┘└─────────┘└─┬─┘├─────────┤»\n",
       "      q_0 -> 1 ┤ Rz(π/2) ├┤ √X ├┤ Rz(π/2) ├──■───────────────■──┤ Rz(π/2) ├»\n",
       "               └─────────┘└────┘└─────────┘                     └─────────┘»\n",
       "ancilla_0 -> 2 ────────────────────────────────────────────────────────────»\n",
       "               ┌─────────┐┌────┐┌─────────┐                     ┌─────────┐»\n",
       "      q_2 -> 3 ┤ Rz(π/2) ├┤ √X ├┤ Rz(π/2) ├──■───────────────■──┤ Rz(π/2) ├»\n",
       "               ├─────────┤├────┤├─────────┤┌─┴─┐┌─────────┐┌─┴─┐├─────────┤»\n",
       "      q_3 -> 4 ┤ Rz(π/2) ├┤ √X ├┤ Rz(π/2) ├┤ X ├┤ Rz(a_2) ├┤ X ├┤ Rz(π/2) ├»\n",
       "               └─────────┘└────┘└─────────┘└───┘└─────────┘└───┘└─────────┘»\n",
       "       meas: 4/════════════════════════════════════════════════════════════»\n",
       "                                                                           »\n",
       "«               ┌────┐┌───────────────┐┌────┐┌──────────┐┌───┐┌─────────┐┌───┐»\n",
       "«      q_1 -> 0 ┤ √X ├┤ Rz(2*b_0 + π) ├┤ √X ├┤ Rz(5π/2) ├┤ X ├┤ Rz(a_3) ├┤ X ├»\n",
       "«               ├────┤├───────────────┤├────┤├──────────┤└─┬─┘└─────────┘└─┬─┘»\n",
       "«      q_0 -> 1 ┤ √X ├┤ Rz(2*b_0 + π) ├┤ √X ├┤ Rz(5π/2) ├──■───────────────■──»\n",
       "«               └────┘└───────────────┘└────┘└──────────┘                     »\n",
       "«ancilla_0 -> 2 ──────────────────────────────────────────────────────────────»\n",
       "«               ┌────┐┌───────────────┐┌────┐┌──────────┐                     »\n",
       "«      q_2 -> 3 ┤ √X ├┤ Rz(2*b_0 + π) ├┤ √X ├┤ Rz(5π/2) ├──■───────────────■──»\n",
       "«               ├────┤├───────────────┤├────┤├──────────┤┌─┴─┐┌─────────┐┌─┴─┐»\n",
       "«      q_3 -> 4 ┤ √X ├┤ Rz(2*b_0 + π) ├┤ √X ├┤ Rz(5π/2) ├┤ X ├┤ Rz(a_5) ├┤ X ├»\n",
       "«               └────┘└───────────────┘└────┘└──────────┘└───┘└─────────┘└───┘»\n",
       "«       meas: 4/══════════════════════════════════════════════════════════════»\n",
       "«                                                                             »\n",
       "«               ┌─────────┐┌────┐┌───────────────┐┌────┐┌──────────┐┌───┐»\n",
       "«      q_1 -> 0 ┤ Rz(π/2) ├┤ √X ├┤ Rz(2*b_1 + π) ├┤ √X ├┤ Rz(5π/2) ├┤ X ├»\n",
       "«               ├─────────┤├────┤├───────────────┤├────┤├──────────┤└─┬─┘»\n",
       "«      q_0 -> 1 ┤ Rz(π/2) ├┤ √X ├┤ Rz(2*b_1 + π) ├┤ √X ├┤ Rz(5π/2) ├──■──»\n",
       "«               └─────────┘└────┘└───────────────┘└────┘└──────────┘     »\n",
       "«ancilla_0 -> 2 ─────────────────────────────────────────────────────────»\n",
       "«               ┌─────────┐┌────┐┌───────────────┐┌────┐┌──────────┐     »\n",
       "«      q_2 -> 3 ┤ Rz(π/2) ├┤ √X ├┤ Rz(2*b_1 + π) ├┤ √X ├┤ Rz(5π/2) ├──■──»\n",
       "«               ├─────────┤├────┤├───────────────┤├────┤├──────────┤┌─┴─┐»\n",
       "«      q_3 -> 4 ┤ Rz(π/2) ├┤ √X ├┤ Rz(2*b_1 + π) ├┤ √X ├┤ Rz(5π/2) ├┤ X ├»\n",
       "«               └─────────┘└────┘└───────────────┘└────┘└──────────┘└───┘»\n",
       "«       meas: 4/═════════════════════════════════════════════════════════»\n",
       "«                                                                        »\n",
       "«               ┌─────────┐┌───┐┌─────────┐┌────┐┌───────────────┐┌────┐»\n",
       "«      q_1 -> 0 ┤ Rz(a_6) ├┤ X ├┤ Rz(π/2) ├┤ √X ├┤ Rz(2*b_2 + π) ├┤ √X ├»\n",
       "«               └─────────┘└─┬─┘├─────────┤├────┤├───────────────┤├────┤»\n",
       "«      q_0 -> 1 ─────────────■──┤ Rz(π/2) ├┤ √X ├┤ Rz(2*b_2 + π) ├┤ √X ├»\n",
       "«                               └─────────┘└────┘└───────────────┘└────┘»\n",
       "«ancilla_0 -> 2 ────────────────────────────────────────────────────────»\n",
       "«                               ┌─────────┐┌────┐┌───────────────┐┌────┐»\n",
       "«      q_2 -> 3 ─────────────■──┤ Rz(π/2) ├┤ √X ├┤ Rz(2*b_2 + π) ├┤ √X ├»\n",
       "«               ┌─────────┐┌─┴─┐├─────────┤├────┤├───────────────┤├────┤»\n",
       "«      q_3 -> 4 ┤ Rz(a_8) ├┤ X ├┤ Rz(π/2) ├┤ √X ├┤ Rz(2*b_2 + π) ├┤ √X ├»\n",
       "«               └─────────┘└───┘└─────────┘└────┘└───────────────┘└────┘»\n",
       "«       meas: 4/════════════════════════════════════════════════════════»\n",
       "«                                                                       »\n",
       "«               ┌──────────┐ ░    ┌─┐      \n",
       "«      q_1 -> 0 ┤ Rz(5π/2) ├─░────┤M├──────\n",
       "«               ├──────────┤ ░ ┌─┐└╥┘      \n",
       "«      q_0 -> 1 ┤ Rz(5π/2) ├─░─┤M├─╫───────\n",
       "«               └──────────┘ ░ └╥┘ ║       \n",
       "«ancilla_0 -> 2 ────────────────╫──╫───────\n",
       "«               ┌──────────┐ ░  ║  ║ ┌─┐   \n",
       "«      q_2 -> 3 ┤ Rz(5π/2) ├─░──╫──╫─┤M├───\n",
       "«               ├──────────┤ ░  ║  ║ └╥┘┌─┐\n",
       "«      q_3 -> 4 ┤ Rz(5π/2) ├─░──╫──╫──╫─┤M├\n",
       "«               └──────────┘ ░  ║  ║  ║ └╥┘\n",
       "«       meas: 4/════════════════╩══╩══╩══╩═\n",
       "«                               0  1  2  3 "
      ]
     },
     "execution_count": 4,
     "metadata": {},
     "output_type": "execute_result"
    }
   ],
   "source": [
    "qc_baseline_compiled.draw()"
   ]
  },
  {
   "cell_type": "markdown",
   "id": "577fef9c",
   "metadata": {},
   "source": [
    "# Paper Example"
   ]
  },
  {
   "cell_type": "code",
   "execution_count": 5,
   "id": "9de66936",
   "metadata": {},
   "outputs": [],
   "source": [
    "from qiskit import transpile, QuantumCircuit\n",
    "from qiskit.providers.fake_provider import FakeQuito, FakeManila\n",
    "from qiskit.circuit import Parameter\n",
    "cmap = FakeQuito().configuration().coupling_map\n",
    "cmap\n",
    "p = Parameter(\"p\")"
   ]
  },
  {
   "cell_type": "code",
   "execution_count": 6,
   "id": "e00a9aa7",
   "metadata": {},
   "outputs": [
    {
     "data": {
      "text/html": [
       "<pre style=\"word-wrap: normal;white-space: pre;background: #fff0;line-height: 1.1;font-family: &quot;Courier New&quot;,Courier,monospace\">                                                     \n",
       "q_0: ─■───────■───────■──────────────────────────────\n",
       "      │ZZ(p)  │       │                              \n",
       "q_1: ─■───────┼───────┼───────■───────■──────────────\n",
       "              │ZZ(p)  │       │ZZ(p)  │              \n",
       "q_2: ─────────■───────┼───────■───────┼───────■──────\n",
       "                      │ZZ(p)          │ZZ(p)  │ZZ(p) \n",
       "q_3: ─────────────────■───────────────■───────■──────\n",
       "                                                     </pre>"
      ],
      "text/plain": [
       "                                                     \n",
       "q_0: ─■───────■───────■──────────────────────────────\n",
       "      │ZZ(p)  │       │                              \n",
       "q_1: ─■───────┼───────┼───────■───────■──────────────\n",
       "              │ZZ(p)  │       │ZZ(p)  │              \n",
       "q_2: ─────────■───────┼───────■───────┼───────■──────\n",
       "                      │ZZ(p)          │ZZ(p)  │ZZ(p) \n",
       "q_3: ─────────────────■───────────────■───────■──────\n",
       "                                                     "
      ]
     },
     "execution_count": 6,
     "metadata": {},
     "output_type": "execute_result"
    }
   ],
   "source": [
    "qc = QuantumCircuit(4)\n",
    "qc.rzz(p, 0,1)\n",
    "qc.rzz(p, 0,2)\n",
    "qc.rzz(p, 0,3)\n",
    "qc.rzz(p, 1,2)\n",
    "qc.rzz(p, 1,3)\n",
    "qc.rzz(p, 2,3)\n",
    "qc.draw()"
   ]
  },
  {
   "cell_type": "code",
   "execution_count": 7,
   "id": "f29f5496",
   "metadata": {},
   "outputs": [
    {
     "name": "stdout",
     "output_type": "stream",
     "text": [
      "                                                                     \n",
      "      q_2 -> 0 ─────────■──────────────────■───────────────X─────────\n",
      "                        │ZZ(p)             │ZZ(p)          │         \n",
      "      q_0 -> 1 ─■───────■───────■───────X──■───────■───────X──■──────\n",
      "                │ZZ(p)          │       │          │          │      \n",
      "      q_1 -> 2 ─■───────────────┼───────X──────────┼──────────┼──────\n",
      "                                │ZZ(p)             │ZZ(p)     │ZZ(p) \n",
      "      q_3 -> 3 ─────────────────■──────────────────■──────────■──────\n",
      "                                                                     \n",
      "ancilla_0 -> 4 ──────────────────────────────────────────────────────\n",
      "                                                                     \n",
      "2\n"
     ]
    },
    {
     "name": "stderr",
     "output_type": "stream",
     "text": [
      "/Users/nils/miniforge3/envs/Precompilation/lib/python3.10/site-packages/numpy/linalg/linalg.py:2154: RuntimeWarning: divide by zero encountered in det\n",
      "  r = _umath_linalg.det(a, signature=signature)\n",
      "/Users/nils/miniforge3/envs/Precompilation/lib/python3.10/site-packages/numpy/linalg/linalg.py:2154: RuntimeWarning: invalid value encountered in det\n",
      "  r = _umath_linalg.det(a, signature=signature)\n"
     ]
    }
   ],
   "source": [
    "qc = transpile(qc, coupling_map=cmap, optimization_level=3)\n",
    "print(qc.draw())\n",
    "print(qc.count_ops()[\"swap\"])"
   ]
  },
  {
   "cell_type": "code",
   "execution_count": 8,
   "id": "73b1acd3",
   "metadata": {},
   "outputs": [
    {
     "name": "stdout",
     "output_type": "stream",
     "text": [
      "                                                  \n",
      "ancilla_0 -> 0 ───────────────────────────────────\n",
      "                                                  \n",
      "      q_0 -> 1 ─■───────■───────X──■──────────────\n",
      "                │ZZ(p)  │       │  │              \n",
      "      q_1 -> 2 ─■───────┼───────X──┼──────────────\n",
      "                        │ZZ(p)     │ZZ(p)         \n",
      "      q_2 -> 3 ─────────■──────────■───────■──────\n",
      "                                           │ZZ(p) \n",
      "      q_3 -> 4 ────────────────────────────■──────\n",
      "                                                  \n",
      "1\n"
     ]
    }
   ],
   "source": [
    "qc = QuantumCircuit(4)\n",
    "qc.rzz(p, 0,1)\n",
    "qc.rzz(p, 0,2)\n",
    "#qc.rzz(p, 0,3)\n",
    "qc.rzz(p, 1,2)\n",
    "#qc.rzz(p, 1,3)\n",
    "qc.rzz(p, 2,3)\n",
    "qc.draw()\n",
    "qc = transpile(qc, coupling_map=cmap, optimization_level=3)\n",
    "print(qc.draw())\n",
    "print(qc.count_ops()[\"swap\"])"
   ]
  },
  {
   "cell_type": "markdown",
   "id": "e60576bd",
   "metadata": {},
   "source": [
    "# Debug"
   ]
  },
  {
   "cell_type": "code",
   "execution_count": 9,
   "id": "c0b02008",
   "metadata": {},
   "outputs": [],
   "source": [
    "from time import time"
   ]
  },
  {
   "cell_type": "code",
   "execution_count": null,
   "id": "81ec0128",
   "metadata": {},
   "outputs": [],
   "source": []
  },
  {
   "cell_type": "code",
   "execution_count": null,
   "id": "1f094992",
   "metadata": {},
   "outputs": [],
   "source": []
  }
 ],
 "metadata": {
  "kernelspec": {
   "display_name": "Python 3 (ipykernel)",
   "language": "python",
   "name": "python3"
  },
  "language_info": {
   "codemirror_mode": {
    "name": "ipython",
    "version": 3
   },
   "file_extension": ".py",
   "mimetype": "text/x-python",
   "name": "python",
   "nbconvert_exporter": "python",
   "pygments_lexer": "ipython3",
   "version": "3.10.10"
  }
 },
 "nbformat": 4,
 "nbformat_minor": 5
}
