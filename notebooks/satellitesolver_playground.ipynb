{
 "cells": [
  {
   "cell_type": "markdown",
   "metadata": {},
   "source": [
    "# Satellite Solver"
   ]
  },
  {
   "cell_type": "code",
   "execution_count": null,
   "metadata": {},
   "outputs": [],
   "source": [
    "from qiskit.algorithms.minimum_eigen_solvers import VQE\n",
    "from qiskit_optimization.algorithms import MinimumEigenOptimizer\n",
    "import mqt.ddsim"
   ]
  },
  {
   "cell_type": "code",
   "execution_count": null,
   "metadata": {},
   "outputs": [],
   "source": [
    "MinimumEigenOptimizer(VQE(quantum_instance=mqt.ddsim.DDSIMProvider().get_backend(\"qasm_simulator\"))).solve(qubo)"
   ]
  },
  {
   "cell_type": "code",
   "execution_count": null,
   "metadata": {},
   "outputs": [],
   "source": []
  },
  {
   "cell_type": "markdown",
   "metadata": {},
   "source": [
    "# Generate Plots"
   ]
  },
  {
   "cell_type": "code",
   "execution_count": null,
   "metadata": {},
   "outputs": [],
   "source": [
    "import pandas as pd\n",
    "import numpy as np\n",
    "%matplotlib inline\n",
    "import matplotlib.pyplot as plt\n",
    "\n",
    "size = 14\n",
    "legendsize = 12"
   ]
  },
  {
   "cell_type": "code",
   "execution_count": null,
   "metadata": {},
   "outputs": [],
   "source": [
    "df = pd.read_csv('res_satellite_solver.csv', sep=',')\n",
    "df"
   ]
  },
  {
   "cell_type": "code",
   "execution_count": null,
   "metadata": {},
   "outputs": [],
   "source": [
    "ax1 = df.plot(x='num_qubits', y='calculation_time_qaoa', color='orange', label=\"QAOA\")   \n",
    "ax1.tick_params(which='both', labelsize=size)\n",
    "ax2 = df.plot( x='num_qubits', y='calculation_time_wqaoa', color='blue', ax=ax1, label=\"W-QAOA\") \n",
    "ax3 = df.plot( x='num_qubits', y='calculation_time_vqe', color='green', ax=ax1, label=\"VQE\") \n",
    "\n",
    "plt.xlabel(\"Number of Locations\", size=size)\n",
    "plt.ylabel(\"Calculation Time\", size=size)\n",
    "plt.legend(fontsize=legendsize)\n",
    "plt.savefig('sat_solver_time.pdf')\n",
    "plt.show()\n",
    "\n",
    "ax1 = df.plot(x='num_qubits', y='success_rate_qaoa', color='orange', label=\"QAOA\")   \n",
    "ax1.tick_params(which='both', labelsize=size)\n",
    "ax2 = df.plot( x='num_qubits', y='success_rate_wqaoa', color='blue', ax=ax1, label=\"W-QAOA\") \n",
    "ax3 = df.plot( x='num_qubits', y='success_rate_vqe', color='green', ax=ax1, label=\"VQE\") \n",
    "\n",
    "plt.xlabel(\"Number of Locations\", size=size)\n",
    "plt.ylabel(\"Result Quality\", size=size)\n",
    "plt.legend(fontsize=legendsize)\n",
    "plt.savefig('sat_solver_quality.pdf')\n",
    "plt.show()"
   ]
  },
  {
   "cell_type": "markdown",
   "metadata": {},
   "source": [
    "## Imports"
   ]
  },
  {
   "cell_type": "code",
   "execution_count": null,
   "metadata": {},
   "outputs": [],
   "source": [
    "from mqt import ddsim\n",
    "import numpy as np\n",
    "\n",
    "from mqt.problemsolver.satellitesolver import utils\n",
    "from mqt.problemsolver.satellitesolver.utils import  QAOA, W_QAOA\n",
    "\n",
    "from qiskit import Aer, execute\n",
    "from qiskit_optimization.converters.quadratic_program_to_qubo import QuadraticProgramToQubo\n",
    "from qiskit_optimization.translators import from_docplex_mp\n",
    "from qiskit_optimization.converters.quadratic_program_to_qubo import (\n",
    "    QuadraticProgramToQubo,\n",
    ")\n",
    "from qiskit.algorithms.optimizers import L_BFGS_B, ADAM, SPSA\n",
    "\n",
    "import matplotlib.pyplot as plt\n",
    "\n",
    "import warnings\n",
    "import time"
   ]
  },
  {
   "cell_type": "markdown",
   "metadata": {},
   "source": [
    "## Create arbitrary Satellite Problem Instance"
   ]
  },
  {
   "cell_type": "code",
   "execution_count": null,
   "metadata": {},
   "outputs": [],
   "source": [
    "num_requests = 5\n",
    "ac_reqs = utils.init_random_acquisition_requests(num_requests)\n",
    "utils.plot_acqisition_requests(ac_reqs)"
   ]
  },
  {
   "cell_type": "markdown",
   "metadata": {},
   "source": [
    "## Create Docplex Model and Convert it to QUBO Formulation"
   ]
  },
  {
   "cell_type": "code",
   "execution_count": null,
   "metadata": {},
   "outputs": [],
   "source": [
    "penalty = None\n",
    "mdl = utils.create_satellite_doxplex(ac_reqs)\n",
    "print(qubo.prettyprint())\n",
    "print(qubo.to_ising())"
   ]
  },
  {
   "cell_type": "markdown",
   "metadata": {},
   "source": [
    "# Utilize Qiskit Runtime"
   ]
  },
  {
   "cell_type": "code",
   "execution_count": null,
   "metadata": {},
   "outputs": [],
   "source": [
    "# Code Structure is taken from https://qiskit.org/ecosystem/optimization/tutorials/12_qaoa_runtime.html\n",
    "from qiskit import IBMQ\n",
    "from mqt.problemsolver.satellitesolver import utils\n",
    "import numpy as np\n",
    "\n",
    "from qiskit.tools import job_monitor\n",
    "from qiskit.algorithms.optimizers import SPSA\n",
    "\n",
    "IBMQ.load_account()\n",
    "\n",
    "provider = IBMQ.get_provider(hub=\"ibm-q\", group=\"open\", project=\"main\")\n",
    "program_id = \"qaoa\"\n",
    "qaoa_program = provider.runtime.program(program_id)\n",
    "print(f\"Program name: {qaoa_program.name}, Program id: {qaoa_program.program_id}\")\n",
    "print(qaoa_program.parameters())\n",
    "\n",
    "\n",
    "# SPSA helps deal with noisy environments.\n",
    "optimizer = SPSA(maxiter=100)\n",
    "\n",
    "reps = 3\n",
    "initial_point = np.random.random(2 * reps)\n",
    "\n",
    "options = {\"backend_name\": \"ibmq_quito\"}\n",
    "\n",
    "ac_reqs = utils.init_random_acquisition_requests(5)\n",
    "mdl = utils.create_satellite_doxplex(ac_reqs)\n",
    "converter, qubo = utils.convert_docplex_to_qubo(mdl)\n",
    "op = qubo.to_ising()[0]\n",
    "\n",
    "runtime_inputs = {\n",
    "    \"operator\": op,\n",
    "    \"reps\": reps,\n",
    "    \"optimizer\": optimizer,\n",
    "    \"initial_point\": initial_point,\n",
    "    \"shots\": 2**13,\n",
    "    # Set to True when running on real backends to reduce circuit\n",
    "    # depth by leveraging swap strategies. If False the\n",
    "    # given optimization_level (default is 1) will be used.\n",
    "    \"use_swap_strategies\": False,\n",
    "}\n",
    "\n",
    "job = provider.runtime.run(\n",
    "    program_id=program_id,\n",
    "    options=options,\n",
    "    inputs=runtime_inputs,\n",
    ")\n",
    "\n",
    "print(f\"Job id: {job.job_id()}\")\n",
    "print(f\"Job status: {job.status()}\")"
   ]
  },
  {
   "cell_type": "code",
   "execution_count": null,
   "metadata": {},
   "outputs": [],
   "source": [
    "job.status()"
   ]
  },
  {
   "cell_type": "code",
   "execution_count": null,
   "metadata": {},
   "outputs": [],
   "source": [
    "result = job.result()\n",
    "most_likely_eigenstate_qaoa = utils.sample_most_likely(result.get(\"eigenstate\"))\n",
    "print(utils.check_solution(ac_reqs, most_likely_eigenstate_qaoa))"
   ]
  },
  {
   "cell_type": "markdown",
   "metadata": {},
   "source": [
    "# Retrieve Old Job"
   ]
  },
  {
   "cell_type": "code",
   "execution_count": null,
   "metadata": {},
   "outputs": [],
   "source": [
    "from qiskit import IBMQ\n",
    "IBMQ.load_account()\n",
    "provider = IBMQ.get_provider(hub=\"ibm-q\", group=\"open\", project=\"main\")\n",
    "job = provider.runtime.job('cgv91esueeovm2ug0lig')\n",
    "result = job.result()\n",
    "most_likely_eigenstate_qaoa = utils.sample_most_likely(result.get(\"eigenstate\"))\n",
    "most_likely_eigenstate_qaoa"
   ]
  },
  {
   "cell_type": "code",
   "execution_count": null,
   "metadata": {},
   "outputs": [],
   "source": []
  },
  {
   "cell_type": "code",
   "execution_count": null,
   "metadata": {},
   "outputs": [],
   "source": []
  }
 ],
 "metadata": {
  "kernelspec": {
   "display_name": "Python 3 (ipykernel)",
   "language": "python",
   "name": "python3"
  },
  "language_info": {
   "codemirror_mode": {
    "name": "ipython",
    "version": 3
   },
   "file_extension": ".py",
   "mimetype": "text/x-python",
   "name": "python",
   "nbconvert_exporter": "python",
   "pygments_lexer": "ipython3"
  }
 },
 "nbformat": 4,
 "nbformat_minor": 1
}
