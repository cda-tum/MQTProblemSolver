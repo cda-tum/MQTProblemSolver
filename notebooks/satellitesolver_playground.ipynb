{
 "cells": [
  {
   "cell_type": "markdown",
   "metadata": {},
   "source": [
    "# Satellite Solver"
   ]
  },
  {
   "cell_type": "markdown",
   "metadata": {},
   "source": [
    "# Generate Plots Noise-Free Simulator"
   ]
  },
  {
   "cell_type": "code",
   "execution_count": null,
   "metadata": {},
   "outputs": [],
   "source": [
    "import pandas as pd\n",
    "import numpy as np\n",
    "%matplotlib inline\n",
    "import matplotlib.pyplot as plt\n",
    "\n",
    "size = 14\n",
    "legendsize = 12"
   ]
  },
  {
   "cell_type": "code",
   "execution_count": null,
   "metadata": {},
   "outputs": [],
   "source": [
    "df = pd.read_csv('../res_satellite_solver.csv', sep=',')\n",
    "df"
   ]
  },
  {
   "cell_type": "code",
   "execution_count": null,
   "metadata": {},
   "outputs": [],
   "source": [
    "ax1 = df.plot(x='num_qubits', y='calculation_time_qaoa', color='orange', label=\"QAOA\")   \n",
    "ax1.tick_params(which='both', labelsize=size)\n",
    "ax2 = df.plot( x='num_qubits', y='calculation_time_wqaoa', color='blue', ax=ax1, label=\"W-QAOA\") \n",
    "ax3 = df.plot( x='num_qubits', y='calculation_time_vqe', color='green', ax=ax1, label=\"VQE\") \n",
    "\n",
    "plt.xlabel(\"Number of Locations\", size=size)\n",
    "plt.ylabel(\"Calculation Time\", size=size)\n",
    "plt.legend(fontsize=legendsize)\n",
    "plt.savefig('sat_solver_time.pdf')\n",
    "plt.show()\n",
    "\n",
    "ax1 = df.plot(x='num_qubits', y='success_rate_qaoa', color='orange', label=\"QAOA\")   \n",
    "ax1.tick_params(which='both', labelsize=size)\n",
    "ax2 = df.plot( x='num_qubits', y='success_rate_wqaoa', color='blue', ax=ax1, label=\"W-QAOA\") \n",
    "ax3 = df.plot( x='num_qubits', y='success_rate_vqe', color='green', ax=ax1, label=\"VQE\") \n",
    "\n",
    "plt.xlabel(\"Number of Locations\", size=size)\n",
    "plt.ylabel(\"Result Quality\", size=size)\n",
    "plt.legend(fontsize=legendsize)\n",
    "plt.savefig('sat_solver_quality.pdf')\n",
    "plt.show()"
   ]
  },
  {
   "cell_type": "markdown",
   "metadata": {},
   "source": [
    "# Create Plots Noisy Simulator"
   ]
  },
  {
   "cell_type": "code",
   "execution_count": null,
   "metadata": {},
   "outputs": [],
   "source": [
    "from qiskit import IBMQ\n",
    "IBMQ.load_account()\n",
    "provider = IBMQ.get_provider(hub=\"ibm-q\", group=\"open\", project=\"main\")"
   ]
  },
  {
   "cell_type": "markdown",
   "metadata": {},
   "source": [
    "## Pre-Process"
   ]
  },
  {
   "cell_type": "code",
   "execution_count": null,
   "metadata": {},
   "outputs": [],
   "source": [
    "from mqt.problemsolver.satellitesolver import utils\n",
    "def get_result_for_job_id(row):\n",
    "    ac_reqs = utils.init_random_acquisition_requests(row.num_qubits)\n",
    "    mdl = utils.create_satellite_doxplex(ac_reqs)\n",
    "    converter, qubo = utils.convert_docplex_to_qubo(mdl)\n",
    "\n",
    "    qaoa_result = provider.runtime.job(row.job_id_qaoa).result()\n",
    "    qaoa_most_likely_eigenstate = utils.sample_most_likely(qaoa_result.get(\"eigenstate\"))\n",
    "\n",
    "    qaoa_validity = utils.check_solution(ac_reqs=ac_reqs, solution_vector=qaoa_most_likely_eigenstate)\n",
    "    if qaoa_validity:\n",
    "        qaoa_val = utils.get_success_ratio(ac_reqs, qubo, qaoa_most_likely_eigenstate)\n",
    "    else:\n",
    "        qaoa_val =  -1\n",
    "    vqe_result = provider.runtime.job(row.job_id_vqe).result()\n",
    "    vqe_most_likely_eigenstate = utils.sample_most_likely(vqe_result.get(\"eigenstate\"))\n",
    "\n",
    "    vqe_validity = utils.check_solution(ac_reqs=ac_reqs, solution_vector=vqe_most_likely_eigenstate)\n",
    "    if vqe_validity:\n",
    "        vqe_val = utils.get_success_ratio(ac_reqs, qubo, vqe_most_likely_eigenstate)\n",
    "    else:\n",
    "        vqe_val =  -1\n",
    "    return (qaoa_val, vqe_val)"
   ]
  },
  {
   "cell_type": "code",
   "execution_count": null,
   "metadata": {},
   "outputs": [],
   "source": [
    "df = pd.read_csv('../res_satellite_solver_noisy.csv', sep=',')\n",
    "df"
   ]
  },
  {
   "cell_type": "code",
   "execution_count": null,
   "metadata": {},
   "outputs": [],
   "source": [
    "res = df.apply(get_result_for_job_id, axis=1)\n",
    "df['success_rate_qaoa_device'] = res[0][0]\n",
    "df['success_rate_vqe_device'] = res[0][1]\n",
    "df"
   ]
  },
  {
   "cell_type": "markdown",
   "metadata": {},
   "source": [
    "## Graphs"
   ]
  },
  {
   "cell_type": "code",
   "execution_count": null,
   "metadata": {},
   "outputs": [],
   "source": [
    "ax1 = df.plot(x='num_qubits', y='success_rate_qaoa', color='orange', linestyle=\"dashed\", label=\"QAOA: Sim\")   \n",
    "ax3 = df.plot( x='num_qubits', y='success_rate_qaoa_device', color='orange', linestyle=\"dotted\", ax=ax1, label=\"QAOA: ibmq_nairobi\") \n",
    "ax2 = df.plot( x='num_qubits', y='success_rate_vqe', color='green', ax=ax1, linestyle=\"dashed\", label=\"VQE: Sim\") \n",
    "ax4 = df.plot( x='num_qubits', y='success_rate_vqe_device', color='green', ax=ax1, linestyle=\"dotted\", label=\"VQE: ibmq_nairobi\") \n",
    "ax1.tick_params(which='both', labelsize=size)\n",
    "\n",
    "plt.xlabel(\"Number of Locations\", size=size)\n",
    "plt.ylabel(\"Result Quality\", size=size)\n",
    "plt.legend(fontsize=legendsize)\n",
    "plt.savefig('sat_solver_quality_noisy.pdf')\n",
    "plt.show()"
   ]
  },
  {
   "cell_type": "code",
   "execution_count": null,
   "metadata": {},
   "outputs": [],
   "source": [
    "from qiskit import IBMQ\n",
    "from qiskit.algorithms.optimizers import SPSA\n",
    "from qiskit.tools import job_monitor\n",
    "\n",
    "from mqt.problemsolver.satellitesolver.evaluator import eval_vqe_using_qiskit_runtime\n",
    "\n",
    "IBMQ.load_account()"
   ]
  },
  {
   "cell_type": "code",
   "execution_count": null,
   "metadata": {},
   "outputs": [],
   "source": [
    "provider = IBMQ.get_provider(hub=\"ibm-q\", group=\"open\", project=\"main\")"
   ]
  },
  {
   "cell_type": "code",
   "execution_count": null,
   "metadata": {},
   "outputs": [],
   "source": [
    "provider.backends()"
   ]
  },
  {
   "cell_type": "markdown",
   "metadata": {},
   "source": [
    "## Imports"
   ]
  },
  {
   "cell_type": "code",
   "execution_count": null,
   "metadata": {},
   "outputs": [],
   "source": [
    "from mqt import ddsim\n",
    "import numpy as np\n",
    "\n",
    "from mqt.problemsolver.satellitesolver import utils\n",
    "from mqt.problemsolver.satellitesolver.utils import  QAOA, W_QAOA\n",
    "\n",
    "from qiskit import Aer, execute\n",
    "from qiskit_optimization.converters.quadratic_program_to_qubo import QuadraticProgramToQubo\n",
    "from qiskit_optimization.translators import from_docplex_mp\n",
    "from qiskit_optimization.converters.quadratic_program_to_qubo import (\n",
    "    QuadraticProgramToQubo,\n",
    ")\n",
    "from qiskit.algorithms.optimizers import L_BFGS_B, ADAM, SPSA\n",
    "\n",
    "import matplotlib.pyplot as plt\n",
    "\n",
    "import warnings\n",
    "import time"
   ]
  },
  {
   "cell_type": "markdown",
   "metadata": {},
   "source": [
    "## Create arbitrary Satellite Problem Instance"
   ]
  },
  {
   "cell_type": "code",
   "execution_count": null,
   "metadata": {},
   "outputs": [],
   "source": [
    "num_requests = 7\n",
    "ac_reqs = utils.init_random_acquisition_requests(num_requests)\n",
    "utils.plot_acqisition_requests(ac_reqs)"
   ]
  },
  {
   "cell_type": "markdown",
   "metadata": {},
   "source": [
    "## Create Docplex Model and Convert it to QUBO Formulation"
   ]
  },
  {
   "cell_type": "code",
   "execution_count": null,
   "metadata": {},
   "outputs": [],
   "source": [
    "penalty = None\n",
    "mdl = utils.create_satellite_doxplex(ac_reqs)\n",
    "converter, qubo = utils.convert_docplex_to_qubo(mdl)\n",
    "print(qubo.prettyprint())\n",
    "print(qubo.to_ising())"
   ]
  }
 ],
 "metadata": {
  "kernelspec": {
   "display_name": "Python 3 (ipykernel)",
   "language": "python",
   "name": "python3"
  },
  "language_info": {
   "codemirror_mode": {
    "name": "ipython",
    "version": 3
   },
   "file_extension": ".py",
   "mimetype": "text/x-python",
   "name": "python",
   "nbconvert_exporter": "python",
   "pygments_lexer": "ipython3"
  }
 },
 "nbformat": 4,
 "nbformat_minor": 1
}
