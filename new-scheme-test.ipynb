{
 "cells": [
  {
   "cell_type": "markdown",
   "id": "7cddd630",
   "metadata": {},
   "source": [
    "# Evaluation"
   ]
  },
  {
   "cell_type": "code",
   "execution_count": null,
   "id": "60541429",
   "metadata": {},
   "outputs": [],
   "source": [
    "from mqt.problemsolver.partialcompiler.qaoa import QAOA\n",
    "from mqt.problemsolver.partialcompiler.evaluator import evaluate_QAOA\n",
    "import numpy as np\n",
    "from time import time\n",
    "from mqt.qcec import verify"
   ]
  },
  {
   "cell_type": "code",
   "execution_count": null,
   "id": "59a2dc81",
   "metadata": {},
   "outputs": [],
   "source": [
    "q = QAOA(num_qubits=5, repetitions=5, remove_probability=0.3, considered_following_qubits=2)\n",
    "qc_compiled_with_all_gates = q.qc_compiled.copy()\n",
    "\n",
    "start = time()\n",
    "compiled_qc = q.check_gates(\n",
    "    qc=qc_compiled_with_all_gates,\n",
    "    optimize_swaps=True\n",
    ")\n",
    "time_new_scheme = time() - start\n",
    "\n",
    "start = time()\n",
    "qc_baseline_compiled = q.compile_qc(baseline=True, opt_level=2)\n",
    "time_baseline = time() - start\n",
    "\n",
    "time_ratio = time_new_scheme / time_baseline\n",
    "if qc_baseline_compiled.count_ops().get(\"cx\"):\n",
    "    cx_count_ratio = compiled_qc.count_ops()[\"cx\"] / qc_baseline_compiled.count_ops()[\"cx\"]\n",
    "else:\n",
    "    cx_count_ratio = 0\n",
    "# print(\"QCEC:\", verify(q.qc_baseline, qc_baseline_compiled))\n",
    "print (np.round(time_ratio,5), np.round(cx_count_ratio,3))"
   ]
  },
  {
   "cell_type": "code",
   "execution_count": null,
   "id": "5d641cf1",
   "metadata": {},
   "outputs": [],
   "source": [
    "print(verify(compiled_qc, qc_baseline_compiled))"
   ]
  },
  {
   "cell_type": "markdown",
   "id": "e60576bd",
   "metadata": {},
   "source": [
    "# Proof of Concept"
   ]
  },
  {
   "cell_type": "code",
   "execution_count": null,
   "id": "ad26d347",
   "metadata": {},
   "outputs": [],
   "source": [
    "from qiskit import QuantumCircuit, transpile\n",
    "from qiskit.circuit.library import CXGate\n",
    "from qiskit.circuit import Parameter\n",
    "from qiskit.providers.fake_provider import FakeManila, FakeMontreal, FakeWashington\n",
    "from qiskit.transpiler import PassManager\n",
    "from qiskit.transpiler.passes import CXCancellation, CommutativeCancellation, CommutativeInverseCancellation, ConsolidateBlocks, Collect2qBlocks\n",
    "from numpy.random import random\n",
    "from time import time\n",
    "from qiskit_trebugger import Debugger"
   ]
  },
  {
   "cell_type": "code",
   "execution_count": null,
   "id": "f9291464",
   "metadata": {},
   "outputs": [],
   "source": [
    "p = Parameter(\"alpha\")\n",
    "num_qubits = 120\n",
    "backend = FakeWashington()\n",
    "qc = QuantumCircuit(num_qubits)\n",
    "qc_baseline = QuantumCircuit(num_qubits)\n",
    "remove_gates = []\n",
    "for i in range(num_qubits):\n",
    "    for j in range(i+1, min(num_qubits, i+3)):\n",
    "        qc.rzz(p,i,j)\n",
    "        if random()<0.5:\n",
    "            remove_gates.append(True)\n",
    "        else:\n",
    "            remove_gates.append(False)\n",
    "            qc_baseline.rzz(p,i,j)\n",
    "qc_compiled_origin = transpile(qc, backend=backend, optimization_level=2)\n",
    "rz_count_before = qc_compiled_origin.count_ops()[\"rz\"]"
   ]
  },
  {
   "cell_type": "code",
   "execution_count": null,
   "id": "878d85f6",
   "metadata": {},
   "outputs": [],
   "source": [
    "def set_to_be_checked_gates(qc_compiled, to_be_checked_gates, remove_gates):\n",
    "    for i in range(len(remove_gates)):\n",
    "        if remove_gates[i]:\n",
    "            qc_compiled._data.remove(to_be_checked_gates[i])\n",
    "\n",
    "def set_to_be_checked_indices(qc_compiled, to_be_checked_gates, remove_gates):\n",
    "    offset = 0\n",
    "    for i in range(len(remove_gates)):\n",
    "        if remove_gates[i]:\n",
    "            del qc_compiled._data[to_be_checked_gates[i-offset]]\n",
    "            offset+=1"
   ]
  },
  {
   "cell_type": "code",
   "execution_count": null,
   "id": "938c194c",
   "metadata": {},
   "outputs": [],
   "source": [
    "def get_indices_of_relevant_gates(qc:QuantumCircuit):\n",
    "    indices = []\n",
    "    for i, gate in enumerate(qc._data):\n",
    "        if gate.operation.name == \"rz\" and isinstance(gate.operation.params[0], Parameter):\n",
    "            indices.append(i)\n",
    "    return indices"
   ]
  },
  {
   "cell_type": "code",
   "execution_count": null,
   "id": "66fb66d8",
   "metadata": {},
   "outputs": [],
   "source": [
    "qc_compiled = qc_compiled_origin.copy()\n",
    "to_be_checked_indices = get_indices_of_relevant_gates(qc_compiled)\n",
    "to_be_checked_gates = [qc_compiled._data[i] for i in to_be_checked_indices]\n",
    "assert len(to_be_checked_gates) == len(remove_gates)\n",
    "\n",
    "start = time()\n",
    "set_to_be_checked_gates(qc_compiled, to_be_checked_gates, remove_gates=remove_gates)\n",
    "#set_to_be_checked_indices(qc_compiled, to_be_checked_indices, remove_gates=remove_gates)\n",
    "print(\"Before Opt. Run:\", qc_compiled.count_ops())\n",
    "transpile_passes = [    \n",
    "    CommutativeCancellation(),\n",
    "    CommutativeInverseCancellation(),\n",
    "    CXCancellation(),\n",
    "    Collect2qBlocks(),\n",
    "    ConsolidateBlocks(),\n",
    "]\n",
    "pm = PassManager(transpile_passes)\n",
    "#qc_compiled = pm.run(qc_compiled).decompose()\n",
    "#qc_compiled = transpile(qc_compiled,optimization_level=3, basis_gates=backend.configuration().basis_gates) #reduced swaps\n",
    "#Debugger.debug(qc_compiled,optimization_level=3, basis_gates=backend.configuration().basis_gates)\n",
    "print(\"After Opt. Run:\", qc_compiled.count_ops())\n",
    "new_comp_time = time()-start\n",
    "print(\"new_comp_time:\", new_comp_time)\n",
    "\n",
    "cx_count_new_scheme = qc_compiled.count_ops()[\"cx\"]\n",
    "#rz_count_new_scheme = qc_compiled.count_ops()[\"rz\"]\n",
    "#assert rz_count_before-rz_count_new_scheme== sum(remove_gates)"
   ]
  },
  {
   "cell_type": "markdown",
   "id": "ad1872dd",
   "metadata": {},
   "source": [
    "# Comparison to Baseline"
   ]
  },
  {
   "cell_type": "code",
   "execution_count": null,
   "id": "12e44e24",
   "metadata": {},
   "outputs": [],
   "source": [
    "start = time()\n",
    "baseline_compiled = transpile(qc_baseline, backend=backend, optimization_level=2)\n",
    "regular_comp_time = time()-start\n",
    "cx_count_all_offline = baseline_compiled.count_ops()['cx']"
   ]
  },
  {
   "cell_type": "code",
   "execution_count": null,
   "id": "be439acf",
   "metadata": {},
   "outputs": [],
   "source": [
    "time_relation = new_comp_time/regular_comp_time\n",
    "cx_relation = cx_count_new_scheme/cx_count_all_offline"
   ]
  },
  {
   "cell_type": "code",
   "execution_count": null,
   "id": "808fddaf",
   "metadata": {},
   "outputs": [],
   "source": [
    "print(new_comp_time, regular_comp_time, time_relation)\n",
    "print(cx_count_new_scheme, cx_count_all_offline, cx_relation)"
   ]
  },
  {
   "cell_type": "code",
   "execution_count": null,
   "id": "dbf65b46",
   "metadata": {},
   "outputs": [],
   "source": []
  }
 ],
 "metadata": {
  "kernelspec": {
   "display_name": "Python 3 (ipykernel)",
   "language": "python",
   "name": "python3"
  },
  "language_info": {
   "codemirror_mode": {
    "name": "ipython",
    "version": 3
   },
   "file_extension": ".py",
   "mimetype": "text/x-python",
   "name": "python",
   "nbconvert_exporter": "python",
   "pygments_lexer": "ipython3"
  }
 },
 "nbformat": 4,
 "nbformat_minor": 5
}
