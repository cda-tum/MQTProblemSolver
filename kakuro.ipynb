{
 "cells": [
  {
   "cell_type": "markdown",
   "id": "b0083b30",
   "metadata": {},
   "source": [
    "# CSP Solver am Beispiel Kakuro"
   ]
  },
  {
   "cell_type": "markdown",
   "id": "48a7738e",
   "metadata": {},
   "source": [
    "```\n",
    " *   | s_0 | s_1 |\n",
    "------------------\n",
    " s_2 |  a  |  b  |\n",
    "------------------\n",
    " s_3 |  c  |  d  | \n",
    "------------------\n",
    "```"
   ]
  },
  {
   "cell_type": "code",
   "execution_count": 1,
   "id": "f3565bd4",
   "metadata": {},
   "outputs": [],
   "source": [
    "unique_solution_instances=[(1,2,2,1),(1,2,1,2),(2,1,2,1),(1,3,3,1),(1,3,1,3),(3,1,3,1),(2,3,3,2),(2,3,2,3),(3,2,3,2)]\n",
    "two_solution_instances=[(1,1,1,1),(2,2,2,2),(3,3,3,3)]\n",
    "all_instances = unique_solution_instances + two_solution_instances"
   ]
  },
  {
   "cell_type": "code",
   "execution_count": 2,
   "id": "52cc6cac",
   "metadata": {},
   "outputs": [],
   "source": [
    "from qiskit.algorithms import Grover\n",
    "import numpy as np\n",
    "from mqt import ddsim\n",
    "from qiskit import *\n",
    "from random import random"
   ]
  },
  {
   "cell_type": "code",
   "execution_count": 3,
   "id": "d8dc052f",
   "metadata": {},
   "outputs": [],
   "source": [
    "#s0_input = 3\n",
    "#s1_input = 3\n",
    "#s2_input = 3\n",
    "#s3_input = 3\n",
    "s0_input, s1_input, s2_input, s3_input = all_instances[int(random()*len(all_instances))]"
   ]
  },
  {
   "cell_type": "code",
   "execution_count": 4,
   "id": "1293b5e0",
   "metadata": {
    "pycharm": {
     "name": "#%%\n"
    }
   },
   "outputs": [],
   "source": [
    "\n",
    "s0_low = QuantumRegister(1, 's0_low')\n",
    "s0_high = QuantumRegister(1, 's0_high')\n",
    "s0 = (s0_low, s0_high)\n",
    "s1_low = QuantumRegister(1, 's1_low')\n",
    "s1_high = QuantumRegister(1, 's1_high')\n",
    "s1 = (s1_low, s1_high)\n",
    "s2_low = QuantumRegister(1, 's2_low')\n",
    "s2_high = QuantumRegister(1, 's2_high')\n",
    "s2 = (s2_low, s2_high)\n",
    "s3_low = QuantumRegister(1, 's3_low')\n",
    "s3_high = QuantumRegister(1, 's3_high')\n",
    "s3 = (s3_low, s3_high)\n",
    "\n",
    "a_low = QuantumRegister(1, 'a_low')\n",
    "a_high = QuantumRegister(1, 'a_high')\n",
    "a = (a_low, a_high)\n",
    "b_low = QuantumRegister(1, 'b_low')\n",
    "b_high = QuantumRegister(1, 'b_high')\n",
    "b = (b_low, b_high)\n",
    "c_low = QuantumRegister(1, 'c_low')\n",
    "c_high = QuantumRegister(1, 'c_high')\n",
    "c = (c_low, c_high)\n",
    "d_low = QuantumRegister(1, 'd_low')\n",
    "d_high = QuantumRegister(1, 'd_high')\n",
    "d = (d_low, d_high)\n",
    "\n",
    "anc = QuantumRegister(28, 'anc')\n",
    "anc_mct = QuantumRegister(10, 'mct_ancilla')\n",
    "flag = QuantumRegister(1, 'flag')\n",
    "qc = QuantumCircuit(a_low, a_high, b_low, b_high, c_low, c_high, d_low, d_high, s0_low, s0_high, s1_low, s1_high, s2_low, s2_high, s3_low, s3_high, anc, anc_mct, flag)\n",
    "ninputs = 8\n",
    "nqubits = 17\n",
    "nancilla = anc.size + anc_mct.size"
   ]
  },
  {
   "cell_type": "code",
   "execution_count": 5,
   "id": "d8b505fb",
   "metadata": {},
   "outputs": [
    {
     "data": {
      "text/plain": [
       "55"
      ]
     },
     "execution_count": 5,
     "metadata": {},
     "output_type": "execute_result"
    }
   ],
   "source": [
    "nancilla + nqubits"
   ]
  },
  {
   "cell_type": "markdown",
   "id": "2a193b5d",
   "metadata": {},
   "source": [
    "## Encoding of Input Values"
   ]
  },
  {
   "cell_type": "code",
   "execution_count": 6,
   "id": "1dcda8c4",
   "metadata": {},
   "outputs": [],
   "source": [
    "\n",
    "if s0_input == 1:\n",
    "    qc.x(s0_low)\n",
    "elif s0_input == 2:\n",
    "    qc.x(s0_high)\n",
    "elif s0_input == 3:\n",
    "    qc.x(s0_low)\n",
    "    qc.x(s0_high)\n",
    "    \n",
    "if s1_input == 1:\n",
    "    qc.x(s1_low)\n",
    "elif s1_input == 2:\n",
    "    qc.x(s1_high)\n",
    "elif s1_input == 3:\n",
    "    qc.x(s1_low)\n",
    "    qc.x(s1_high)\n",
    "    \n",
    "if s2_input == 1:\n",
    "    qc.x(s2_low)\n",
    "elif s2_input == 2:\n",
    "    qc.x(s2_high)\n",
    "elif s2_input == 3:\n",
    "    qc.x(s2_low)\n",
    "    qc.x(s2_high)\n",
    "    \n",
    "if s3_input == 1:\n",
    "    qc.x(s3_low)\n",
    "elif s3_input == 2:\n",
    "    qc.x(s3_high)\n",
    "elif s3_input == 3:\n",
    "    qc.x(s3_low)\n",
    "    qc.x(s3_high)"
   ]
  },
  {
   "cell_type": "markdown",
   "id": "8c645bd5",
   "metadata": {},
   "source": [
    "## Function Definition for Inequality, equality and addition"
   ]
  },
  {
   "cell_type": "code",
   "execution_count": 7,
   "id": "29ccc611",
   "metadata": {},
   "outputs": [],
   "source": [
    "def check_equality(qc, x, y, res_anc):\n",
    "    x_low, x_high = x\n",
    "    y_low, y_high = y\n",
    "    \n",
    "    qc.cx(x_high, y_high)\n",
    "    qc.x(y_high)\n",
    "    qc.cx(x_low, y_low)\n",
    "    qc.x(y_low)\n",
    "    \n",
    "    qc.rccx(y_low, y_high, res_anc)\n",
    "    \n",
    "    #Uncompute\n",
    "    qc.x(y_low)\n",
    "    qc.cx(x_low, y_low)\n",
    "    qc.x(y_high)\n",
    "    qc.cx(x_high, y_high)\n",
    "\n",
    "def check_inequality(qc, x, y, res_anc):\n",
    "    check_equality(qc, x, y, res_anc)\n",
    "    qc.x(res_anc)\n",
    "\n",
    "\n",
    "def check_input_not_3(qc, low, high, res_anc):\n",
    "    qc.rccx(low, high, res_anc)\n",
    "    qc.x(res_anc)\n",
    "\n",
    "def add_two_numbers(qc, x, y, ancs, res_anc_low, res_anc_high):\n",
    "    x_low, x_high = x\n",
    "    y_low, y_high = y\n",
    "    \n",
    "    \n",
    "    qc.rccx(x_low, y_low, ancs[0])\n",
    "    qc.cx(x_low, y_low)\n",
    "    qc.cx(y_low, res_anc_low)\n",
    "    qc.cx(x_high, y_high)\n",
    "    qc.cx(y_high, ancs[1])\n",
    "    qc.x(ancs[0])\n",
    "    qc.x(ancs[1])\n",
    "    \n",
    "    qc.rccx(ancs[0], ancs[1], res_anc_high)\n",
    "    qc.x(res_anc_high)\n",
    "\n",
    "    #Uncompute\n",
    "    #qc.x(ancs[0])\n",
    "    #qc.x(ancs[1])\n",
    "    #qc.cx(y_high, ancs[1])\n",
    "    qc.cx(x_high, y_high)\n",
    "    qc.cx(x_low, y_low)\n",
    "    #qc.rccx(x_low, y_low, ancs[0])\n",
    "    \n",
    "    return (res_anc_low, res_anc_high)"
   ]
  },
  {
   "cell_type": "markdown",
   "id": "ebf68461",
   "metadata": {},
   "source": [
    "# Check Functions and their result"
   ]
  },
  {
   "cell_type": "markdown",
   "id": "2a04dfb0",
   "metadata": {},
   "source": [
    "## Inequality"
   ]
  },
  {
   "cell_type": "code",
   "execution_count": 8,
   "id": "5c50253e",
   "metadata": {},
   "outputs": [
    {
     "name": "stdout",
     "output_type": "stream",
     "text": [
      "0 {'0': 10}\n",
      "1 {'1': 10}\n",
      "10 {'1': 10}\n",
      "11 {'1': 10}\n",
      "100 {'1': 10}\n",
      "101 {'0': 10}\n",
      "110 {'1': 10}\n",
      "111 {'1': 10}\n",
      "1000 {'1': 10}\n",
      "1001 {'1': 10}\n",
      "1010 {'0': 10}\n",
      "1011 {'1': 10}\n",
      "1100 {'1': 10}\n",
      "1101 {'1': 10}\n",
      "1110 {'1': 10}\n",
      "1111 {'0': 10}\n"
     ]
    },
    {
     "name": "stderr",
     "output_type": "stream",
     "text": [
      "/Users/nils/miniforge3/envs/tf3/lib/python3.9/site-packages/numpy/linalg/linalg.py:2158: RuntimeWarning: divide by zero encountered in det\n",
      "  r = _umath_linalg.det(a, signature=signature)\n",
      "/Users/nils/miniforge3/envs/tf3/lib/python3.9/site-packages/numpy/linalg/linalg.py:2158: RuntimeWarning: invalid value encountered in det\n",
      "  r = _umath_linalg.det(a, signature=signature)\n"
     ]
    }
   ],
   "source": [
    "for i in range(2**4):\n",
    "\n",
    "    t1_low = QuantumRegister(1, 't1_low')\n",
    "    t1_high = QuantumRegister(1, 't1_high')\n",
    "    t1 = (t1_low, t1_high)\n",
    "    t2_low = QuantumRegister(1, 't2_low')\n",
    "    t2_high = QuantumRegister(1, 't2_high')\n",
    "    t2 = (t2_low, t2_high)\n",
    "    t_anc = QuantumRegister(1, 't_anc')\n",
    "    t_anc_classical = ClassicalRegister(1, 't_anc_classical')\n",
    "       \n",
    "    qc_test_inequality = QuantumCircuit(t1_low, t1_high, t2_low, t2_high, t_anc, t_anc_classical)\n",
    "    for j in range(4):\n",
    "        if (i>>j) % 2 == 1:\n",
    "            qc_test_inequality.x(j)\n",
    "\n",
    "    check_inequality(qc_test_inequality, t1, t2, t_anc)\n",
    "    qc_test_inequality.measure(t_anc, t_anc_classical)\n",
    "\n",
    "    backend = ddsim.DDSIMProvider().get_backend('qasm_simulator')\n",
    "    job = execute(qc_test_inequality, backend, shots=10)\n",
    "    counts = job.result().get_counts(qc_test_inequality)\n",
    "    print(\"{0:b}\".format(i), counts)"
   ]
  },
  {
   "cell_type": "markdown",
   "id": "83f344aa",
   "metadata": {},
   "source": [
    "## Equality"
   ]
  },
  {
   "cell_type": "code",
   "execution_count": 9,
   "id": "60e5c9a7",
   "metadata": {},
   "outputs": [
    {
     "name": "stdout",
     "output_type": "stream",
     "text": [
      "0 {'1': 10}\n",
      "1 {'0': 10}\n",
      "10 {'0': 10}\n",
      "11 {'0': 10}\n",
      "100 {'0': 10}\n",
      "101 {'1': 10}\n",
      "110 {'0': 10}\n",
      "111 {'0': 10}\n",
      "1000 {'0': 10}\n",
      "1001 {'0': 10}\n",
      "1010 {'1': 10}\n",
      "1011 {'0': 10}\n",
      "1100 {'0': 10}\n",
      "1101 {'0': 10}\n",
      "1110 {'0': 10}\n",
      "1111 {'1': 10}\n"
     ]
    }
   ],
   "source": [
    "for i in range(2**4):\n",
    "\n",
    "    t1_low = QuantumRegister(1, 't1_low')\n",
    "    t1_high = QuantumRegister(1, 't1_high')\n",
    "    t1 = (t1_low, t1_high)\n",
    "    t2_low = QuantumRegister(1, 't2_low')\n",
    "    t2_high = QuantumRegister(1, 't2_high')\n",
    "    t2 = (t2_low, t2_high)\n",
    "    t_anc = QuantumRegister(1, 't_anc')\n",
    "    t_anc_classical = ClassicalRegister(1, 't_anc_classical')\n",
    "       \n",
    "    qc_test_equality = QuantumCircuit(t1_low, t1_high, t2_low, t2_high, t_anc, t_anc_classical)\n",
    "    for j in range(4):\n",
    "        if (i>>j) % 2 == 1:\n",
    "            qc_test_equality.x(j)\n",
    "\n",
    "\n",
    "\n",
    "\n",
    "    check_equality(qc_test_equality, t1, t2, t_anc)\n",
    "    qc_test_equality.measure(t_anc, t_anc_classical)\n",
    "\n",
    "    backend = ddsim.DDSIMProvider().get_backend('qasm_simulator')\n",
    "    job = execute(qc_test_equality, backend, shots=10)\n",
    "    counts = job.result().get_counts(qc_test_equality)\n",
    "    print(\"{0:b}\".format(i), counts)"
   ]
  },
  {
   "cell_type": "markdown",
   "id": "81d6962c",
   "metadata": {},
   "source": [
    "## Addition"
   ]
  },
  {
   "cell_type": "code",
   "execution_count": 10,
   "id": "269f5585",
   "metadata": {},
   "outputs": [
    {
     "name": "stdout",
     "output_type": "stream",
     "text": [
      "0 {'0 0': 10}\n",
      "1 {'0 1': 10}\n",
      "10 {'1 0': 10}\n",
      "11 {'1 1': 10}\n",
      "100 {'0 1': 10}\n",
      "101 {'1 0': 10}\n",
      "110 {'1 1': 10}\n",
      "111 {'1 0': 10}\n",
      "1000 {'1 0': 10}\n",
      "1001 {'1 1': 10}\n",
      "1010 {'0 0': 10}\n",
      "1011 {'0 1': 10}\n",
      "1100 {'1 1': 10}\n",
      "1101 {'1 0': 10}\n",
      "1110 {'0 1': 10}\n",
      "1111 {'1 0': 10}\n"
     ]
    }
   ],
   "source": [
    "for i in range(2**4):\n",
    "    t1_low = QuantumRegister(1, 't1_low')\n",
    "    t1_high = QuantumRegister(1, 't1_high')\n",
    "    t1 = (t1_low, t1_high)\n",
    "    t2_low = QuantumRegister(1, 't2_low')\n",
    "    t2_high = QuantumRegister(1, 't2_high')\n",
    "    t2 = (t2_low, t2_high)\n",
    "    t_ancs = QuantumRegister(2, 't_ancs')\n",
    "    t_anc_low = QuantumRegister(1, 't_anc_low')\n",
    "    t_anc_low_classical = ClassicalRegister(1, 't_anc_low_classical')\n",
    "    t_anc_high = QuantumRegister(1, 't_anc_high')\n",
    "    t_anc_high_classical = ClassicalRegister(1, 't_anc_high_classical')\n",
    "\n",
    "    qc_test_adittion = QuantumCircuit(t1_low, t1_high, t2_low, t2_high, t_ancs, t_anc_low, t_anc_high, t_anc_low_classical, t_anc_high_classical)\n",
    "\n",
    "    for j in range(4):\n",
    "        if (i>>j) % 2 == 1:\n",
    "            qc_test_adittion.x(j)\n",
    "\n",
    "    tmp_1 = add_two_numbers(qc_test_adittion, t1, t2, t_ancs, t_anc_low, t_anc_high)\n",
    "\n",
    "    qc_test_adittion.measure(t_anc_low, t_anc_low_classical)\n",
    "    qc_test_adittion.measure(t_anc_high, t_anc_high_classical)\n",
    "\n",
    "    backend = ddsim.DDSIMProvider().get_backend('qasm_simulator')\n",
    "    job = execute(qc_test_adittion, backend, shots=10)\n",
    "    counts = job.result().get_counts(qc_test_adittion)\n",
    "    print(\"{0:b}\".format(i), counts)"
   ]
  },
  {
   "cell_type": "markdown",
   "id": "5f877a0c",
   "metadata": {},
   "source": [
    "# Encoding of Constraints"
   ]
  },
  {
   "cell_type": "code",
   "execution_count": null,
   "id": "f8d41365",
   "metadata": {},
   "outputs": [],
   "source": [
    "mct_list=[]\n",
    "\n",
    "# Inequalities\n",
    "check_inequality(qc, a, b, anc[0])\n",
    "mct_list.append(anc[0])\n",
    "check_inequality(qc, b, d, anc[1])\n",
    "mct_list.append(anc[1])\n",
    "check_inequality(qc, d, c, anc[2])\n",
    "mct_list.append(anc[2])\n",
    "check_inequality(qc, c, a, anc[3])\n",
    "mct_list.append(anc[3])\n",
    "\n",
    "\n",
    "# Equalities\n",
    "tmp_1 = add_two_numbers(qc, a, b, anc[4:6], anc[6], anc[7])\n",
    "check_equality(qc, s2, tmp_1, anc[8])\n",
    "mct_list.append(anc[8])\n",
    "\n",
    "tmp_2 = add_two_numbers(qc, c, d, anc[9:11], anc[11], anc[12])\n",
    "check_equality(qc, s3, tmp_2, anc[13])\n",
    "mct_list.append(anc[13])\n",
    "\n",
    "tmp_3 = add_two_numbers(qc, b, d, anc[14:16], anc[16], anc[17])\n",
    "check_equality(qc, s1, tmp_3, anc[18])\n",
    "mct_list.append(anc[18])\n",
    "\n",
    "tmp_4 = add_two_numbers(qc, a, c, anc[19:21], anc[21], anc[22])\n",
    "check_equality(qc, s0, tmp_4, anc[23])\n",
    "mct_list.append(anc[23])\n",
    "\n",
    "# Restrict a,b,c,d to be not 3\n",
    "check_input_not_3(qc, a_low, a_high, anc[24])\n",
    "mct_list.append(anc[24])\n",
    "check_input_not_3(qc, b_low, b_high, anc[25])\n",
    "mct_list.append(anc[25])\n",
    "check_input_not_3(qc, c_low, c_high, anc[26])\n",
    "mct_list.append(anc[26])\n",
    "check_input_not_3(qc, d_low, d_high, anc[27])\n",
    "mct_list.append(anc[27])\n",
    "\n",
    "qc.draw(output='mpl', fold=-1)"
   ]
  },
  {
   "cell_type": "markdown",
   "id": "b02796f7",
   "metadata": {},
   "source": [
    "# Create Oracle"
   ]
  },
  {
   "cell_type": "code",
   "execution_count": null,
   "id": "66bee136",
   "metadata": {},
   "outputs": [],
   "source": [
    "compute = qc.to_instruction()\n",
    "\n",
    "# mark solution\n",
    "qc.mct(mct_list, flag, ancilla_qubits=anc_mct, mode='v-chain')\n",
    "\n",
    "# uncompute\n",
    "uncompute = compute.inverse()\n",
    "uncompute.name = 'uncompute'\n",
    "qc.append(uncompute, range(qc.num_qubits))\n",
    "\n",
    "\n",
    "print(\"Complete Oracle (CX): \", transpile(qc, basis_gates=['u', 'cx']).count_ops()['cx'])\n",
    "print(\"Complete Oracle (U): \", transpile(qc, basis_gates=['u', 'cx']).count_ops()['u'])\n",
    "oracle = qc.to_instruction(label='oracle')\n",
    "qc.draw(output='mpl', fold=-1)"
   ]
  },
  {
   "cell_type": "markdown",
   "id": "d93e4c06",
   "metadata": {},
   "source": [
    "# Testing the Oracle"
   ]
  },
  {
   "cell_type": "code",
   "execution_count": null,
   "id": "f7545dbc",
   "metadata": {},
   "outputs": [],
   "source": [
    "from qiskit.algorithms import Grover\n",
    "import numpy as np\n",
    "from mqt import ddsim\n",
    "backend = ddsim.DDSIMProvider().get_backend('qasm_simulator')\n",
    "for i in range(2**8):\n",
    "    new = QuantumCircuit(nqubits+nancilla, 1)\n",
    "    for j in range(8):\n",
    "        if (i>>j) % 2 == 1:\n",
    "            new.x(j)\n",
    "    new.append(oracle, range(nqubits+nancilla))\n",
    "    new.measure(54, 0)\n",
    "\n",
    "    job = execute(new, backend, shots=10)\n",
    "    counts = job.result().get_counts(new)\n",
    "    #print(\"{0:b}\".format(i), counts)\n",
    "    if counts.get(\"1\"):\n",
    "        print(\"{0:b}\".format(i), counts)\n",
    "\n"
   ]
  },
  {
   "cell_type": "markdown",
   "id": "be5741fc",
   "metadata": {},
   "source": [
    "# Embedding in Grover Algorithm and Execution on Simulator"
   ]
  },
  {
   "cell_type": "code",
   "execution_count": null,
   "id": "bc0abe29",
   "metadata": {},
   "outputs": [],
   "source": [
    "from qiskit.algorithms import Grover\n",
    "import numpy as np\n",
    "from mqt import ddsim\n",
    "\n",
    "\n",
    "\n",
    "#num_iterations = Grover.optimal_num_iterations(1, ninputs)\n",
    "m = 2\n",
    "found_sol = False\n",
    "while m < np.sqrt(2**8) and not found_sol:\n",
    "    print(\"m: \", round(m))\n",
    "    qc = QuantumCircuit(nqubits+nancilla, ninputs)\n",
    "    qc.h(range(ninputs))\n",
    "    qc.x(nqubits+nancilla-1)\n",
    "    qc.h(nqubits+nancilla-1)\n",
    "    #print(num_iterations)\n",
    "    for _ in range(round(m)):\n",
    "        qc.append(oracle, range(nqubits+nancilla))\n",
    "        qc.h(range(ninputs))\n",
    "        qc.x(range(ninputs))\n",
    "        qc.mcp(np.pi, list(range(ninputs-1)), ninputs-1)\n",
    "        qc.x(range(ninputs))\n",
    "        qc.h(range(ninputs))\n",
    "    qc.measure(range(ninputs), range(ninputs))\n",
    "    qc.qasm(filename='grover_algorithm.qasm')\n",
    "\n",
    "    backend = ddsim.DDSIMProvider().get_backend('qasm_simulator')\n",
    "    job = execute(qc, backend, shots=10)\n",
    "    counts = job.result().get_counts(qc)\n",
    "    for entry in counts.keys():\n",
    "        if counts.get(entry) > 2:\n",
    "            print(counts)\n",
    "            found_sol = True\n",
    "    if not found_sol:\n",
    "        m*=1.32"
   ]
  },
  {
   "cell_type": "markdown",
   "id": "8ef0d97b",
   "metadata": {},
   "source": [
    "# Decoding/Interpretation"
   ]
  },
  {
   "cell_type": "code",
   "execution_count": null,
   "id": "04581357",
   "metadata": {},
   "outputs": [],
   "source": [
    "def print_kakuro(a, b, c, d, s0, s1, s2, s3):\n",
    "    print(\"     | \",s0,\" | \",s1,\" |\")\n",
    "    print(\"------------------\")\n",
    "    print(\" \", s2,\" | \",a,\" | \",b,\" |\")\n",
    "    print(\"------------------\")\n",
    "    print(\" \", s3,\" | \",c,\" | \",d,\" |\")\n",
    "    print(\"------------------\\n\")"
   ]
  },
  {
   "cell_type": "code",
   "execution_count": null,
   "id": "d75eb6f7",
   "metadata": {},
   "outputs": [],
   "source": [
    "for entry in counts.keys():\n",
    "    d = int(entry[0:2], 2)\n",
    "    c = int(entry[2:4], 2)\n",
    "    b = int(entry[4:6], 2)\n",
    "    a = int(entry[6:8], 2)\n",
    "    if counts.get(entry) > 2:\n",
    "        print_kakuro(a, b, c, d, s0_input, s1_input, s2_input, s3_input)"
   ]
  },
  {
   "cell_type": "code",
   "execution_count": null,
   "id": "4d061399",
   "metadata": {},
   "outputs": [],
   "source": []
  }
 ],
 "metadata": {
  "kernelspec": {
   "display_name": "Python 3 (ipykernel)",
   "language": "python",
   "name": "python3"
  },
  "language_info": {
   "codemirror_mode": {
    "name": "ipython",
    "version": 3
   },
   "file_extension": ".py",
   "mimetype": "text/x-python",
   "name": "python",
   "nbconvert_exporter": "python",
   "pygments_lexer": "ipython3",
   "version": "3.9.12"
  }
 },
 "nbformat": 4,
 "nbformat_minor": 5
}
