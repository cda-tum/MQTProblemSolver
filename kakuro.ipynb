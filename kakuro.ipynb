{
 "cells": [
  {
   "cell_type": "markdown",
   "id": "aeffa03f",
   "metadata": {},
   "source": [
    "# CSP Solver am Beispiel Kakuro"
   ]
  },
  {
   "cell_type": "markdown",
   "id": "4e40bac9",
   "metadata": {},
   "source": [
    "```\n",
    " *   | s_0 | s_1 |\n",
    "------------------\n",
    " s_2 |  a  |  b  |\n",
    "------------------\n",
    " s_3 |  c  |  d  | \n",
    "------------------\n",
    "```"
   ]
  },
  {
   "cell_type": "code",
   "execution_count": 1,
   "id": "87847113",
   "metadata": {},
   "outputs": [],
   "source": [
    "from qiskit.algorithms import Grover\n",
    "import numpy as np\n",
    "from mqt import ddsim\n",
    "from qiskit import *"
   ]
  },
  {
   "cell_type": "code",
   "execution_count": null,
   "id": "f34259b3",
   "metadata": {},
   "outputs": [],
   "source": [
    "s0_input = 1\n",
    "s1_input = 3\n",
    "s2_input = 3\n",
    "s3_input = 1"
   ]
  },
  {
   "cell_type": "code",
   "execution_count": null,
   "id": "1293b5e0",
   "metadata": {
    "pycharm": {
     "name": "#%%\n"
    }
   },
   "outputs": [],
   "source": [
    "\n",
    "s0_low = QuantumRegister(1, 's0_low')\n",
    "s0_high = QuantumRegister(1, 's0_high')\n",
    "s0 = (s0_low, s0_high)\n",
    "s1_low = QuantumRegister(1, 's1_low')\n",
    "s1_high = QuantumRegister(1, 's1_high')\n",
    "s1 = (s1_low, s1_high)\n",
    "s2_low = QuantumRegister(1, 's2_low')\n",
    "s2_high = QuantumRegister(1, 's2_high')\n",
    "s2 = (s2_low, s2_high)\n",
    "s3_low = QuantumRegister(1, 's3_low')\n",
    "s3_high = QuantumRegister(1, 's3_high')\n",
    "s3 = (s3_low, s3_high)\n",
    "\n",
    "a_low = QuantumRegister(1, 'a_low')\n",
    "a_high = QuantumRegister(1, 'a_high')\n",
    "a = (a_low, a_high)\n",
    "b_low = QuantumRegister(1, 'b_low')\n",
    "b_high = QuantumRegister(1, 'b_high')\n",
    "b = (b_low, b_high)\n",
    "c_low = QuantumRegister(1, 'c_low')\n",
    "c_high = QuantumRegister(1, 'c_high')\n",
    "c = (c_low, c_high)\n",
    "d_low = QuantumRegister(1, 'd_low')\n",
    "d_high = QuantumRegister(1, 'd_high')\n",
    "d = (d_low, d_high)\n",
    "\n",
    "anc = QuantumRegister(32, 'anc')\n",
    "anc_mct = QuantumRegister(9, 'mct_ancilla')\n",
    "flag = QuantumRegister(1, 'flag')\n",
    "qc = QuantumCircuit(a_low, a_high, b_low, b_high, c_low, c_high, d_low, d_high, s0_low, s0_high, s1_low, s1_high, s2_low, s2_high, s3_low, s3_high, anc, anc_mct, flag)\n",
    "ninputs = 8\n",
    "nqubits = 17\n",
    "nancilla = anc.size + anc_mct.size"
   ]
  },
  {
   "cell_type": "code",
   "execution_count": null,
   "id": "f581344d",
   "metadata": {},
   "outputs": [],
   "source": [
    "nancilla + nqubits"
   ]
  },
  {
   "cell_type": "markdown",
   "id": "2a193b5d",
   "metadata": {},
   "source": [
    "## Encoding of Input Values"
   ]
  },
  {
   "cell_type": "code",
   "execution_count": null,
   "id": "1dcda8c4",
   "metadata": {},
   "outputs": [],
   "source": [
    "\n",
    "if s0_input == 1:\n",
    "    qc.x(s0_low)\n",
    "elif s0_input == 2:\n",
    "    qc.x(s0_high)\n",
    "elif s0_input == 3:\n",
    "    qc.x(s0_low)\n",
    "    qc.x(s0_high)\n",
    "    \n",
    "if s1_input == 1:\n",
    "    qc.x(s1_low)\n",
    "elif s1_input == 2:\n",
    "    qc.x(s1_high)\n",
    "elif s1_input == 3:\n",
    "    qc.x(s1_low)\n",
    "    qc.x(s1_high)\n",
    "    \n",
    "if s2_input == 1:\n",
    "    qc.x(s2_low)\n",
    "elif s2_input == 2:\n",
    "    qc.x(s2_high)\n",
    "elif s2_input == 3:\n",
    "    qc.x(s2_low)\n",
    "    qc.x(s2_high)\n",
    "    \n",
    "if s3_input == 1:\n",
    "    qc.x(s3_low)\n",
    "elif s3_input == 2:\n",
    "    qc.x(s3_high)\n",
    "elif s3_input == 3:\n",
    "    qc.x(s3_low)\n",
    "    qc.x(s3_high)"
   ]
  },
  {
   "cell_type": "markdown",
   "id": "8c645bd5",
   "metadata": {},
   "source": [
    "## Function Definition for Inequality, equality and addition"
   ]
  },
  {
   "cell_type": "code",
   "execution_count": 18,
   "id": "fb52115c",
   "metadata": {},
   "outputs": [],
   "source": [
    "def check_equality(qc, x, y, res_anc):\n",
    "    x_low, x_high = x\n",
    "    y_low, y_high = y\n",
    "    \n",
    "    qc.cx(x_high, y_high)\n",
    "    qc.x(y_high)\n",
    "    qc.cx(x_low, y_low)\n",
    "    qc.x(y_low)\n",
    "    \n",
    "    qc.rccx(y_low, y_high, res_anc)\n",
    "    \n",
    "    #Uncompute\n",
    "    qc.x(y_low)\n",
    "    qc.cx(x_low, y_low)\n",
    "    qc.x(y_high)\n",
    "    qc.cx(x_high, y_high)\n",
    "\n",
    "def check_inequality(qc, x, y, res_anc):\n",
    "    check_equality(qc, x, y, res_anc)\n",
    "    qc.x(res_anc)\n",
    "\n",
    "\n",
    "def add_two_numbers(qc, x, y, ancs, res_anc_low, res_anc_high):\n",
    "    x_low, x_high = x\n",
    "    y_low, y_high = y\n",
    "    \n",
    "    qc.cx(x_low, y_low)\n",
    "    qc.cx(y_low, res_anc_low)\n",
    "    qc.rccx(x_low, y_low, ancs[0])\n",
    "    qc.cx(x_high, y_high)\n",
    "    qc.cx(y_high, ancs[1])\n",
    "    qc.x(ancs[0])\n",
    "    qc.x(ancs[1])\n",
    "    \n",
    "    qc.rccx(ancs[0], ancs[1], res_anc_high)\n",
    "\n",
    "    #Uncompute\n",
    "    qc.x(ancs[0])\n",
    "    qc.x(ancs[1])\n",
    "    qc.cx(y_high, ancs[1])\n",
    "    qc.cx(x_high, y_high)\n",
    "    qc.rccx(x_low, y_low, ancs[0])\n",
    "    qc.cx(y_low, res_anc_low)\n",
    "    qc.cx(x_low, y_low)\n",
    "    \n",
    "\n",
    "    \n",
    "    return (res_anc_low, res_anc_high)"
   ]
  },
  {
   "cell_type": "markdown",
   "id": "7f1e0fb1",
   "metadata": {},
   "source": [
    "# Check Functions and their result"
   ]
  },
  {
   "cell_type": "markdown",
   "id": "afaf59aa",
   "metadata": {},
   "source": [
    "## Inequality"
   ]
  },
  {
   "cell_type": "code",
   "execution_count": 19,
   "id": "14550dc9",
   "metadata": {},
   "outputs": [
    {
     "name": "stdout",
     "output_type": "stream",
     "text": [
      "0 {'0': 10}\n",
      "1 {'1': 10}\n",
      "10 {'1': 10}\n",
      "11 {'1': 10}\n",
      "100 {'1': 10}\n",
      "101 {'0': 10}\n",
      "110 {'1': 10}\n",
      "111 {'1': 10}\n",
      "1000 {'1': 10}\n",
      "1001 {'1': 10}\n",
      "1010 {'0': 10}\n",
      "1011 {'1': 10}\n",
      "1100 {'1': 10}\n",
      "1101 {'1': 10}\n",
      "1110 {'1': 10}\n",
      "1111 {'0': 10}\n"
     ]
    }
   ],
   "source": [
    "for i in range(2**4):\n",
    "\n",
    "    t1_low = QuantumRegister(1, 't1_low')\n",
    "    t1_high = QuantumRegister(1, 't1_high')\n",
    "    t1 = (t1_low, t1_high)\n",
    "    t2_low = QuantumRegister(1, 't2_low')\n",
    "    t2_high = QuantumRegister(1, 't2_high')\n",
    "    t2 = (t2_low, t2_high)\n",
    "    t_anc = QuantumRegister(1, 't_anc')\n",
    "    t_anc_classical = ClassicalRegister(1, 't_anc_classical')\n",
    "       \n",
    "    qc_test_inequality = QuantumCircuit(t1_low, t1_high, t2_low, t2_high, t_anc, t_anc_classical)\n",
    "    for j in range(4):\n",
    "        if (i>>j) % 2 == 1:\n",
    "            qc_test_inequality.x(j)\n",
    "\n",
    "    check_inequality(qc_test_inequality, t1, t2, t_anc)\n",
    "    qc_test_inequality.measure(t_anc, t_anc_classical)\n",
    "\n",
    "    backend = ddsim.DDSIMProvider().get_backend('qasm_simulator')\n",
    "    job = execute(qc_test_inequality, backend, shots=10)\n",
    "    counts = job.result().get_counts(qc_test_inequality)\n",
    "    print(\"{0:b}\".format(i), counts)"
   ]
  },
  {
   "cell_type": "markdown",
   "id": "d8b4439f",
   "metadata": {},
   "source": [
    "## Equality"
   ]
  },
  {
   "cell_type": "code",
   "execution_count": 20,
   "id": "8755cb2c",
   "metadata": {},
   "outputs": [
    {
     "name": "stdout",
     "output_type": "stream",
     "text": [
      "0 {'1': 10}\n",
      "1 {'0': 10}\n",
      "10 {'0': 10}\n",
      "11 {'0': 10}\n",
      "100 {'0': 10}\n",
      "101 {'1': 10}\n",
      "110 {'0': 10}\n",
      "111 {'0': 10}\n",
      "1000 {'0': 10}\n",
      "1001 {'0': 10}\n",
      "1010 {'1': 10}\n",
      "1011 {'0': 10}\n",
      "1100 {'0': 10}\n",
      "1101 {'0': 10}\n",
      "1110 {'0': 10}\n",
      "1111 {'1': 10}\n"
     ]
    }
   ],
   "source": [
    "for i in range(2**4):\n",
    "\n",
    "    t1_low = QuantumRegister(1, 't1_low')\n",
    "    t1_high = QuantumRegister(1, 't1_high')\n",
    "    t1 = (t1_low, t1_high)\n",
    "    t2_low = QuantumRegister(1, 't2_low')\n",
    "    t2_high = QuantumRegister(1, 't2_high')\n",
    "    t2 = (t2_low, t2_high)\n",
    "    t_anc = QuantumRegister(1, 't_anc')\n",
    "    t_anc_classical = ClassicalRegister(1, 't_anc_classical')\n",
    "       \n",
    "    qc_test_equality = QuantumCircuit(t1_low, t1_high, t2_low, t2_high, t_anc, t_anc_classical)\n",
    "    for j in range(4):\n",
    "        if (i>>j) % 2 == 1:\n",
    "            qc_test_equality.x(j)\n",
    "\n",
    "\n",
    "\n",
    "\n",
    "    check_equality(qc_test_equality, t1, t2, t_anc)\n",
    "    qc_test_equality.measure(t_anc, t_anc_classical)\n",
    "\n",
    "    backend = ddsim.DDSIMProvider().get_backend('qasm_simulator')\n",
    "    job = execute(qc_test_equality, backend, shots=10)\n",
    "    counts = job.result().get_counts(qc_test_equality)\n",
    "    print(\"{0:b}\".format(i), counts)"
   ]
  },
  {
   "cell_type": "markdown",
   "id": "0267f522",
   "metadata": {},
   "source": [
    "## Addition"
   ]
  },
  {
   "cell_type": "code",
   "execution_count": 21,
   "id": "891486f7",
   "metadata": {},
   "outputs": [
    {
     "name": "stdout",
     "output_type": "stream",
     "text": [
      "{'1 0': 10}\n"
     ]
    },
    {
     "data": {
      "image/png": "[encoded data removed]",
      "text/plain": [
       "<Figure size 1233.54x746.48 with 1 Axes>"
      ]
     },
     "execution_count": 21,
     "metadata": {},
     "output_type": "execute_result"
    }
   ],
   "source": [
    "t1_low = QuantumRegister(1, 't1_low')\n",
    "t1_high = QuantumRegister(1, 't1_high')\n",
    "t1 = (t1_low, t1_high)\n",
    "t2_low = QuantumRegister(1, 't2_low')\n",
    "t2_high = QuantumRegister(1, 't2_high')\n",
    "t2 = (t2_low, t2_high)\n",
    "t_ancs = QuantumRegister(4, 't_ancs')\n",
    "t_anc_low = QuantumRegister(1, 't_anc_low')\n",
    "t_anc_low_classical = ClassicalRegister(1, 't_anc_low_classical')\n",
    "t_anc_high = QuantumRegister(1, 't_anc_high')\n",
    "t_anc_high_classical = ClassicalRegister(1, 't_anc_high_classical')\n",
    "\n",
    "qc_test_adittion = QuantumCircuit(t1_low, t1_high, t2_low, t2_high, t_ancs, t_anc_low, t_anc_high, t_anc_low_classical, t_anc_high_classical)\n",
    "\n",
    "tmp_1 = add_two_numbers(qc_test_adittion, t1, t2, t_ancs, t_anc_low, t_anc_high)\n",
    "\n",
    "qc_test_adittion.measure(t_anc_low, t_anc_low_classical)\n",
    "qc_test_adittion.measure(t_anc_high, t_anc_high_classical)\n",
    "\n",
    "backend = ddsim.DDSIMProvider().get_backend('qasm_simulator')\n",
    "job = execute(qc_test_adittion, backend, shots=10)\n",
    "counts = job.result().get_counts(qc_test_adittion)\n",
    "print(counts)\n",
    "\n",
    "qc_test_adittion.draw(output='mpl', fold=-1)"
   ]
  },
  {
   "cell_type": "markdown",
   "id": "6bfbaa95",
   "metadata": {},
   "source": [
    "# Encoding of Constraints"
   ]
  },
  {
   "cell_type": "code",
   "execution_count": null,
   "id": "277815e4",
   "metadata": {},
   "outputs": [],
   "source": [
    "mct_list=[]\n",
    "\n",
    "# Inequalities\n",
    "check_inequality(qc, a, b, anc[0])\n",
    "mct_list.append(anc[0])\n",
    "check_inequality(qc, b, d, anc[1])\n",
    "mct_list.append(anc[1])\n",
    "check_inequality(qc, d, c, anc[2])\n",
    "mct_list.append(anc[2])\n",
    "check_inequality(qc, c, a, anc[3])\n",
    "mct_list.append(anc[3])\n",
    "\n",
    "\n",
    "# Equalities\n",
    "tmp_1 = add_two_numbers(qc, a, b, anc[4:8], anc[8], anc[9])\n",
    "check_equality(qc, s2, tmp_1, anc[10])\n",
    "mct_list.append(anc[10])\n",
    "\n",
    "tmp_2 = add_two_numbers(qc, c, d, anc[11:15], anc[15], anc[16])\n",
    "check_equality(qc, s3, tmp_2, anc[17])\n",
    "mct_list.append(anc[17])\n",
    "\n",
    "tmp_3 = add_two_numbers(qc, b, d, anc[18:22], anc[22], anc[23])\n",
    "check_equality(qc, s1, tmp_3, anc[24])\n",
    "mct_list.append(anc[24])\n",
    "\n",
    "tmp_4 = add_two_numbers(qc, a, c, anc[25:29], anc[29], anc[30])\n",
    "check_equality(qc, s0, tmp_4, anc[31])\n",
    "mct_list.append(anc[31])"
   ]
  },
  {
   "cell_type": "markdown",
   "id": "f337fac9",
   "metadata": {},
   "source": [
    "# Create Oracle"
   ]
  },
  {
   "cell_type": "code",
   "execution_count": null,
   "id": "66bee136",
   "metadata": {},
   "outputs": [],
   "source": [
    "compute = qc.to_instruction()\n",
    "\n",
    "# mark solution\n",
    "qc.mct(mct_list, flag, ancilla_qubits=anc_mct, mode='v-chain')\n",
    "\n",
    "# uncompute\n",
    "uncompute = compute.inverse()\n",
    "uncompute.name = 'uncompute'\n",
    "qc.append(uncompute, range(qc.num_qubits))\n",
    "\n",
    "\n",
    "print(\"Complete Oracle (CX): \", transpile(qc, basis_gates=['u', 'cx']).count_ops()['cx'])\n",
    "print(\"Complete Oracle (U): \", transpile(qc, basis_gates=['u', 'cx']).count_ops()['u'])\n",
    "oracle = qc.to_instruction(label='oracle')\n",
    "qc.draw(output='mpl', fold=-1)"
   ]
  },
  {
   "cell_type": "markdown",
   "id": "3f416420",
   "metadata": {},
   "source": [
    "# Testing the Oracle"
   ]
  },
  {
   "cell_type": "code",
   "execution_count": null,
   "id": "8f37b368",
   "metadata": {},
   "outputs": [],
   "source": [
    "from qiskit.algorithms import Grover\n",
    "import numpy as np\n",
    "from mqt import ddsim\n",
    "backend = ddsim.DDSIMProvider().get_backend('qasm_simulator')\n",
    "print(nqubits+nancilla, oracle.num_qubits)\n",
    "for i in range(2**8):\n",
    "    new = QuantumCircuit(nqubits+nancilla, 1)\n",
    "    for j in range(8):\n",
    "        if (i>>j) % 2 == 1:\n",
    "            new.x(j)\n",
    "    new.append(oracle, range(nqubits+nancilla))\n",
    "    new.measure(57, 0)\n",
    "\n",
    "    job = execute(new, backend, shots=10)\n",
    "    counts = job.result().get_counts(new)\n",
    "    print(\"{0:b}\".format(i), counts)\n",
    "    #if counts.get(\"1\"):\n",
    "        #print(\"{0:b}\".format(i), counts)\n"
   ]
  },
  {
   "cell_type": "markdown",
   "id": "99ef29a5",
   "metadata": {},
   "source": [
    "# Embedding in Grover Algorithm"
   ]
  },
  {
   "cell_type": "code",
   "execution_count": null,
   "id": "fcf6a0a9",
   "metadata": {},
   "outputs": [],
   "source": [
    "from qiskit.algorithms import Grover\n",
    "import numpy as np\n",
    "from mqt import ddsim\n",
    "\n",
    "qc = QuantumCircuit(nqubits+nancilla, ninputs)\n",
    "qc.h(range(ninputs))\n",
    "qc.x(nqubits+nancilla-1)\n",
    "qc.h(nqubits+nancilla-1)\n",
    "\n",
    "num_iterations = Grover.optimal_num_iterations(1, ninputs)\n",
    "\n",
    "#print(num_iterations)\n",
    "for _ in range(num_iterations):\n",
    "    qc.append(oracle, range(nqubits+nancilla))\n",
    "    qc.h(range(ninputs))\n",
    "    qc.x(range(ninputs))\n",
    "    qc.mcp(np.pi, list(range(ninputs-1)), ninputs-1)\n",
    "    qc.x(range(ninputs))\n",
    "    qc.h(range(ninputs))\n",
    "qc.measure(range(ninputs), range(ninputs))\n",
    "qc.qasm(filename='grover_algorithm.qasm')\n",
    "\n",
    "backend = ddsim.DDSIMProvider().get_backend('qasm_simulator')\n",
    "job = execute(qc, backend, shots=1)\n",
    "counts = job.result().get_counts(qc)\n",
    "print(counts)"
   ]
  },
  {
   "cell_type": "markdown",
   "id": "8419d61a",
   "metadata": {},
   "source": [
    "# Archiv: Classiq"
   ]
  },
  {
   "cell_type": "code",
   "execution_count": null,
   "id": "d09ed70a",
   "metadata": {
    "pycharm": {
     "name": "#%%\n"
    }
   },
   "outputs": [],
   "source": [
    "qc = QuantumCircuit(x0, x1, x2, x3MSQ, x3LSQ, x4, x5, x6, anc, anc_mct, flag)\n",
    "\n",
    "# (x0 != x1) -> anc[0]\n",
    "qc.cx(x0,x1)\n",
    "qc.cx(x1,anc[0])\n",
    "qc.cx(x0,x1)\n",
    "qc.barrier()\n",
    "\n",
    "# (x5 != x6) -> anc[1]\n",
    "qc.cx(x5,x6)\n",
    "qc.cx(x6,anc[1])\n",
    "qc.cx(x5,x6)\n",
    "qc.barrier()\n",
    "\n",
    "# (x0 != x2) -> anc[2]\n",
    "qc.cx(x0,x2)\n",
    "qc.cx(x2,anc[2])\n",
    "qc.cx(x0,x2)\n",
    "qc.barrier()\n",
    "\n",
    "# (x1 != x5) -> anc[3]\n",
    "qc.cx(x1,x5)\n",
    "qc.cx(x5,anc[3])\n",
    "qc.cx(x1,x5)\n",
    "qc.barrier()\n",
    "\n",
    "# (x4 != x6) -> anc[4]\n",
    "qc.cx(x4,x6)\n",
    "qc.cx(x6,anc[4])\n",
    "qc.cx(x4,x6)\n",
    "qc.barrier()\n",
    "\n",
    "# (x3 != x4) -> anc[5]\n",
    "qc.cx(x3LSQ, x4)\n",
    "qc.x(x4)\n",
    "qc.x(x3MSQ)\n",
    "qc.rccx(x3MSQ, x4, anc[5])\n",
    "qc.x(x4)\n",
    "qc.cx(x3LSQ, x4)\n",
    "qc.x(x3MSQ)\n",
    "qc.x(anc[5])\n",
    "qc.barrier()\n",
    "\n",
    "# (x1 != x3) -> anc[6]\n",
    "qc.cx(x3LSQ, x1)\n",
    "qc.x(x1)\n",
    "qc.x(x3MSQ)\n",
    "qc.rccx(x3MSQ, x1, anc[6])\n",
    "qc.x(x1)\n",
    "qc.cx(x3LSQ, x1)\n",
    "qc.x(x3MSQ)\n",
    "qc.x(anc[6])\n",
    "qc.barrier()\n",
    "\n",
    "# (x3 != x5) -> anc[7]\n",
    "qc.cx(x3LSQ, x5)\n",
    "qc.x(x5)\n",
    "qc.x(x3MSQ)\n",
    "qc.rccx(x3MSQ, x5, anc[7])\n",
    "qc.x(x5)\n",
    "qc.cx(x3LSQ, x5)\n",
    "qc.x(x3MSQ)\n",
    "qc.x(anc[7])\n",
    "qc.barrier()\n",
    "\n",
    "# (x3 == 2) -> anc[8]\n",
    "qc.x(x3LSQ)\n",
    "qc.rccx(x3LSQ, x3MSQ, anc[8])\n",
    "qc.x(x3LSQ)\n",
    "qc.barrier()\n",
    "\n",
    "# (x2 + 2 != x3) -> anc[9]\n",
    "qc.cx(x2, x3LSQ)\n",
    "qc.x(x3LSQ)\n",
    "qc.rccx(x3MSQ, x3LSQ, anc[9])\n",
    "qc.x(x3LSQ)\n",
    "qc.x(anc[9])\n",
    "qc.cx(x2, x3LSQ)\n",
    "qc.barrier()\n",
    "\n",
    "\n",
    "# (x2 + x4 + x3 == 3) -> anc[10]\n",
    "qc.rccx(x3LSQ, x2, anc[11])\n",
    "qc.cx(x3LSQ, x2)\n",
    "qc.rccx(x2, x4, anc[11])\n",
    "qc.cx(x2, x4)\n",
    "qc.rccx(x3MSQ, anc[11], anc[12])\n",
    "qc.cx(x3MSQ, anc[11])\n",
    "qc.x(anc[12])\n",
    "\n",
    "qc.rcccx(x4, anc[11], anc[12], anc[10])\n",
    "\n",
    "qc.x(anc[12])\n",
    "qc.cx(x3MSQ, anc[11])\n",
    "qc.rccx(x3MSQ, anc[11], anc[12])\n",
    "qc.cx(x2, x4)\n",
    "qc.rccx(x2, x4, anc[11])\n",
    "qc.cx(x3LSQ, x2)\n",
    "qc.rccx(x3LSQ, x2, anc[11])\n",
    "qc.barrier()\n",
    "\n",
    "compute = qc.to_instruction()\n",
    "\n",
    "# mark solution\n",
    "qc.mct(anc[0:ncond], flag, ancilla_qubits=anc_mct, mode='v-chain')\n",
    "\n",
    "# uncompute\n",
    "uncompute = compute.inverse()\n",
    "uncompute.name = 'uncompute'\n",
    "qc.append(uncompute, range(qc.num_qubits))\n",
    "\n",
    "print(\"Complete Oracle (CX): \", transpile(qc, basis_gates=['u', 'cx']).count_ops()['cx'])\n",
    "print(\"Complete Oracle (U): \", transpile(qc, basis_gates=['u', 'cx']).count_ops()['u'])\n",
    "\n",
    "qc.qasm(filename='oracle.qasm')\n",
    "oracle = qc.to_instruction(label='oracle')\n",
    "qc.draw(fold=-1, output='mpl')"
   ]
  },
  {
   "cell_type": "code",
   "execution_count": null,
   "id": "cf0a43e6",
   "metadata": {
    "pycharm": {
     "name": "#%%\n"
    }
   },
   "outputs": [],
   "source": [
    "from qiskit.algorithms import Grover\n",
    "import numpy as np\n",
    "from mqt import ddsim\n",
    "\n",
    "qc = QuantumCircuit(nqubits+nancilla, ninputs)\n",
    "qc.h(range(ninputs))\n",
    "qc.x(nqubits+nancilla-1)\n",
    "qc.h(nqubits+nancilla-1)\n",
    "\n",
    "num_iterations = Grover.optimal_num_iterations(1, ninputs)\n",
    "\n",
    "#print(num_iterations)\n",
    "for _ in range(num_iterations):\n",
    "    qc.append(oracle, range(nqubits+nancilla))\n",
    "    qc.h(range(ninputs))\n",
    "    qc.x(range(ninputs))\n",
    "    qc.mcp(np.pi, list(range(ninputs-1)), ninputs-1)\n",
    "    qc.x(range(ninputs))\n",
    "    qc.h(range(ninputs))\n",
    "qc.measure(range(ninputs), range(ninputs))\n",
    "qc.qasm(filename='grover_algorithm.qasm')\n",
    "\n",
    "backend = ddsim.DDSIMProvider().get_backend('qasm_simulator')\n",
    "job = execute(qc, backend, shots=10000)\n",
    "counts = job.result().get_counts(qc)\n",
    "print(counts)"
   ]
  },
  {
   "cell_type": "code",
   "execution_count": null,
   "id": "40567aef",
   "metadata": {
    "pycharm": {
     "name": "#%%\n"
    }
   },
   "outputs": [],
   "source": [
    "qc.draw(fold=-1, output='mpl')"
   ]
  },
  {
   "cell_type": "markdown",
   "id": "6ada6777",
   "metadata": {
    "pycharm": {
     "name": "#%% md\n"
    }
   },
   "source": [
    "# Straight-forward Oracle Definition\n",
    "\n",
    "In the following, all constraints are combined in a sequential fashion and a large multi-controlled Toffoli gate is used to mark the desired states. Then all constraints are properly uncomputed again."
   ]
  }
 ],
 "metadata": {
  "kernelspec": {
   "display_name": "Python 3 (ipykernel)",
   "language": "python",
   "name": "python3"
  },
  "language_info": {
   "codemirror_mode": {
    "name": "ipython",
    "version": 3
   },
   "file_extension": ".py",
   "mimetype": "text/x-python",
   "name": "python",
   "nbconvert_exporter": "python",
   "pygments_lexer": "ipython3",
   "version": "3.9.12"
  }
 },
 "nbformat": 4,
 "nbformat_minor": 5
}
